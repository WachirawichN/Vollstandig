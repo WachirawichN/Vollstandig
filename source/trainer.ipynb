{
 "cells": [
  {
   "cell_type": "markdown",
   "metadata": {},
   "source": [
    "# Libraries + Setting up PATH"
   ]
  },
  {
   "cell_type": "code",
   "execution_count": 1,
   "metadata": {},
   "outputs": [],
   "source": [
    "import pandas as pd\n",
    "from PIL import Image\n",
    "from tqdm import tqdm\n",
    "import os\n",
    "from pathlib import Path\n",
    "from glob import glob\n",
    "import cv2"
   ]
  },
  {
   "cell_type": "code",
   "execution_count": 2,
   "metadata": {},
   "outputs": [],
   "source": [
    "import torch\n",
    "import torch.nn as nn\n",
    "import torch.optim as optim\n",
    "import torch.amp as amp\n",
    "from torchsummary import summary\n",
    "\n",
    "from torch.utils.data import Dataset, DataLoader\n",
    "from sklearn.model_selection import train_test_split\n",
    "\n",
    "import torchvision.transforms as transforms\n",
    "import torchvision.transforms.v2 as v2"
   ]
  },
  {
   "cell_type": "code",
   "execution_count": 3,
   "metadata": {},
   "outputs": [],
   "source": [
    "parentDir = Path(os.path.abspath(\"\"))"
   ]
  },
  {
   "cell_type": "markdown",
   "metadata": {},
   "source": [
    "# Dataset"
   ]
  },
  {
   "cell_type": "markdown",
   "metadata": {},
   "source": [
    "## Dataset files"
   ]
  },
  {
   "cell_type": "code",
   "execution_count": 4,
   "metadata": {},
   "outputs": [],
   "source": [
    "datasetDir = parentDir.joinpath(\"dataset-generator/data/poseLandmarkDataset\")"
   ]
  },
  {
   "cell_type": "code",
   "execution_count": 5,
   "metadata": {},
   "outputs": [],
   "source": [
    "csvFile = datasetDir.joinpath(\"coordinate.csv\")\n",
    "coordinateDf = pd.read_csv(csvFile)"
   ]
  },
  {
   "cell_type": "code",
   "execution_count": 6,
   "metadata": {},
   "outputs": [
    {
     "data": {
      "text/html": [
       "<div>\n",
       "<style scoped>\n",
       "    .dataframe tbody tr th:only-of-type {\n",
       "        vertical-align: middle;\n",
       "    }\n",
       "\n",
       "    .dataframe tbody tr th {\n",
       "        vertical-align: top;\n",
       "    }\n",
       "\n",
       "    .dataframe thead th {\n",
       "        text-align: right;\n",
       "    }\n",
       "</style>\n",
       "<table border=\"1\" class=\"dataframe\">\n",
       "  <thead>\n",
       "    <tr style=\"text-align: right;\">\n",
       "      <th></th>\n",
       "      <th>image</th>\n",
       "      <th>head_x</th>\n",
       "      <th>head_y</th>\n",
       "      <th>neck_x</th>\n",
       "      <th>neck_y</th>\n",
       "      <th>torso_x</th>\n",
       "      <th>torso_y</th>\n",
       "      <th>left_shoulder_x</th>\n",
       "      <th>left_shoulder_y</th>\n",
       "      <th>left_elbow_x</th>\n",
       "      <th>...</th>\n",
       "      <th>left_foot_toe_x</th>\n",
       "      <th>left_foot_toe_y</th>\n",
       "      <th>right_hip_x</th>\n",
       "      <th>right_hip_y</th>\n",
       "      <th>right_knee_x</th>\n",
       "      <th>right_knee_y</th>\n",
       "      <th>right_heel_x</th>\n",
       "      <th>right_heel_y</th>\n",
       "      <th>right_foot_toe_x</th>\n",
       "      <th>right_foot_toe_y</th>\n",
       "    </tr>\n",
       "  </thead>\n",
       "  <tbody>\n",
       "    <tr>\n",
       "      <th>0</th>\n",
       "      <td>20240925_192500_312.jpg</td>\n",
       "      <td>0.630556</td>\n",
       "      <td>0.205556</td>\n",
       "      <td>0.636111</td>\n",
       "      <td>0.258333</td>\n",
       "      <td>0.652778</td>\n",
       "      <td>0.402778</td>\n",
       "      <td>0.733333</td>\n",
       "      <td>0.305556</td>\n",
       "      <td>0.813889</td>\n",
       "      <td>...</td>\n",
       "      <td>0.708333</td>\n",
       "      <td>0.980556</td>\n",
       "      <td>0.597222</td>\n",
       "      <td>0.597222</td>\n",
       "      <td>0.586111</td>\n",
       "      <td>0.758333</td>\n",
       "      <td>0.580556</td>\n",
       "      <td>0.961111</td>\n",
       "      <td>0.530556</td>\n",
       "      <td>0.972222</td>\n",
       "    </tr>\n",
       "    <tr>\n",
       "      <th>1</th>\n",
       "      <td>20240928_105700_65.jpg</td>\n",
       "      <td>0.555556</td>\n",
       "      <td>0.044444</td>\n",
       "      <td>0.547222</td>\n",
       "      <td>0.127778</td>\n",
       "      <td>0.547222</td>\n",
       "      <td>0.288889</td>\n",
       "      <td>0.438889</td>\n",
       "      <td>0.169444</td>\n",
       "      <td>0.352778</td>\n",
       "      <td>...</td>\n",
       "      <td>0.450000</td>\n",
       "      <td>0.961111</td>\n",
       "      <td>0.608333</td>\n",
       "      <td>0.486111</td>\n",
       "      <td>0.613889</td>\n",
       "      <td>0.705556</td>\n",
       "      <td>0.630556</td>\n",
       "      <td>0.922222</td>\n",
       "      <td>0.677778</td>\n",
       "      <td>0.977778</td>\n",
       "    </tr>\n",
       "    <tr>\n",
       "      <th>2</th>\n",
       "      <td>20240925_192500_707.jpg</td>\n",
       "      <td>0.541667</td>\n",
       "      <td>0.233333</td>\n",
       "      <td>0.538889</td>\n",
       "      <td>0.313889</td>\n",
       "      <td>0.525000</td>\n",
       "      <td>0.450000</td>\n",
       "      <td>0.452778</td>\n",
       "      <td>0.352778</td>\n",
       "      <td>0.422222</td>\n",
       "      <td>...</td>\n",
       "      <td>0.441667</td>\n",
       "      <td>0.972222</td>\n",
       "      <td>0.569444</td>\n",
       "      <td>0.591667</td>\n",
       "      <td>0.613889</td>\n",
       "      <td>0.725000</td>\n",
       "      <td>0.644444</td>\n",
       "      <td>0.947222</td>\n",
       "      <td>0.691667</td>\n",
       "      <td>0.977778</td>\n",
       "    </tr>\n",
       "    <tr>\n",
       "      <th>3</th>\n",
       "      <td>20240928_105700_132.jpg</td>\n",
       "      <td>0.561111</td>\n",
       "      <td>0.072222</td>\n",
       "      <td>0.563889</td>\n",
       "      <td>0.147222</td>\n",
       "      <td>0.555556</td>\n",
       "      <td>0.302778</td>\n",
       "      <td>0.452778</td>\n",
       "      <td>0.188889</td>\n",
       "      <td>0.325000</td>\n",
       "      <td>...</td>\n",
       "      <td>0.458333</td>\n",
       "      <td>0.983333</td>\n",
       "      <td>0.619444</td>\n",
       "      <td>0.480556</td>\n",
       "      <td>0.613889</td>\n",
       "      <td>0.663889</td>\n",
       "      <td>0.625000</td>\n",
       "      <td>0.919444</td>\n",
       "      <td>0.663889</td>\n",
       "      <td>0.969444</td>\n",
       "    </tr>\n",
       "    <tr>\n",
       "      <th>4</th>\n",
       "      <td>20240928_105700_259.jpg</td>\n",
       "      <td>0.516667</td>\n",
       "      <td>0.044444</td>\n",
       "      <td>0.558333</td>\n",
       "      <td>0.086111</td>\n",
       "      <td>0.613889</td>\n",
       "      <td>0.288889</td>\n",
       "      <td>0.658333</td>\n",
       "      <td>0.197222</td>\n",
       "      <td>0.730556</td>\n",
       "      <td>...</td>\n",
       "      <td>0.616667</td>\n",
       "      <td>0.961111</td>\n",
       "      <td>0.550000</td>\n",
       "      <td>0.458333</td>\n",
       "      <td>0.522222</td>\n",
       "      <td>0.700000</td>\n",
       "      <td>0.572222</td>\n",
       "      <td>0.980556</td>\n",
       "      <td>0.488889</td>\n",
       "      <td>0.972222</td>\n",
       "    </tr>\n",
       "    <tr>\n",
       "      <th>...</th>\n",
       "      <td>...</td>\n",
       "      <td>...</td>\n",
       "      <td>...</td>\n",
       "      <td>...</td>\n",
       "      <td>...</td>\n",
       "      <td>...</td>\n",
       "      <td>...</td>\n",
       "      <td>...</td>\n",
       "      <td>...</td>\n",
       "      <td>...</td>\n",
       "      <td>...</td>\n",
       "      <td>...</td>\n",
       "      <td>...</td>\n",
       "      <td>...</td>\n",
       "      <td>...</td>\n",
       "      <td>...</td>\n",
       "      <td>...</td>\n",
       "      <td>...</td>\n",
       "      <td>...</td>\n",
       "      <td>...</td>\n",
       "      <td>...</td>\n",
       "    </tr>\n",
       "    <tr>\n",
       "      <th>446</th>\n",
       "      <td>20240925_192500_487.jpg</td>\n",
       "      <td>0.491667</td>\n",
       "      <td>0.236111</td>\n",
       "      <td>0.497222</td>\n",
       "      <td>0.302778</td>\n",
       "      <td>0.488889</td>\n",
       "      <td>0.444444</td>\n",
       "      <td>0.419444</td>\n",
       "      <td>0.358333</td>\n",
       "      <td>0.422222</td>\n",
       "      <td>...</td>\n",
       "      <td>0.427778</td>\n",
       "      <td>0.994444</td>\n",
       "      <td>0.547222</td>\n",
       "      <td>0.608333</td>\n",
       "      <td>0.541667</td>\n",
       "      <td>0.758333</td>\n",
       "      <td>0.530556</td>\n",
       "      <td>0.966667</td>\n",
       "      <td>0.550000</td>\n",
       "      <td>0.994444</td>\n",
       "    </tr>\n",
       "    <tr>\n",
       "      <th>447</th>\n",
       "      <td>20240925_192500_32.jpg</td>\n",
       "      <td>0.522222</td>\n",
       "      <td>0.180556</td>\n",
       "      <td>0.516667</td>\n",
       "      <td>0.250000</td>\n",
       "      <td>0.508333</td>\n",
       "      <td>0.436111</td>\n",
       "      <td>0.422222</td>\n",
       "      <td>0.302778</td>\n",
       "      <td>0.363889</td>\n",
       "      <td>...</td>\n",
       "      <td>0.441667</td>\n",
       "      <td>0.988889</td>\n",
       "      <td>0.555556</td>\n",
       "      <td>0.622222</td>\n",
       "      <td>0.533333</td>\n",
       "      <td>0.822222</td>\n",
       "      <td>0.538889</td>\n",
       "      <td>0.991667</td>\n",
       "      <td>0.000000</td>\n",
       "      <td>0.000000</td>\n",
       "    </tr>\n",
       "    <tr>\n",
       "      <th>448</th>\n",
       "      <td>20240925_192500_690.jpg</td>\n",
       "      <td>0.647222</td>\n",
       "      <td>0.241667</td>\n",
       "      <td>0.638889</td>\n",
       "      <td>0.294444</td>\n",
       "      <td>0.650000</td>\n",
       "      <td>0.455556</td>\n",
       "      <td>0.558333</td>\n",
       "      <td>0.341667</td>\n",
       "      <td>0.516667</td>\n",
       "      <td>...</td>\n",
       "      <td>0.597222</td>\n",
       "      <td>0.980556</td>\n",
       "      <td>0.694444</td>\n",
       "      <td>0.597222</td>\n",
       "      <td>0.686111</td>\n",
       "      <td>0.750000</td>\n",
       "      <td>0.661111</td>\n",
       "      <td>0.947222</td>\n",
       "      <td>0.697222</td>\n",
       "      <td>0.972222</td>\n",
       "    </tr>\n",
       "    <tr>\n",
       "      <th>449</th>\n",
       "      <td>20240928_105700_696.jpg</td>\n",
       "      <td>0.000000</td>\n",
       "      <td>0.000000</td>\n",
       "      <td>0.000000</td>\n",
       "      <td>0.000000</td>\n",
       "      <td>0.550000</td>\n",
       "      <td>0.291667</td>\n",
       "      <td>0.219444</td>\n",
       "      <td>0.013889</td>\n",
       "      <td>0.266667</td>\n",
       "      <td>...</td>\n",
       "      <td>0.000000</td>\n",
       "      <td>0.000000</td>\n",
       "      <td>0.716667</td>\n",
       "      <td>0.613889</td>\n",
       "      <td>0.000000</td>\n",
       "      <td>0.000000</td>\n",
       "      <td>0.000000</td>\n",
       "      <td>0.000000</td>\n",
       "      <td>0.000000</td>\n",
       "      <td>0.000000</td>\n",
       "    </tr>\n",
       "    <tr>\n",
       "      <th>450</th>\n",
       "      <td>20240925_192500_353.jpg</td>\n",
       "      <td>0.433333</td>\n",
       "      <td>0.247222</td>\n",
       "      <td>0.455556</td>\n",
       "      <td>0.283333</td>\n",
       "      <td>0.483333</td>\n",
       "      <td>0.450000</td>\n",
       "      <td>0.541667</td>\n",
       "      <td>0.366667</td>\n",
       "      <td>0.577778</td>\n",
       "      <td>...</td>\n",
       "      <td>0.466667</td>\n",
       "      <td>0.963889</td>\n",
       "      <td>0.433333</td>\n",
       "      <td>0.605556</td>\n",
       "      <td>0.397222</td>\n",
       "      <td>0.780556</td>\n",
       "      <td>0.422222</td>\n",
       "      <td>0.986111</td>\n",
       "      <td>0.397222</td>\n",
       "      <td>0.997222</td>\n",
       "    </tr>\n",
       "  </tbody>\n",
       "</table>\n",
       "<p>451 rows × 35 columns</p>\n",
       "</div>"
      ],
      "text/plain": [
       "                       image    head_x    head_y    neck_x    neck_y  \\\n",
       "0    20240925_192500_312.jpg  0.630556  0.205556  0.636111  0.258333   \n",
       "1     20240928_105700_65.jpg  0.555556  0.044444  0.547222  0.127778   \n",
       "2    20240925_192500_707.jpg  0.541667  0.233333  0.538889  0.313889   \n",
       "3    20240928_105700_132.jpg  0.561111  0.072222  0.563889  0.147222   \n",
       "4    20240928_105700_259.jpg  0.516667  0.044444  0.558333  0.086111   \n",
       "..                       ...       ...       ...       ...       ...   \n",
       "446  20240925_192500_487.jpg  0.491667  0.236111  0.497222  0.302778   \n",
       "447   20240925_192500_32.jpg  0.522222  0.180556  0.516667  0.250000   \n",
       "448  20240925_192500_690.jpg  0.647222  0.241667  0.638889  0.294444   \n",
       "449  20240928_105700_696.jpg  0.000000  0.000000  0.000000  0.000000   \n",
       "450  20240925_192500_353.jpg  0.433333  0.247222  0.455556  0.283333   \n",
       "\n",
       "      torso_x   torso_y  left_shoulder_x  left_shoulder_y  left_elbow_x  ...  \\\n",
       "0    0.652778  0.402778         0.733333         0.305556      0.813889  ...   \n",
       "1    0.547222  0.288889         0.438889         0.169444      0.352778  ...   \n",
       "2    0.525000  0.450000         0.452778         0.352778      0.422222  ...   \n",
       "3    0.555556  0.302778         0.452778         0.188889      0.325000  ...   \n",
       "4    0.613889  0.288889         0.658333         0.197222      0.730556  ...   \n",
       "..        ...       ...              ...              ...           ...  ...   \n",
       "446  0.488889  0.444444         0.419444         0.358333      0.422222  ...   \n",
       "447  0.508333  0.436111         0.422222         0.302778      0.363889  ...   \n",
       "448  0.650000  0.455556         0.558333         0.341667      0.516667  ...   \n",
       "449  0.550000  0.291667         0.219444         0.013889      0.266667  ...   \n",
       "450  0.483333  0.450000         0.541667         0.366667      0.577778  ...   \n",
       "\n",
       "     left_foot_toe_x  left_foot_toe_y  right_hip_x  right_hip_y  right_knee_x  \\\n",
       "0           0.708333         0.980556     0.597222     0.597222      0.586111   \n",
       "1           0.450000         0.961111     0.608333     0.486111      0.613889   \n",
       "2           0.441667         0.972222     0.569444     0.591667      0.613889   \n",
       "3           0.458333         0.983333     0.619444     0.480556      0.613889   \n",
       "4           0.616667         0.961111     0.550000     0.458333      0.522222   \n",
       "..               ...              ...          ...          ...           ...   \n",
       "446         0.427778         0.994444     0.547222     0.608333      0.541667   \n",
       "447         0.441667         0.988889     0.555556     0.622222      0.533333   \n",
       "448         0.597222         0.980556     0.694444     0.597222      0.686111   \n",
       "449         0.000000         0.000000     0.716667     0.613889      0.000000   \n",
       "450         0.466667         0.963889     0.433333     0.605556      0.397222   \n",
       "\n",
       "     right_knee_y  right_heel_x  right_heel_y  right_foot_toe_x  \\\n",
       "0        0.758333      0.580556      0.961111          0.530556   \n",
       "1        0.705556      0.630556      0.922222          0.677778   \n",
       "2        0.725000      0.644444      0.947222          0.691667   \n",
       "3        0.663889      0.625000      0.919444          0.663889   \n",
       "4        0.700000      0.572222      0.980556          0.488889   \n",
       "..            ...           ...           ...               ...   \n",
       "446      0.758333      0.530556      0.966667          0.550000   \n",
       "447      0.822222      0.538889      0.991667          0.000000   \n",
       "448      0.750000      0.661111      0.947222          0.697222   \n",
       "449      0.000000      0.000000      0.000000          0.000000   \n",
       "450      0.780556      0.422222      0.986111          0.397222   \n",
       "\n",
       "     right_foot_toe_y  \n",
       "0            0.972222  \n",
       "1            0.977778  \n",
       "2            0.977778  \n",
       "3            0.969444  \n",
       "4            0.972222  \n",
       "..                ...  \n",
       "446          0.994444  \n",
       "447          0.000000  \n",
       "448          0.972222  \n",
       "449          0.000000  \n",
       "450          0.997222  \n",
       "\n",
       "[451 rows x 35 columns]"
      ]
     },
     "execution_count": 6,
     "metadata": {},
     "output_type": "execute_result"
    }
   ],
   "source": [
    "coordinateDf"
   ]
  },
  {
   "cell_type": "markdown",
   "metadata": {},
   "source": [
    "## Dataset stuff"
   ]
  },
  {
   "cell_type": "code",
   "execution_count": 7,
   "metadata": {},
   "outputs": [],
   "source": [
    "class landmarksDataset(Dataset):\n",
    "    def __init__(self, csvFile, imageDir, transformer):\n",
    "        self.transformer = transformer\n",
    "        self.imageDir = imageDir\n",
    "        self.sample = []\n",
    "\n",
    "        df = pd.read_csv(csvFile)\n",
    "        imagesFile = df.pop(\"image\").values\n",
    "        landmarks = df\n",
    "        for index in range(len(imagesFile)):\n",
    "            landmarkCoordinates = landmarks.iloc[index].values\n",
    "            self.sample.append((\n",
    "                f\"{imageDir}/{imagesFile[index]}\",\n",
    "                (\n",
    "                    (landmarkCoordinates[0], landmarkCoordinates[1]),\n",
    "                    (landmarkCoordinates[2], landmarkCoordinates[3]),\n",
    "                    (landmarkCoordinates[4], landmarkCoordinates[5]),\n",
    "\n",
    "                    (landmarkCoordinates[6], landmarkCoordinates[7]),\n",
    "                    (landmarkCoordinates[8], landmarkCoordinates[9]),\n",
    "                    (landmarkCoordinates[10], landmarkCoordinates[11]),\n",
    "                    \n",
    "                    (landmarkCoordinates[12], landmarkCoordinates[13]),\n",
    "                    (landmarkCoordinates[14], landmarkCoordinates[15]),\n",
    "                    (landmarkCoordinates[16], landmarkCoordinates[17]),\n",
    "                    \n",
    "                    (landmarkCoordinates[18], landmarkCoordinates[19]),\n",
    "                    (landmarkCoordinates[20], landmarkCoordinates[21]),\n",
    "                    (landmarkCoordinates[22], landmarkCoordinates[23]),\n",
    "                    (landmarkCoordinates[24], landmarkCoordinates[25]),\n",
    "\n",
    "                    (landmarkCoordinates[26], landmarkCoordinates[27]),\n",
    "                    (landmarkCoordinates[28], landmarkCoordinates[29]),\n",
    "                    (landmarkCoordinates[30], landmarkCoordinates[31]),\n",
    "                    (landmarkCoordinates[32], landmarkCoordinates[33])\n",
    "                )\n",
    "                ))\n",
    "\n",
    "    def __len__(self):\n",
    "        return len(self.sample)\n",
    "    \n",
    "    def __getitem__(self, index):\n",
    "        imgPath, landmarks = self.sample[index]\n",
    "        landmarks = torch.tensor(landmarks)\n",
    "        image = Image.open(imgPath).convert(\"RGB\")\n",
    "        if self.transformer:\n",
    "            image = self.transformer(image) / 255\n",
    "        return image, landmarks"
   ]
  },
  {
   "cell_type": "code",
   "execution_count": 8,
   "metadata": {},
   "outputs": [],
   "source": [
    "def loadDataset(csvFile, imageDir, transformer=None, batchSize=16, splitRatio=0.2, worker=16):\n",
    "    dataset = landmarksDataset(csvFile, imageDir, transformer)\n",
    "    trainDataset, testDataset = train_test_split(dataset, test_size=splitRatio)\n",
    "    print(f\"Train dataset size: {len(trainDataset)}, Test dataset size: {len(testDataset)}\")\n",
    "    \n",
    "    trainLoader = DataLoader(trainDataset, batch_size=batchSize, num_workers=worker)\n",
    "    testLoader = DataLoader(testDataset, batch_size=batchSize, num_workers=worker)\n",
    "    return trainLoader, testLoader"
   ]
  },
  {
   "cell_type": "code",
   "execution_count": 9,
   "metadata": {},
   "outputs": [],
   "source": [
    "transformer = transforms.Compose([\n",
    "    v2.PILToTensor(),\n",
    "    v2.ToDtype(torch.float32),\n",
    "    v2.Resize(256)\n",
    "])"
   ]
  },
  {
   "cell_type": "markdown",
   "metadata": {},
   "source": [
    "# Model"
   ]
  },
  {
   "cell_type": "code",
   "execution_count": 10,
   "metadata": {},
   "outputs": [],
   "source": [
    "from poseLandmark import poseLandmark"
   ]
  },
  {
   "cell_type": "markdown",
   "metadata": {},
   "source": [
    "## Model debugging"
   ]
  },
  {
   "cell_type": "code",
   "execution_count": null,
   "metadata": {},
   "outputs": [
    {
     "name": "stdout",
     "output_type": "stream",
     "text": [
      "==========================================================================================\n",
      "Layer (type:depth-idx)                   Output Shape              Param #\n",
      "==========================================================================================\n",
      "├─Sequential: 1-1                        [-1, 65536]               --\n",
      "|    └─Conv2d: 2-1                       [-1, 16, 256, 256]        448\n",
      "|    └─ReLU: 2-2                         [-1, 16, 256, 256]        --\n",
      "|    └─Conv2d: 2-3                       [-1, 64, 256, 256]        9,280\n",
      "|    └─ReLU: 2-4                         [-1, 64, 256, 256]        --\n",
      "|    └─MaxPool2d: 2-5                    [-1, 64, 128, 128]        --\n",
      "|    └─BatchNorm2d: 2-6                  [-1, 64, 128, 128]        128\n",
      "|    └─Conv2d: 2-7                       [-1, 128, 128, 128]       73,856\n",
      "|    └─ReLU: 2-8                         [-1, 128, 128, 128]       --\n",
      "|    └─Conv2d: 2-9                       [-1, 256, 128, 128]       295,168\n",
      "|    └─ReLU: 2-10                        [-1, 256, 128, 128]       --\n",
      "|    └─MaxPool2d: 2-11                   [-1, 256, 64, 64]         --\n",
      "|    └─BatchNorm2d: 2-12                 [-1, 256, 64, 64]         512\n",
      "|    └─Conv2d: 2-13                      [-1, 384, 64, 64]         885,120\n",
      "|    └─ReLU: 2-14                        [-1, 384, 64, 64]         --\n",
      "|    └─Conv2d: 2-15                      [-1, 384, 64, 64]         1,327,488\n",
      "|    └─ReLU: 2-16                        [-1, 384, 64, 64]         --\n",
      "|    └─MaxPool2d: 2-17                   [-1, 384, 32, 32]         --\n",
      "|    └─BatchNorm2d: 2-18                 [-1, 384, 32, 32]         768\n",
      "|    └─Conv2d: 2-19                      [-1, 512, 32, 32]         1,769,984\n",
      "|    └─ReLU: 2-20                        [-1, 512, 32, 32]         --\n",
      "|    └─Conv2d: 2-21                      [-1, 512, 32, 32]         2,359,808\n",
      "|    └─ReLU: 2-22                        [-1, 512, 32, 32]         --\n",
      "|    └─MaxPool2d: 2-23                   [-1, 512, 16, 16]         --\n",
      "|    └─BatchNorm2d: 2-24                 [-1, 512, 16, 16]         1,024\n",
      "|    └─Conv2d: 2-25                      [-1, 1024, 16, 16]        4,719,616\n",
      "|    └─ReLU: 2-26                        [-1, 1024, 16, 16]        --\n",
      "|    └─Conv2d: 2-27                      [-1, 1024, 16, 16]        9,438,208\n",
      "|    └─ReLU: 2-28                        [-1, 1024, 16, 16]        --\n",
      "|    └─MaxPool2d: 2-29                   [-1, 1024, 8, 8]          --\n",
      "|    └─AdaptiveMaxPool2d: 2-30           [-1, 1024, 8, 8]          --\n",
      "|    └─Flatten: 2-31                     [-1, 65536]               --\n",
      "├─Sequential: 1-2                        [-1, 1024]                --\n",
      "|    └─Linear: 2-32                      [-1, 1024]                67,109,888\n",
      "|    └─Dropout: 2-33                     [-1, 1024]                --\n",
      "|    └─LeakyReLU: 2-34                   [-1, 1024]                --\n",
      "|    └─Linear: 2-35                      [-1, 1024]                1,049,600\n",
      "|    └─Dropout: 2-36                     [-1, 1024]                --\n",
      "|    └─LeakyReLU: 2-37                   [-1, 1024]                --\n",
      "├─Sequential: 1-3                        [-1, 2]                   --\n",
      "|    └─Linear: 2-38                      [-1, 32]                  32,800\n",
      "|    └─Dropout: 2-39                     [-1, 32]                  --\n",
      "|    └─Tanh: 2-40                        [-1, 32]                  --\n",
      "|    └─Linear: 2-41                      [-1, 2]                   66\n",
      "|    └─Sigmoid: 2-42                     [-1, 2]                   --\n",
      "├─Sequential: 1-4                        [-1, 2]                   --\n",
      "|    └─Linear: 2-43                      [-1, 32]                  32,800\n",
      "|    └─Dropout: 2-44                     [-1, 32]                  --\n",
      "|    └─Tanh: 2-45                        [-1, 32]                  --\n",
      "|    └─Linear: 2-46                      [-1, 2]                   66\n",
      "|    └─Sigmoid: 2-47                     [-1, 2]                   --\n",
      "├─Sequential: 1-5                        [-1, 2]                   --\n",
      "|    └─Linear: 2-48                      [-1, 32]                  32,800\n",
      "|    └─Dropout: 2-49                     [-1, 32]                  --\n",
      "|    └─Tanh: 2-50                        [-1, 32]                  --\n",
      "|    └─Linear: 2-51                      [-1, 2]                   66\n",
      "|    └─Sigmoid: 2-52                     [-1, 2]                   --\n",
      "├─Sequential: 1-6                        [-1, 2]                   --\n",
      "|    └─Linear: 2-53                      [-1, 32]                  32,800\n",
      "|    └─Dropout: 2-54                     [-1, 32]                  --\n",
      "|    └─Tanh: 2-55                        [-1, 32]                  --\n",
      "|    └─Linear: 2-56                      [-1, 2]                   66\n",
      "|    └─Sigmoid: 2-57                     [-1, 2]                   --\n",
      "├─Sequential: 1-7                        [-1, 2]                   --\n",
      "|    └─Linear: 2-58                      [-1, 32]                  32,800\n",
      "|    └─Dropout: 2-59                     [-1, 32]                  --\n",
      "|    └─Tanh: 2-60                        [-1, 32]                  --\n",
      "|    └─Linear: 2-61                      [-1, 2]                   66\n",
      "|    └─Sigmoid: 2-62                     [-1, 2]                   --\n",
      "├─Sequential: 1-8                        [-1, 2]                   --\n",
      "|    └─Linear: 2-63                      [-1, 32]                  32,800\n",
      "|    └─Dropout: 2-64                     [-1, 32]                  --\n",
      "|    └─Tanh: 2-65                        [-1, 32]                  --\n",
      "|    └─Linear: 2-66                      [-1, 2]                   66\n",
      "|    └─Sigmoid: 2-67                     [-1, 2]                   --\n",
      "├─Sequential: 1-9                        [-1, 2]                   --\n",
      "|    └─Linear: 2-68                      [-1, 32]                  32,800\n",
      "|    └─Dropout: 2-69                     [-1, 32]                  --\n",
      "|    └─Tanh: 2-70                        [-1, 32]                  --\n",
      "|    └─Linear: 2-71                      [-1, 2]                   66\n",
      "|    └─Sigmoid: 2-72                     [-1, 2]                   --\n",
      "├─Sequential: 1-10                       [-1, 2]                   --\n",
      "|    └─Linear: 2-73                      [-1, 32]                  32,800\n",
      "|    └─Dropout: 2-74                     [-1, 32]                  --\n",
      "|    └─Tanh: 2-75                        [-1, 32]                  --\n",
      "|    └─Linear: 2-76                      [-1, 2]                   66\n",
      "|    └─Sigmoid: 2-77                     [-1, 2]                   --\n",
      "├─Sequential: 1-11                       [-1, 2]                   --\n",
      "|    └─Linear: 2-78                      [-1, 32]                  32,800\n",
      "|    └─Dropout: 2-79                     [-1, 32]                  --\n",
      "|    └─Tanh: 2-80                        [-1, 32]                  --\n",
      "|    └─Linear: 2-81                      [-1, 2]                   66\n",
      "|    └─Sigmoid: 2-82                     [-1, 2]                   --\n",
      "├─Sequential: 1-12                       [-1, 2]                   --\n",
      "|    └─Linear: 2-83                      [-1, 32]                  32,800\n",
      "|    └─Dropout: 2-84                     [-1, 32]                  --\n",
      "|    └─Tanh: 2-85                        [-1, 32]                  --\n",
      "|    └─Linear: 2-86                      [-1, 2]                   66\n",
      "|    └─Sigmoid: 2-87                     [-1, 2]                   --\n",
      "├─Sequential: 1-13                       [-1, 2]                   --\n",
      "|    └─Linear: 2-88                      [-1, 32]                  32,800\n",
      "|    └─Dropout: 2-89                     [-1, 32]                  --\n",
      "|    └─Tanh: 2-90                        [-1, 32]                  --\n",
      "|    └─Linear: 2-91                      [-1, 2]                   66\n",
      "|    └─Sigmoid: 2-92                     [-1, 2]                   --\n",
      "├─Sequential: 1-14                       [-1, 2]                   --\n",
      "|    └─Linear: 2-93                      [-1, 32]                  32,800\n",
      "|    └─Dropout: 2-94                     [-1, 32]                  --\n",
      "|    └─Tanh: 2-95                        [-1, 32]                  --\n",
      "|    └─Linear: 2-96                      [-1, 2]                   66\n",
      "|    └─Sigmoid: 2-97                     [-1, 2]                   --\n",
      "├─Sequential: 1-15                       [-1, 2]                   --\n",
      "|    └─Linear: 2-98                      [-1, 32]                  32,800\n",
      "|    └─Dropout: 2-99                     [-1, 32]                  --\n",
      "|    └─Tanh: 2-100                       [-1, 32]                  --\n",
      "|    └─Linear: 2-101                     [-1, 2]                   66\n",
      "|    └─Sigmoid: 2-102                    [-1, 2]                   --\n",
      "├─Sequential: 1-16                       [-1, 2]                   --\n",
      "|    └─Linear: 2-103                     [-1, 32]                  32,800\n",
      "|    └─Dropout: 2-104                    [-1, 32]                  --\n",
      "|    └─Tanh: 2-105                       [-1, 32]                  --\n",
      "|    └─Linear: 2-106                     [-1, 2]                   66\n",
      "|    └─Sigmoid: 2-107                    [-1, 2]                   --\n",
      "├─Sequential: 1-17                       [-1, 2]                   --\n",
      "|    └─Linear: 2-108                     [-1, 32]                  32,800\n",
      "|    └─Dropout: 2-109                    [-1, 32]                  --\n",
      "|    └─Tanh: 2-110                       [-1, 32]                  --\n",
      "|    └─Linear: 2-111                     [-1, 2]                   66\n",
      "|    └─Sigmoid: 2-112                    [-1, 2]                   --\n",
      "├─Sequential: 1-18                       [-1, 2]                   --\n",
      "|    └─Linear: 2-113                     [-1, 32]                  32,800\n",
      "|    └─Dropout: 2-114                    [-1, 32]                  --\n",
      "|    └─Tanh: 2-115                       [-1, 32]                  --\n",
      "|    └─Linear: 2-116                     [-1, 2]                   66\n",
      "|    └─Sigmoid: 2-117                    [-1, 2]                   --\n",
      "├─Sequential: 1-19                       [-1, 2]                   --\n",
      "|    └─Linear: 2-118                     [-1, 32]                  32,800\n",
      "|    └─Dropout: 2-119                    [-1, 32]                  --\n",
      "|    └─Tanh: 2-120                       [-1, 32]                  --\n",
      "|    └─Linear: 2-121                     [-1, 2]                   66\n",
      "|    └─Sigmoid: 2-122                    [-1, 2]                   --\n",
      "==========================================================================================\n",
      "Total params: 89,599,618\n",
      "Trainable params: 89,599,618\n",
      "Non-trainable params: 0\n",
      "Total mult-adds (G): 23.74\n",
      "==========================================================================================\n",
      "Input size (MB): 12.00\n",
      "Forward/backward pass size (MB): 144.02\n",
      "Params size (MB): 341.80\n",
      "Estimated Total Size (MB): 497.82\n",
      "==========================================================================================\n"
     ]
    }
   ],
   "source": [
    "debugModel = poseLandmark()\n",
    "summary(debugModel, torch.zeros(16, 3, 256, 256))\n",
    "torch.cuda.empty_cache()"
   ]
  },
  {
   "cell_type": "code",
   "execution_count": 7,
   "metadata": {},
   "outputs": [],
   "source": [
    "debugModel = poseLandmark()\n",
    "debugOutput = debugModel(torch.zeros(16, 3, 360, 360))\n",
    "torch.cuda.empty_cache()"
   ]
  },
  {
   "cell_type": "code",
   "execution_count": 8,
   "metadata": {},
   "outputs": [
    {
     "name": "stdout",
     "output_type": "stream",
     "text": [
      "17\n",
      "torch.Size([16, 2])\n"
     ]
    }
   ],
   "source": [
    "print(len(debugOutput))\n",
    "print(debugOutput[0].shape)"
   ]
  },
  {
   "cell_type": "markdown",
   "metadata": {},
   "source": [
    "## Model training"
   ]
  },
  {
   "cell_type": "code",
   "execution_count": 12,
   "metadata": {},
   "outputs": [],
   "source": [
    "def train(model,\n",
    "          epochs,\n",
    "          scaler,\n",
    "          lossFn,\n",
    "          optimizer,\n",
    "          trainLoader,\n",
    "          validationLoader,\n",
    "          checkpointPath,\n",
    "          overfitDelta=0.005,\n",
    "          patient=10,\n",
    "          device=\"cuda\"):\n",
    "    history = {\"trainAvgLoss\" : [], \"testAvgLoss\" : []}\n",
    "    model.to(device)\n",
    "    bestLoss = 99999999999\n",
    "    overfitStreak = 0\n",
    "    try:\n",
    "        for epoch in range(epochs + 1):\n",
    "            # Training\n",
    "            model.train()\n",
    "            totalTrainLoss = 0\n",
    "            totalTrainBatchCount = 0\n",
    "            trainBar = tqdm(trainLoader, desc=f\"Training epoch: {epoch} / {epochs}\", unit=\"batch\", leave=True)\n",
    "            for batch in trainBar:\n",
    "                loss = 0\n",
    "                for index, landmark in enumerate(batch):\n",
    "                    batch[index] = batch[index].to(device)\n",
    "                images = batch[0]\n",
    "                landmarks = batch[1:][0].permute(1, 0, 2)\n",
    "\n",
    "                with torch.autocast(device_type=device, dtype=torch.bfloat16):\n",
    "                    optimizer.zero_grad()\n",
    "                    predictions = model(images)\n",
    "                    for index, landmarkPrediction in enumerate(predictions):\n",
    "                        loss += lossFn(landmarkPrediction, landmarks[index])\n",
    "\n",
    "                scaler.scale(loss).backward()\n",
    "                scaler.step(optimizer)\n",
    "                scaler.update()\n",
    "                totalTrainLoss += loss.item()\n",
    "                totalTrainBatchCount += 1\n",
    "            history[\"trainAvgLoss\"].append(totalTrainLoss / totalTrainBatchCount)\n",
    "\n",
    "            # Validation\n",
    "            model.eval()\n",
    "            totalValLoss = 0\n",
    "            totalValBatchCount = 0\n",
    "            validationBar = tqdm(validationLoader, desc=f\"Validating epoch: {epoch} / {epochs}\", unit=\"batch\", leave=True)\n",
    "            for batch in validationBar:\n",
    "                loss = 0\n",
    "                for index, landmark in enumerate(batch):\n",
    "                    batch[index] = batch[index].to(device)\n",
    "                images = batch[0]\n",
    "                landmarks = batch[1:][0].permute(1, 0, 2)\n",
    "\n",
    "                with torch.autocast(device_type=device, dtype=torch.bfloat16):\n",
    "                    predictions = model(images)\n",
    "                    for index, landmarkPrediction in enumerate(predictions):\n",
    "                        loss += lossFn(landmarkPrediction, landmarks[index])\n",
    "\n",
    "                totalValLoss += loss.item()\n",
    "                totalValBatchCount += 1\n",
    "            history[\"testAvgLoss\"].append(totalValLoss / totalValBatchCount)\n",
    "\n",
    "            # Early stopping\n",
    "            if bestLoss > history[\"testAvgLoss\"][-1]:\n",
    "                bestLoss = history[\"testAvgLoss\"][-1]\n",
    "                overfitStreak = 0\n",
    "                torch.save(model.state_dict(), checkpointPath)\n",
    "            elif bestLoss > history[\"testAvgLoss\"][-1] + overfitDelta:\n",
    "                overfitStreak = 0\n",
    "            else:\n",
    "                overfitStreak += 1\n",
    "\n",
    "            # Logging\n",
    "            print(f\"{'Average train loss: ':>30}{history['trainAvgLoss'][-1]:.5f}\")\n",
    "            print(f\"{'Average test loss: ':>29}{history['testAvgLoss'][-1]:.5f}\",end=\"\\n\\n\")\n",
    "\n",
    "            if overfitStreak >= patient:\n",
    "                model.load_state_dict(torch.load(checkpointPath, weights_only=True))\n",
    "                print(\"Model is going overfit\")\n",
    "                break\n",
    "    except KeyboardInterrupt:\n",
    "        model.load_state_dict(torch.load(checkpointPath, weights_only=True))\n",
    "        print(\"Stop training due to keyboard interrupt\")\n",
    "    return history"
   ]
  },
  {
   "cell_type": "code",
   "execution_count": 13,
   "metadata": {},
   "outputs": [],
   "source": [
    "torch.manual_seed(7800)\n",
    "model = poseLandmark()"
   ]
  },
  {
   "cell_type": "code",
   "execution_count": 14,
   "metadata": {},
   "outputs": [
    {
     "name": "stdout",
     "output_type": "stream",
     "text": [
      "Train dataset size: 360, Test dataset size: 91\n"
     ]
    }
   ],
   "source": [
    "trainLoader, testLoader = loadDataset(csvFile, datasetDir, model.transformer)"
   ]
  },
  {
   "cell_type": "code",
   "execution_count": 15,
   "metadata": {},
   "outputs": [
    {
     "name": "stderr",
     "output_type": "stream",
     "text": [
      "Training epoch: 0 / 10000: 100%|██████████| 23/23 [00:04<00:00,  5.67batch/s]\n",
      "Validating epoch: 0 / 10000: 100%|██████████| 6/6 [00:00<00:00, 10.23batch/s]\n"
     ]
    },
    {
     "name": "stdout",
     "output_type": "stream",
     "text": [
      "          Average train loss: 2.98813\n",
      "          Average test loss: 3.13200\n",
      "\n"
     ]
    },
    {
     "name": "stderr",
     "output_type": "stream",
     "text": [
      "Training epoch: 1 / 10000: 100%|██████████| 23/23 [00:03<00:00,  6.82batch/s]\n",
      "Validating epoch: 1 / 10000: 100%|██████████| 6/6 [00:00<00:00,  9.87batch/s]\n"
     ]
    },
    {
     "name": "stdout",
     "output_type": "stream",
     "text": [
      "          Average train loss: 2.66844\n",
      "          Average test loss: 2.61797\n",
      "\n"
     ]
    },
    {
     "name": "stderr",
     "output_type": "stream",
     "text": [
      "Training epoch: 2 / 10000: 100%|██████████| 23/23 [00:03<00:00,  6.65batch/s]\n",
      "Validating epoch: 2 / 10000: 100%|██████████| 6/6 [00:00<00:00, 10.99batch/s]\n"
     ]
    },
    {
     "name": "stdout",
     "output_type": "stream",
     "text": [
      "          Average train loss: 2.56537\n",
      "          Average test loss: 2.47216\n",
      "\n"
     ]
    },
    {
     "name": "stderr",
     "output_type": "stream",
     "text": [
      "Training epoch: 3 / 10000: 100%|██████████| 23/23 [00:03<00:00,  6.50batch/s]\n",
      "Validating epoch: 3 / 10000: 100%|██████████| 6/6 [00:00<00:00, 10.44batch/s]\n"
     ]
    },
    {
     "name": "stdout",
     "output_type": "stream",
     "text": [
      "          Average train loss: 2.47419\n",
      "          Average test loss: 2.23310\n",
      "\n"
     ]
    },
    {
     "name": "stderr",
     "output_type": "stream",
     "text": [
      "Training epoch: 4 / 10000: 100%|██████████| 23/23 [00:03<00:00,  6.77batch/s]\n",
      "Validating epoch: 4 / 10000: 100%|██████████| 6/6 [00:00<00:00, 10.62batch/s]\n"
     ]
    },
    {
     "name": "stdout",
     "output_type": "stream",
     "text": [
      "          Average train loss: 2.40339\n",
      "          Average test loss: 2.10078\n",
      "\n"
     ]
    },
    {
     "name": "stderr",
     "output_type": "stream",
     "text": [
      "Training epoch: 5 / 10000: 100%|██████████| 23/23 [00:03<00:00,  6.79batch/s]\n",
      "Validating epoch: 5 / 10000: 100%|██████████| 6/6 [00:00<00:00, 11.26batch/s]\n"
     ]
    },
    {
     "name": "stdout",
     "output_type": "stream",
     "text": [
      "          Average train loss: 2.32666\n",
      "          Average test loss: 2.06181\n",
      "\n"
     ]
    },
    {
     "name": "stderr",
     "output_type": "stream",
     "text": [
      "Training epoch: 6 / 10000: 100%|██████████| 23/23 [00:03<00:00,  6.85batch/s]\n",
      "Validating epoch: 6 / 10000: 100%|██████████| 6/6 [00:00<00:00, 11.04batch/s]\n"
     ]
    },
    {
     "name": "stdout",
     "output_type": "stream",
     "text": [
      "          Average train loss: 2.27621\n",
      "          Average test loss: 1.98541\n",
      "\n"
     ]
    },
    {
     "name": "stderr",
     "output_type": "stream",
     "text": [
      "Training epoch: 7 / 10000: 100%|██████████| 23/23 [00:03<00:00,  6.94batch/s]\n",
      "Validating epoch: 7 / 10000: 100%|██████████| 6/6 [00:00<00:00, 10.89batch/s]\n"
     ]
    },
    {
     "name": "stdout",
     "output_type": "stream",
     "text": [
      "          Average train loss: 2.22887\n",
      "          Average test loss: 1.92919\n",
      "\n"
     ]
    },
    {
     "name": "stderr",
     "output_type": "stream",
     "text": [
      "Training epoch: 8 / 10000: 100%|██████████| 23/23 [00:03<00:00,  6.88batch/s]\n",
      "Validating epoch: 8 / 10000: 100%|██████████| 6/6 [00:00<00:00, 10.38batch/s]\n"
     ]
    },
    {
     "name": "stdout",
     "output_type": "stream",
     "text": [
      "          Average train loss: 2.17701\n",
      "          Average test loss: 1.88830\n",
      "\n"
     ]
    },
    {
     "name": "stderr",
     "output_type": "stream",
     "text": [
      "Training epoch: 9 / 10000: 100%|██████████| 23/23 [00:03<00:00,  6.77batch/s]\n",
      "Validating epoch: 9 / 10000: 100%|██████████| 6/6 [00:00<00:00,  9.86batch/s]\n"
     ]
    },
    {
     "name": "stdout",
     "output_type": "stream",
     "text": [
      "          Average train loss: 2.12264\n",
      "          Average test loss: 1.81662\n",
      "\n"
     ]
    },
    {
     "name": "stderr",
     "output_type": "stream",
     "text": [
      "Training epoch: 10 / 10000: 100%|██████████| 23/23 [00:03<00:00,  6.70batch/s]\n",
      "Validating epoch: 10 / 10000: 100%|██████████| 6/6 [00:00<00:00, 11.04batch/s]\n"
     ]
    },
    {
     "name": "stdout",
     "output_type": "stream",
     "text": [
      "          Average train loss: 2.07918\n",
      "          Average test loss: 1.78121\n",
      "\n"
     ]
    },
    {
     "name": "stderr",
     "output_type": "stream",
     "text": [
      "Training epoch: 11 / 10000: 100%|██████████| 23/23 [00:03<00:00,  6.72batch/s]\n",
      "Validating epoch: 11 / 10000: 100%|██████████| 6/6 [00:00<00:00, 10.25batch/s]\n"
     ]
    },
    {
     "name": "stdout",
     "output_type": "stream",
     "text": [
      "          Average train loss: 2.04700\n",
      "          Average test loss: 1.78873\n",
      "\n"
     ]
    },
    {
     "name": "stderr",
     "output_type": "stream",
     "text": [
      "Training epoch: 12 / 10000: 100%|██████████| 23/23 [00:03<00:00,  6.78batch/s]\n",
      "Validating epoch: 12 / 10000: 100%|██████████| 6/6 [00:00<00:00, 10.17batch/s]\n"
     ]
    },
    {
     "name": "stdout",
     "output_type": "stream",
     "text": [
      "          Average train loss: 2.00531\n",
      "          Average test loss: 1.74066\n",
      "\n"
     ]
    },
    {
     "name": "stderr",
     "output_type": "stream",
     "text": [
      "Training epoch: 13 / 10000: 100%|██████████| 23/23 [00:03<00:00,  6.65batch/s]\n",
      "Validating epoch: 13 / 10000: 100%|██████████| 6/6 [00:00<00:00, 10.71batch/s]\n"
     ]
    },
    {
     "name": "stdout",
     "output_type": "stream",
     "text": [
      "          Average train loss: 1.97040\n",
      "          Average test loss: 1.68034\n",
      "\n"
     ]
    },
    {
     "name": "stderr",
     "output_type": "stream",
     "text": [
      "Training epoch: 14 / 10000: 100%|██████████| 23/23 [00:03<00:00,  6.55batch/s]\n",
      "Validating epoch: 14 / 10000: 100%|██████████| 6/6 [00:00<00:00, 11.21batch/s]\n"
     ]
    },
    {
     "name": "stdout",
     "output_type": "stream",
     "text": [
      "          Average train loss: 1.95665\n",
      "          Average test loss: 1.65779\n",
      "\n"
     ]
    },
    {
     "name": "stderr",
     "output_type": "stream",
     "text": [
      "Training epoch: 15 / 10000: 100%|██████████| 23/23 [00:03<00:00,  6.89batch/s]\n",
      "Validating epoch: 15 / 10000: 100%|██████████| 6/6 [00:00<00:00, 10.87batch/s]\n"
     ]
    },
    {
     "name": "stdout",
     "output_type": "stream",
     "text": [
      "          Average train loss: 1.90876\n",
      "          Average test loss: 1.64545\n",
      "\n"
     ]
    },
    {
     "name": "stderr",
     "output_type": "stream",
     "text": [
      "Training epoch: 16 / 10000: 100%|██████████| 23/23 [00:03<00:00,  7.04batch/s]\n",
      "Validating epoch: 16 / 10000: 100%|██████████| 6/6 [00:00<00:00, 11.07batch/s]\n"
     ]
    },
    {
     "name": "stdout",
     "output_type": "stream",
     "text": [
      "          Average train loss: 1.89808\n",
      "          Average test loss: 1.65855\n",
      "\n"
     ]
    },
    {
     "name": "stderr",
     "output_type": "stream",
     "text": [
      "Training epoch: 17 / 10000: 100%|██████████| 23/23 [00:03<00:00,  6.96batch/s]\n",
      "Validating epoch: 17 / 10000: 100%|██████████| 6/6 [00:00<00:00, 11.67batch/s]\n"
     ]
    },
    {
     "name": "stdout",
     "output_type": "stream",
     "text": [
      "          Average train loss: 1.87152\n",
      "          Average test loss: 1.58846\n",
      "\n"
     ]
    },
    {
     "name": "stderr",
     "output_type": "stream",
     "text": [
      "Training epoch: 18 / 10000: 100%|██████████| 23/23 [00:03<00:00,  7.03batch/s]\n",
      "Validating epoch: 18 / 10000: 100%|██████████| 6/6 [00:00<00:00, 11.12batch/s]\n"
     ]
    },
    {
     "name": "stdout",
     "output_type": "stream",
     "text": [
      "          Average train loss: 1.87009\n",
      "          Average test loss: 1.57197\n",
      "\n"
     ]
    },
    {
     "name": "stderr",
     "output_type": "stream",
     "text": [
      "Training epoch: 19 / 10000: 100%|██████████| 23/23 [00:03<00:00,  6.81batch/s]\n",
      "Validating epoch: 19 / 10000: 100%|██████████| 6/6 [00:00<00:00, 10.49batch/s]\n"
     ]
    },
    {
     "name": "stdout",
     "output_type": "stream",
     "text": [
      "          Average train loss: 1.83978\n",
      "          Average test loss: 1.53836\n",
      "\n"
     ]
    },
    {
     "name": "stderr",
     "output_type": "stream",
     "text": [
      "Training epoch: 20 / 10000: 100%|██████████| 23/23 [00:03<00:00,  6.89batch/s]\n",
      "Validating epoch: 20 / 10000: 100%|██████████| 6/6 [00:00<00:00, 10.71batch/s]\n"
     ]
    },
    {
     "name": "stdout",
     "output_type": "stream",
     "text": [
      "          Average train loss: 1.83181\n",
      "          Average test loss: 1.54882\n",
      "\n"
     ]
    },
    {
     "name": "stderr",
     "output_type": "stream",
     "text": [
      "Training epoch: 21 / 10000: 100%|██████████| 23/23 [00:03<00:00,  7.05batch/s]\n",
      "Validating epoch: 21 / 10000: 100%|██████████| 6/6 [00:00<00:00, 11.02batch/s]\n"
     ]
    },
    {
     "name": "stdout",
     "output_type": "stream",
     "text": [
      "          Average train loss: 1.81167\n",
      "          Average test loss: 1.52245\n",
      "\n"
     ]
    },
    {
     "name": "stderr",
     "output_type": "stream",
     "text": [
      "Training epoch: 22 / 10000: 100%|██████████| 23/23 [00:03<00:00,  6.97batch/s]\n",
      "Validating epoch: 22 / 10000: 100%|██████████| 6/6 [00:00<00:00, 10.71batch/s]\n"
     ]
    },
    {
     "name": "stdout",
     "output_type": "stream",
     "text": [
      "          Average train loss: 1.80015\n",
      "          Average test loss: 1.50753\n",
      "\n"
     ]
    },
    {
     "name": "stderr",
     "output_type": "stream",
     "text": [
      "Training epoch: 23 / 10000: 100%|██████████| 23/23 [00:03<00:00,  6.79batch/s]\n",
      "Validating epoch: 23 / 10000: 100%|██████████| 6/6 [00:00<00:00, 10.59batch/s]\n"
     ]
    },
    {
     "name": "stdout",
     "output_type": "stream",
     "text": [
      "          Average train loss: 1.76927\n",
      "          Average test loss: 1.47962\n",
      "\n"
     ]
    },
    {
     "name": "stderr",
     "output_type": "stream",
     "text": [
      "Training epoch: 24 / 10000: 100%|██████████| 23/23 [00:03<00:00,  6.60batch/s]\n",
      "Validating epoch: 24 / 10000: 100%|██████████| 6/6 [00:00<00:00, 10.83batch/s]\n"
     ]
    },
    {
     "name": "stdout",
     "output_type": "stream",
     "text": [
      "          Average train loss: 1.77761\n",
      "          Average test loss: 1.43362\n",
      "\n"
     ]
    },
    {
     "name": "stderr",
     "output_type": "stream",
     "text": [
      "Training epoch: 25 / 10000: 100%|██████████| 23/23 [00:03<00:00,  6.98batch/s]\n",
      "Validating epoch: 25 / 10000: 100%|██████████| 6/6 [00:00<00:00, 11.32batch/s]\n"
     ]
    },
    {
     "name": "stdout",
     "output_type": "stream",
     "text": [
      "          Average train loss: 1.74647\n",
      "          Average test loss: 1.45876\n",
      "\n"
     ]
    },
    {
     "name": "stderr",
     "output_type": "stream",
     "text": [
      "Training epoch: 26 / 10000: 100%|██████████| 23/23 [00:03<00:00,  7.03batch/s]\n",
      "Validating epoch: 26 / 10000: 100%|██████████| 6/6 [00:00<00:00, 10.05batch/s]\n"
     ]
    },
    {
     "name": "stdout",
     "output_type": "stream",
     "text": [
      "          Average train loss: 1.73597\n",
      "          Average test loss: 1.45685\n",
      "\n"
     ]
    },
    {
     "name": "stderr",
     "output_type": "stream",
     "text": [
      "Training epoch: 27 / 10000: 100%|██████████| 23/23 [00:03<00:00,  6.94batch/s]\n",
      "Validating epoch: 27 / 10000: 100%|██████████| 6/6 [00:00<00:00, 11.30batch/s]\n"
     ]
    },
    {
     "name": "stdout",
     "output_type": "stream",
     "text": [
      "          Average train loss: 1.72948\n",
      "          Average test loss: 1.40562\n",
      "\n"
     ]
    },
    {
     "name": "stderr",
     "output_type": "stream",
     "text": [
      "Training epoch: 28 / 10000: 100%|██████████| 23/23 [00:03<00:00,  7.11batch/s]\n",
      "Validating epoch: 28 / 10000: 100%|██████████| 6/6 [00:00<00:00, 11.38batch/s]\n"
     ]
    },
    {
     "name": "stdout",
     "output_type": "stream",
     "text": [
      "          Average train loss: 1.71259\n",
      "          Average test loss: 1.41490\n",
      "\n"
     ]
    },
    {
     "name": "stderr",
     "output_type": "stream",
     "text": [
      "Training epoch: 29 / 10000: 100%|██████████| 23/23 [00:03<00:00,  7.06batch/s]\n",
      "Validating epoch: 29 / 10000: 100%|██████████| 6/6 [00:00<00:00, 10.97batch/s]\n"
     ]
    },
    {
     "name": "stdout",
     "output_type": "stream",
     "text": [
      "          Average train loss: 1.70924\n",
      "          Average test loss: 1.41346\n",
      "\n"
     ]
    },
    {
     "name": "stderr",
     "output_type": "stream",
     "text": [
      "Training epoch: 30 / 10000: 100%|██████████| 23/23 [00:03<00:00,  6.81batch/s]\n",
      "Validating epoch: 30 / 10000: 100%|██████████| 6/6 [00:00<00:00, 11.17batch/s]\n"
     ]
    },
    {
     "name": "stdout",
     "output_type": "stream",
     "text": [
      "          Average train loss: 1.67900\n",
      "          Average test loss: 1.39750\n",
      "\n"
     ]
    },
    {
     "name": "stderr",
     "output_type": "stream",
     "text": [
      "Training epoch: 31 / 10000: 100%|██████████| 23/23 [00:03<00:00,  7.03batch/s]\n",
      "Validating epoch: 31 / 10000: 100%|██████████| 6/6 [00:00<00:00, 10.44batch/s]\n"
     ]
    },
    {
     "name": "stdout",
     "output_type": "stream",
     "text": [
      "          Average train loss: 1.67231\n",
      "          Average test loss: 1.42388\n",
      "\n"
     ]
    },
    {
     "name": "stderr",
     "output_type": "stream",
     "text": [
      "Training epoch: 32 / 10000: 100%|██████████| 23/23 [00:03<00:00,  6.83batch/s]\n",
      "Validating epoch: 32 / 10000: 100%|██████████| 6/6 [00:00<00:00, 11.04batch/s]\n"
     ]
    },
    {
     "name": "stdout",
     "output_type": "stream",
     "text": [
      "          Average train loss: 1.67312\n",
      "          Average test loss: 1.39818\n",
      "\n"
     ]
    },
    {
     "name": "stderr",
     "output_type": "stream",
     "text": [
      "Training epoch: 33 / 10000: 100%|██████████| 23/23 [00:03<00:00,  7.10batch/s]\n",
      "Validating epoch: 33 / 10000: 100%|██████████| 6/6 [00:00<00:00, 10.46batch/s]\n"
     ]
    },
    {
     "name": "stdout",
     "output_type": "stream",
     "text": [
      "          Average train loss: 1.66523\n",
      "          Average test loss: 1.34832\n",
      "\n"
     ]
    },
    {
     "name": "stderr",
     "output_type": "stream",
     "text": [
      "Training epoch: 34 / 10000: 100%|██████████| 23/23 [00:03<00:00,  7.03batch/s]\n",
      "Validating epoch: 34 / 10000: 100%|██████████| 6/6 [00:00<00:00, 11.30batch/s]\n"
     ]
    },
    {
     "name": "stdout",
     "output_type": "stream",
     "text": [
      "          Average train loss: 1.65435\n",
      "          Average test loss: 1.38291\n",
      "\n"
     ]
    },
    {
     "name": "stderr",
     "output_type": "stream",
     "text": [
      "Training epoch: 35 / 10000: 100%|██████████| 23/23 [00:03<00:00,  6.91batch/s]\n",
      "Validating epoch: 35 / 10000: 100%|██████████| 6/6 [00:00<00:00,  9.95batch/s]\n"
     ]
    },
    {
     "name": "stdout",
     "output_type": "stream",
     "text": [
      "          Average train loss: 1.64459\n",
      "          Average test loss: 1.33337\n",
      "\n"
     ]
    },
    {
     "name": "stderr",
     "output_type": "stream",
     "text": [
      "Training epoch: 36 / 10000: 100%|██████████| 23/23 [00:03<00:00,  6.60batch/s]\n",
      "Validating epoch: 36 / 10000: 100%|██████████| 6/6 [00:00<00:00, 10.01batch/s]\n"
     ]
    },
    {
     "name": "stdout",
     "output_type": "stream",
     "text": [
      "          Average train loss: 1.62349\n",
      "          Average test loss: 1.32626\n",
      "\n"
     ]
    },
    {
     "name": "stderr",
     "output_type": "stream",
     "text": [
      "Training epoch: 37 / 10000: 100%|██████████| 23/23 [00:03<00:00,  6.61batch/s]\n",
      "Validating epoch: 37 / 10000: 100%|██████████| 6/6 [00:00<00:00, 10.77batch/s]\n"
     ]
    },
    {
     "name": "stdout",
     "output_type": "stream",
     "text": [
      "          Average train loss: 1.62819\n",
      "          Average test loss: 1.34572\n",
      "\n"
     ]
    },
    {
     "name": "stderr",
     "output_type": "stream",
     "text": [
      "Training epoch: 38 / 10000: 100%|██████████| 23/23 [00:03<00:00,  6.98batch/s]\n",
      "Validating epoch: 38 / 10000: 100%|██████████| 6/6 [00:00<00:00, 10.92batch/s]\n"
     ]
    },
    {
     "name": "stdout",
     "output_type": "stream",
     "text": [
      "          Average train loss: 1.61997\n",
      "          Average test loss: 1.34012\n",
      "\n"
     ]
    },
    {
     "name": "stderr",
     "output_type": "stream",
     "text": [
      "Training epoch: 39 / 10000: 100%|██████████| 23/23 [00:03<00:00,  6.61batch/s]\n",
      "Validating epoch: 39 / 10000: 100%|██████████| 6/6 [00:00<00:00, 10.13batch/s]\n"
     ]
    },
    {
     "name": "stdout",
     "output_type": "stream",
     "text": [
      "          Average train loss: 1.60408\n",
      "          Average test loss: 1.31197\n",
      "\n"
     ]
    },
    {
     "name": "stderr",
     "output_type": "stream",
     "text": [
      "Training epoch: 40 / 10000: 100%|██████████| 23/23 [00:03<00:00,  6.98batch/s]\n",
      "Validating epoch: 40 / 10000: 100%|██████████| 6/6 [00:00<00:00, 11.29batch/s]\n"
     ]
    },
    {
     "name": "stdout",
     "output_type": "stream",
     "text": [
      "          Average train loss: 1.59500\n",
      "          Average test loss: 1.30257\n",
      "\n"
     ]
    },
    {
     "name": "stderr",
     "output_type": "stream",
     "text": [
      "Training epoch: 41 / 10000: 100%|██████████| 23/23 [00:03<00:00,  6.95batch/s]\n",
      "Validating epoch: 41 / 10000: 100%|██████████| 6/6 [00:00<00:00, 10.06batch/s]\n"
     ]
    },
    {
     "name": "stdout",
     "output_type": "stream",
     "text": [
      "          Average train loss: 1.57959\n",
      "          Average test loss: 1.31472\n",
      "\n"
     ]
    },
    {
     "name": "stderr",
     "output_type": "stream",
     "text": [
      "Training epoch: 42 / 10000: 100%|██████████| 23/23 [00:03<00:00,  7.06batch/s]\n",
      "Validating epoch: 42 / 10000: 100%|██████████| 6/6 [00:00<00:00, 11.07batch/s]\n"
     ]
    },
    {
     "name": "stdout",
     "output_type": "stream",
     "text": [
      "          Average train loss: 1.58327\n",
      "          Average test loss: 1.28126\n",
      "\n"
     ]
    },
    {
     "name": "stderr",
     "output_type": "stream",
     "text": [
      "Training epoch: 43 / 10000: 100%|██████████| 23/23 [00:03<00:00,  7.02batch/s]\n",
      "Validating epoch: 43 / 10000: 100%|██████████| 6/6 [00:00<00:00, 11.42batch/s]\n"
     ]
    },
    {
     "name": "stdout",
     "output_type": "stream",
     "text": [
      "          Average train loss: 1.57336\n",
      "          Average test loss: 1.29114\n",
      "\n"
     ]
    },
    {
     "name": "stderr",
     "output_type": "stream",
     "text": [
      "Training epoch: 44 / 10000: 100%|██████████| 23/23 [00:03<00:00,  7.13batch/s]\n",
      "Validating epoch: 44 / 10000: 100%|██████████| 6/6 [00:00<00:00, 11.17batch/s]\n"
     ]
    },
    {
     "name": "stdout",
     "output_type": "stream",
     "text": [
      "          Average train loss: 1.56933\n",
      "          Average test loss: 1.27240\n",
      "\n"
     ]
    },
    {
     "name": "stderr",
     "output_type": "stream",
     "text": [
      "Training epoch: 45 / 10000: 100%|██████████| 23/23 [00:03<00:00,  7.01batch/s]\n",
      "Validating epoch: 45 / 10000: 100%|██████████| 6/6 [00:00<00:00, 10.28batch/s]\n"
     ]
    },
    {
     "name": "stdout",
     "output_type": "stream",
     "text": [
      "          Average train loss: 1.54755\n",
      "          Average test loss: 1.26460\n",
      "\n"
     ]
    },
    {
     "name": "stderr",
     "output_type": "stream",
     "text": [
      "Training epoch: 46 / 10000: 100%|██████████| 23/23 [00:03<00:00,  7.04batch/s]\n",
      "Validating epoch: 46 / 10000: 100%|██████████| 6/6 [00:00<00:00, 10.13batch/s]\n"
     ]
    },
    {
     "name": "stdout",
     "output_type": "stream",
     "text": [
      "          Average train loss: 1.54528\n",
      "          Average test loss: 1.26820\n",
      "\n"
     ]
    },
    {
     "name": "stderr",
     "output_type": "stream",
     "text": [
      "Training epoch: 47 / 10000: 100%|██████████| 23/23 [00:03<00:00,  7.07batch/s]\n",
      "Validating epoch: 47 / 10000: 100%|██████████| 6/6 [00:00<00:00, 11.59batch/s]\n"
     ]
    },
    {
     "name": "stdout",
     "output_type": "stream",
     "text": [
      "          Average train loss: 1.53695\n",
      "          Average test loss: 1.28724\n",
      "\n"
     ]
    },
    {
     "name": "stderr",
     "output_type": "stream",
     "text": [
      "Training epoch: 48 / 10000: 100%|██████████| 23/23 [00:03<00:00,  7.00batch/s]\n",
      "Validating epoch: 48 / 10000: 100%|██████████| 6/6 [00:00<00:00, 10.98batch/s]\n"
     ]
    },
    {
     "name": "stdout",
     "output_type": "stream",
     "text": [
      "          Average train loss: 1.53022\n",
      "          Average test loss: 1.28617\n",
      "\n"
     ]
    },
    {
     "name": "stderr",
     "output_type": "stream",
     "text": [
      "Training epoch: 49 / 10000: 100%|██████████| 23/23 [00:03<00:00,  7.09batch/s]\n",
      "Validating epoch: 49 / 10000: 100%|██████████| 6/6 [00:00<00:00, 10.76batch/s]\n"
     ]
    },
    {
     "name": "stdout",
     "output_type": "stream",
     "text": [
      "          Average train loss: 1.53492\n",
      "          Average test loss: 1.25573\n",
      "\n"
     ]
    },
    {
     "name": "stderr",
     "output_type": "stream",
     "text": [
      "Training epoch: 50 / 10000: 100%|██████████| 23/23 [00:03<00:00,  7.12batch/s]\n",
      "Validating epoch: 50 / 10000: 100%|██████████| 6/6 [00:00<00:00, 11.11batch/s]\n"
     ]
    },
    {
     "name": "stdout",
     "output_type": "stream",
     "text": [
      "          Average train loss: 1.51626\n",
      "          Average test loss: 1.25528\n",
      "\n"
     ]
    },
    {
     "name": "stderr",
     "output_type": "stream",
     "text": [
      "Training epoch: 51 / 10000: 100%|██████████| 23/23 [00:03<00:00,  7.11batch/s]\n",
      "Validating epoch: 51 / 10000: 100%|██████████| 6/6 [00:00<00:00, 10.83batch/s]\n"
     ]
    },
    {
     "name": "stdout",
     "output_type": "stream",
     "text": [
      "          Average train loss: 1.51699\n",
      "          Average test loss: 1.28748\n",
      "\n"
     ]
    },
    {
     "name": "stderr",
     "output_type": "stream",
     "text": [
      "Training epoch: 52 / 10000: 100%|██████████| 23/23 [00:03<00:00,  6.91batch/s]\n",
      "Validating epoch: 52 / 10000: 100%|██████████| 6/6 [00:00<00:00, 10.63batch/s]\n"
     ]
    },
    {
     "name": "stdout",
     "output_type": "stream",
     "text": [
      "          Average train loss: 1.50628\n",
      "          Average test loss: 1.24391\n",
      "\n"
     ]
    },
    {
     "name": "stderr",
     "output_type": "stream",
     "text": [
      "Training epoch: 53 / 10000: 100%|██████████| 23/23 [00:03<00:00,  6.71batch/s]\n",
      "Validating epoch: 53 / 10000: 100%|██████████| 6/6 [00:00<00:00, 10.23batch/s]\n"
     ]
    },
    {
     "name": "stdout",
     "output_type": "stream",
     "text": [
      "          Average train loss: 1.50198\n",
      "          Average test loss: 1.34200\n",
      "\n"
     ]
    },
    {
     "name": "stderr",
     "output_type": "stream",
     "text": [
      "Training epoch: 54 / 10000: 100%|██████████| 23/23 [00:03<00:00,  7.21batch/s]\n",
      "Validating epoch: 54 / 10000: 100%|██████████| 6/6 [00:00<00:00, 13.06batch/s]\n"
     ]
    },
    {
     "name": "stdout",
     "output_type": "stream",
     "text": [
      "          Average train loss: 1.48683\n",
      "          Average test loss: 1.28383\n",
      "\n"
     ]
    },
    {
     "name": "stderr",
     "output_type": "stream",
     "text": [
      "Training epoch: 55 / 10000: 100%|██████████| 23/23 [00:02<00:00,  8.91batch/s]\n",
      "Validating epoch: 55 / 10000: 100%|██████████| 6/6 [00:00<00:00, 11.96batch/s]\n"
     ]
    },
    {
     "name": "stdout",
     "output_type": "stream",
     "text": [
      "          Average train loss: 1.50099\n",
      "          Average test loss: 1.24044\n",
      "\n"
     ]
    },
    {
     "name": "stderr",
     "output_type": "stream",
     "text": [
      "Training epoch: 56 / 10000: 100%|██████████| 23/23 [00:02<00:00,  8.98batch/s]\n",
      "Validating epoch: 56 / 10000: 100%|██████████| 6/6 [00:00<00:00, 12.54batch/s]\n"
     ]
    },
    {
     "name": "stdout",
     "output_type": "stream",
     "text": [
      "          Average train loss: 1.49507\n",
      "          Average test loss: 1.22072\n",
      "\n"
     ]
    },
    {
     "name": "stderr",
     "output_type": "stream",
     "text": [
      "Training epoch: 57 / 10000: 100%|██████████| 23/23 [00:02<00:00,  9.23batch/s]\n",
      "Validating epoch: 57 / 10000: 100%|██████████| 6/6 [00:00<00:00, 13.04batch/s]\n"
     ]
    },
    {
     "name": "stdout",
     "output_type": "stream",
     "text": [
      "          Average train loss: 1.49035\n",
      "          Average test loss: 1.19485\n",
      "\n"
     ]
    },
    {
     "name": "stderr",
     "output_type": "stream",
     "text": [
      "Training epoch: 58 / 10000: 100%|██████████| 23/23 [00:02<00:00,  9.28batch/s]\n",
      "Validating epoch: 58 / 10000: 100%|██████████| 6/6 [00:00<00:00, 12.54batch/s]\n"
     ]
    },
    {
     "name": "stdout",
     "output_type": "stream",
     "text": [
      "          Average train loss: 1.46829\n",
      "          Average test loss: 1.19353\n",
      "\n"
     ]
    },
    {
     "name": "stderr",
     "output_type": "stream",
     "text": [
      "Training epoch: 59 / 10000: 100%|██████████| 23/23 [00:02<00:00,  9.15batch/s]\n",
      "Validating epoch: 59 / 10000: 100%|██████████| 6/6 [00:00<00:00, 12.17batch/s]\n"
     ]
    },
    {
     "name": "stdout",
     "output_type": "stream",
     "text": [
      "          Average train loss: 1.46429\n",
      "          Average test loss: 1.19338\n",
      "\n"
     ]
    },
    {
     "name": "stderr",
     "output_type": "stream",
     "text": [
      "Training epoch: 60 / 10000: 100%|██████████| 23/23 [00:02<00:00,  9.21batch/s]\n",
      "Validating epoch: 60 / 10000: 100%|██████████| 6/6 [00:00<00:00, 12.13batch/s]\n"
     ]
    },
    {
     "name": "stdout",
     "output_type": "stream",
     "text": [
      "          Average train loss: 1.46318\n",
      "          Average test loss: 1.15394\n",
      "\n"
     ]
    },
    {
     "name": "stderr",
     "output_type": "stream",
     "text": [
      "Training epoch: 61 / 10000: 100%|██████████| 23/23 [00:02<00:00,  9.11batch/s]\n",
      "Validating epoch: 61 / 10000: 100%|██████████| 6/6 [00:00<00:00, 12.38batch/s]\n"
     ]
    },
    {
     "name": "stdout",
     "output_type": "stream",
     "text": [
      "          Average train loss: 1.45244\n",
      "          Average test loss: 1.19543\n",
      "\n"
     ]
    },
    {
     "name": "stderr",
     "output_type": "stream",
     "text": [
      "Training epoch: 62 / 10000: 100%|██████████| 23/23 [00:02<00:00,  9.19batch/s]\n",
      "Validating epoch: 62 / 10000: 100%|██████████| 6/6 [00:00<00:00, 13.14batch/s]\n"
     ]
    },
    {
     "name": "stdout",
     "output_type": "stream",
     "text": [
      "          Average train loss: 1.46369\n",
      "          Average test loss: 1.18393\n",
      "\n"
     ]
    },
    {
     "name": "stderr",
     "output_type": "stream",
     "text": [
      "Training epoch: 63 / 10000: 100%|██████████| 23/23 [00:02<00:00,  9.23batch/s]\n",
      "Validating epoch: 63 / 10000: 100%|██████████| 6/6 [00:00<00:00, 12.96batch/s]\n"
     ]
    },
    {
     "name": "stdout",
     "output_type": "stream",
     "text": [
      "          Average train loss: 1.44347\n",
      "          Average test loss: 1.17417\n",
      "\n"
     ]
    },
    {
     "name": "stderr",
     "output_type": "stream",
     "text": [
      "Training epoch: 64 / 10000: 100%|██████████| 23/23 [00:02<00:00,  9.24batch/s]\n",
      "Validating epoch: 64 / 10000: 100%|██████████| 6/6 [00:00<00:00, 13.39batch/s]\n"
     ]
    },
    {
     "name": "stdout",
     "output_type": "stream",
     "text": [
      "          Average train loss: 1.44785\n",
      "          Average test loss: 1.11461\n",
      "\n"
     ]
    },
    {
     "name": "stderr",
     "output_type": "stream",
     "text": [
      "Training epoch: 65 / 10000: 100%|██████████| 23/23 [00:02<00:00,  9.14batch/s]\n",
      "Validating epoch: 65 / 10000: 100%|██████████| 6/6 [00:00<00:00, 12.64batch/s]\n"
     ]
    },
    {
     "name": "stdout",
     "output_type": "stream",
     "text": [
      "          Average train loss: 1.43609\n",
      "          Average test loss: 1.16441\n",
      "\n"
     ]
    },
    {
     "name": "stderr",
     "output_type": "stream",
     "text": [
      "Training epoch: 66 / 10000: 100%|██████████| 23/23 [00:02<00:00,  9.29batch/s]\n",
      "Validating epoch: 66 / 10000: 100%|██████████| 6/6 [00:00<00:00, 11.93batch/s]\n"
     ]
    },
    {
     "name": "stdout",
     "output_type": "stream",
     "text": [
      "          Average train loss: 1.43469\n",
      "          Average test loss: 1.14946\n",
      "\n"
     ]
    },
    {
     "name": "stderr",
     "output_type": "stream",
     "text": [
      "Training epoch: 67 / 10000: 100%|██████████| 23/23 [00:02<00:00,  9.14batch/s]\n",
      "Validating epoch: 67 / 10000: 100%|██████████| 6/6 [00:00<00:00, 12.40batch/s]\n"
     ]
    },
    {
     "name": "stdout",
     "output_type": "stream",
     "text": [
      "          Average train loss: 1.42142\n",
      "          Average test loss: 1.12760\n",
      "\n"
     ]
    },
    {
     "name": "stderr",
     "output_type": "stream",
     "text": [
      "Training epoch: 68 / 10000: 100%|██████████| 23/23 [00:02<00:00,  9.24batch/s]\n",
      "Validating epoch: 68 / 10000: 100%|██████████| 6/6 [00:00<00:00, 12.59batch/s]\n"
     ]
    },
    {
     "name": "stdout",
     "output_type": "stream",
     "text": [
      "          Average train loss: 1.42117\n",
      "          Average test loss: 1.18195\n",
      "\n"
     ]
    },
    {
     "name": "stderr",
     "output_type": "stream",
     "text": [
      "Training epoch: 69 / 10000: 100%|██████████| 23/23 [00:02<00:00,  9.23batch/s]\n",
      "Validating epoch: 69 / 10000: 100%|██████████| 6/6 [00:00<00:00, 11.85batch/s]\n"
     ]
    },
    {
     "name": "stdout",
     "output_type": "stream",
     "text": [
      "          Average train loss: 1.43097\n",
      "          Average test loss: 1.13870\n",
      "\n",
      "Model is going overfit\n"
     ]
    }
   ],
   "source": [
    "lossFn = nn.L1Loss()\n",
    "optimizer = optim.AdamW(model.parameters(), lr=0.00001)\n",
    "scaler = amp.GradScaler()\n",
    "history = train(model=model,\n",
    "                epochs=10000,\n",
    "                scaler=scaler,\n",
    "                lossFn=lossFn,\n",
    "                optimizer=optimizer,\n",
    "                trainLoader=trainLoader,\n",
    "                validationLoader=testLoader,\n",
    "                checkpointPath=parentDir.joinpath(\"model/poseLandmark.pth\"),\n",
    "                overfitDelta=0,\n",
    "                patient=5)"
   ]
  },
  {
   "cell_type": "code",
   "execution_count": 15,
   "metadata": {},
   "outputs": [],
   "source": [
    "torch.cuda.empty_cache()"
   ]
  }
 ],
 "metadata": {
  "kernelspec": {
   "display_name": "torch",
   "language": "python",
   "name": "python3"
  },
  "language_info": {
   "codemirror_mode": {
    "name": "ipython",
    "version": 3
   },
   "file_extension": ".py",
   "mimetype": "text/x-python",
   "name": "python",
   "nbconvert_exporter": "python",
   "pygments_lexer": "ipython3",
   "version": "3.11.9"
  }
 },
 "nbformat": 4,
 "nbformat_minor": 2
}
