{
 "cells": [
  {
   "cell_type": "markdown",
   "metadata": {},
   "source": [
    "# Libraries + Setting up PATH"
   ]
  },
  {
   "cell_type": "code",
   "execution_count": 1,
   "metadata": {},
   "outputs": [],
   "source": [
    "import pandas as pd\n",
    "from PIL import Image\n",
    "from tqdm import tqdm\n",
    "import os\n",
    "from pathlib import Path\n",
    "from glob import glob\n",
    "import cv2"
   ]
  },
  {
   "cell_type": "code",
   "execution_count": 2,
   "metadata": {},
   "outputs": [],
   "source": [
    "import torch\n",
    "import torch.nn as nn\n",
    "import torch.optim as optim\n",
    "import torch.amp as amp\n",
    "from torchsummary import summary\n",
    "\n",
    "from torch.utils.data import Dataset, DataLoader\n",
    "from sklearn.model_selection import train_test_split\n",
    "\n",
    "import torchvision.transforms as transforms\n",
    "import torchvision.transforms.v2 as v2"
   ]
  },
  {
   "cell_type": "code",
   "execution_count": null,
   "metadata": {},
   "outputs": [],
   "source": [
    "from poseLandmark import poseLandmark"
   ]
  },
  {
   "cell_type": "code",
   "execution_count": 3,
   "metadata": {},
   "outputs": [],
   "source": [
    "parentDir = Path(os.path.abspath(\"\"))"
   ]
  },
  {
   "cell_type": "markdown",
   "metadata": {},
   "source": [
    "# Dataset"
   ]
  },
  {
   "cell_type": "markdown",
   "metadata": {},
   "source": [
    "## Dataset files"
   ]
  },
  {
   "cell_type": "code",
   "execution_count": 3,
   "metadata": {},
   "outputs": [],
   "source": [
    "datasetDir = parentDir.joinpath(\"dataset-generator/data/poseLandmarkDataset\")"
   ]
  },
  {
   "cell_type": "code",
   "execution_count": 4,
   "metadata": {},
   "outputs": [],
   "source": [
    "csvFile = datasetDir.joinpath(\"coordinate.csv\")\n",
    "coordinateDf = pd.read_csv(csvFile)"
   ]
  },
  {
   "cell_type": "code",
   "execution_count": 5,
   "metadata": {},
   "outputs": [
    {
     "data": {
      "text/html": [
       "<div>\n",
       "<style scoped>\n",
       "    .dataframe tbody tr th:only-of-type {\n",
       "        vertical-align: middle;\n",
       "    }\n",
       "\n",
       "    .dataframe tbody tr th {\n",
       "        vertical-align: top;\n",
       "    }\n",
       "\n",
       "    .dataframe thead th {\n",
       "        text-align: right;\n",
       "    }\n",
       "</style>\n",
       "<table border=\"1\" class=\"dataframe\">\n",
       "  <thead>\n",
       "    <tr style=\"text-align: right;\">\n",
       "      <th></th>\n",
       "      <th>image</th>\n",
       "      <th>head_x</th>\n",
       "      <th>head_y</th>\n",
       "      <th>neck_x</th>\n",
       "      <th>neck_y</th>\n",
       "      <th>torso_x</th>\n",
       "      <th>torso_y</th>\n",
       "      <th>left_shoulder_x</th>\n",
       "      <th>left_shoulder_y</th>\n",
       "      <th>left_elbow_x</th>\n",
       "      <th>...</th>\n",
       "      <th>left_foot_toe_x</th>\n",
       "      <th>left_foot_toe_y</th>\n",
       "      <th>right_hip_x</th>\n",
       "      <th>right_hip_y</th>\n",
       "      <th>right_knee_x</th>\n",
       "      <th>right_knee_y</th>\n",
       "      <th>right_heel_x</th>\n",
       "      <th>right_heel_y</th>\n",
       "      <th>right_foot_toe_x</th>\n",
       "      <th>right_foot_toe_y</th>\n",
       "    </tr>\n",
       "  </thead>\n",
       "  <tbody>\n",
       "    <tr>\n",
       "      <th>0</th>\n",
       "      <td>20240925_192500_312.jpg</td>\n",
       "      <td>0.630556</td>\n",
       "      <td>0.205556</td>\n",
       "      <td>0.636111</td>\n",
       "      <td>0.258333</td>\n",
       "      <td>0.652778</td>\n",
       "      <td>0.402778</td>\n",
       "      <td>0.733333</td>\n",
       "      <td>0.305556</td>\n",
       "      <td>0.813889</td>\n",
       "      <td>...</td>\n",
       "      <td>0.708333</td>\n",
       "      <td>0.980556</td>\n",
       "      <td>0.597222</td>\n",
       "      <td>0.597222</td>\n",
       "      <td>0.586111</td>\n",
       "      <td>0.758333</td>\n",
       "      <td>0.580556</td>\n",
       "      <td>0.961111</td>\n",
       "      <td>0.530556</td>\n",
       "      <td>0.972222</td>\n",
       "    </tr>\n",
       "    <tr>\n",
       "      <th>1</th>\n",
       "      <td>20240928_105700_65.jpg</td>\n",
       "      <td>0.555556</td>\n",
       "      <td>0.044444</td>\n",
       "      <td>0.547222</td>\n",
       "      <td>0.127778</td>\n",
       "      <td>0.547222</td>\n",
       "      <td>0.288889</td>\n",
       "      <td>0.438889</td>\n",
       "      <td>0.169444</td>\n",
       "      <td>0.352778</td>\n",
       "      <td>...</td>\n",
       "      <td>0.450000</td>\n",
       "      <td>0.961111</td>\n",
       "      <td>0.608333</td>\n",
       "      <td>0.486111</td>\n",
       "      <td>0.613889</td>\n",
       "      <td>0.705556</td>\n",
       "      <td>0.630556</td>\n",
       "      <td>0.922222</td>\n",
       "      <td>0.677778</td>\n",
       "      <td>0.977778</td>\n",
       "    </tr>\n",
       "    <tr>\n",
       "      <th>2</th>\n",
       "      <td>20240925_192500_707.jpg</td>\n",
       "      <td>0.541667</td>\n",
       "      <td>0.233333</td>\n",
       "      <td>0.538889</td>\n",
       "      <td>0.313889</td>\n",
       "      <td>0.525000</td>\n",
       "      <td>0.450000</td>\n",
       "      <td>0.452778</td>\n",
       "      <td>0.352778</td>\n",
       "      <td>0.422222</td>\n",
       "      <td>...</td>\n",
       "      <td>0.441667</td>\n",
       "      <td>0.972222</td>\n",
       "      <td>0.569444</td>\n",
       "      <td>0.591667</td>\n",
       "      <td>0.613889</td>\n",
       "      <td>0.725000</td>\n",
       "      <td>0.644444</td>\n",
       "      <td>0.947222</td>\n",
       "      <td>0.691667</td>\n",
       "      <td>0.977778</td>\n",
       "    </tr>\n",
       "    <tr>\n",
       "      <th>3</th>\n",
       "      <td>20240928_105700_132.jpg</td>\n",
       "      <td>0.561111</td>\n",
       "      <td>0.072222</td>\n",
       "      <td>0.563889</td>\n",
       "      <td>0.147222</td>\n",
       "      <td>0.555556</td>\n",
       "      <td>0.302778</td>\n",
       "      <td>0.452778</td>\n",
       "      <td>0.188889</td>\n",
       "      <td>0.325000</td>\n",
       "      <td>...</td>\n",
       "      <td>0.458333</td>\n",
       "      <td>0.983333</td>\n",
       "      <td>0.619444</td>\n",
       "      <td>0.480556</td>\n",
       "      <td>0.613889</td>\n",
       "      <td>0.663889</td>\n",
       "      <td>0.625000</td>\n",
       "      <td>0.919444</td>\n",
       "      <td>0.663889</td>\n",
       "      <td>0.969444</td>\n",
       "    </tr>\n",
       "    <tr>\n",
       "      <th>4</th>\n",
       "      <td>20240928_105700_259.jpg</td>\n",
       "      <td>0.516667</td>\n",
       "      <td>0.044444</td>\n",
       "      <td>0.558333</td>\n",
       "      <td>0.086111</td>\n",
       "      <td>0.613889</td>\n",
       "      <td>0.288889</td>\n",
       "      <td>0.658333</td>\n",
       "      <td>0.197222</td>\n",
       "      <td>0.730556</td>\n",
       "      <td>...</td>\n",
       "      <td>0.616667</td>\n",
       "      <td>0.961111</td>\n",
       "      <td>0.550000</td>\n",
       "      <td>0.458333</td>\n",
       "      <td>0.522222</td>\n",
       "      <td>0.700000</td>\n",
       "      <td>0.572222</td>\n",
       "      <td>0.980556</td>\n",
       "      <td>0.488889</td>\n",
       "      <td>0.972222</td>\n",
       "    </tr>\n",
       "    <tr>\n",
       "      <th>...</th>\n",
       "      <td>...</td>\n",
       "      <td>...</td>\n",
       "      <td>...</td>\n",
       "      <td>...</td>\n",
       "      <td>...</td>\n",
       "      <td>...</td>\n",
       "      <td>...</td>\n",
       "      <td>...</td>\n",
       "      <td>...</td>\n",
       "      <td>...</td>\n",
       "      <td>...</td>\n",
       "      <td>...</td>\n",
       "      <td>...</td>\n",
       "      <td>...</td>\n",
       "      <td>...</td>\n",
       "      <td>...</td>\n",
       "      <td>...</td>\n",
       "      <td>...</td>\n",
       "      <td>...</td>\n",
       "      <td>...</td>\n",
       "      <td>...</td>\n",
       "    </tr>\n",
       "    <tr>\n",
       "      <th>446</th>\n",
       "      <td>20240925_192500_487.jpg</td>\n",
       "      <td>0.491667</td>\n",
       "      <td>0.236111</td>\n",
       "      <td>0.497222</td>\n",
       "      <td>0.302778</td>\n",
       "      <td>0.488889</td>\n",
       "      <td>0.444444</td>\n",
       "      <td>0.419444</td>\n",
       "      <td>0.358333</td>\n",
       "      <td>0.422222</td>\n",
       "      <td>...</td>\n",
       "      <td>0.427778</td>\n",
       "      <td>0.994444</td>\n",
       "      <td>0.547222</td>\n",
       "      <td>0.608333</td>\n",
       "      <td>0.541667</td>\n",
       "      <td>0.758333</td>\n",
       "      <td>0.530556</td>\n",
       "      <td>0.966667</td>\n",
       "      <td>0.550000</td>\n",
       "      <td>0.994444</td>\n",
       "    </tr>\n",
       "    <tr>\n",
       "      <th>447</th>\n",
       "      <td>20240925_192500_32.jpg</td>\n",
       "      <td>0.522222</td>\n",
       "      <td>0.180556</td>\n",
       "      <td>0.516667</td>\n",
       "      <td>0.250000</td>\n",
       "      <td>0.508333</td>\n",
       "      <td>0.436111</td>\n",
       "      <td>0.422222</td>\n",
       "      <td>0.302778</td>\n",
       "      <td>0.363889</td>\n",
       "      <td>...</td>\n",
       "      <td>0.441667</td>\n",
       "      <td>0.988889</td>\n",
       "      <td>0.555556</td>\n",
       "      <td>0.622222</td>\n",
       "      <td>0.533333</td>\n",
       "      <td>0.822222</td>\n",
       "      <td>0.538889</td>\n",
       "      <td>0.991667</td>\n",
       "      <td>0.000000</td>\n",
       "      <td>0.000000</td>\n",
       "    </tr>\n",
       "    <tr>\n",
       "      <th>448</th>\n",
       "      <td>20240925_192500_690.jpg</td>\n",
       "      <td>0.647222</td>\n",
       "      <td>0.241667</td>\n",
       "      <td>0.638889</td>\n",
       "      <td>0.294444</td>\n",
       "      <td>0.650000</td>\n",
       "      <td>0.455556</td>\n",
       "      <td>0.558333</td>\n",
       "      <td>0.341667</td>\n",
       "      <td>0.516667</td>\n",
       "      <td>...</td>\n",
       "      <td>0.597222</td>\n",
       "      <td>0.980556</td>\n",
       "      <td>0.694444</td>\n",
       "      <td>0.597222</td>\n",
       "      <td>0.686111</td>\n",
       "      <td>0.750000</td>\n",
       "      <td>0.661111</td>\n",
       "      <td>0.947222</td>\n",
       "      <td>0.697222</td>\n",
       "      <td>0.972222</td>\n",
       "    </tr>\n",
       "    <tr>\n",
       "      <th>449</th>\n",
       "      <td>20240928_105700_696.jpg</td>\n",
       "      <td>0.000000</td>\n",
       "      <td>0.000000</td>\n",
       "      <td>0.000000</td>\n",
       "      <td>0.000000</td>\n",
       "      <td>0.550000</td>\n",
       "      <td>0.291667</td>\n",
       "      <td>0.219444</td>\n",
       "      <td>0.013889</td>\n",
       "      <td>0.266667</td>\n",
       "      <td>...</td>\n",
       "      <td>0.000000</td>\n",
       "      <td>0.000000</td>\n",
       "      <td>0.716667</td>\n",
       "      <td>0.613889</td>\n",
       "      <td>0.000000</td>\n",
       "      <td>0.000000</td>\n",
       "      <td>0.000000</td>\n",
       "      <td>0.000000</td>\n",
       "      <td>0.000000</td>\n",
       "      <td>0.000000</td>\n",
       "    </tr>\n",
       "    <tr>\n",
       "      <th>450</th>\n",
       "      <td>20240925_192500_353.jpg</td>\n",
       "      <td>0.433333</td>\n",
       "      <td>0.247222</td>\n",
       "      <td>0.455556</td>\n",
       "      <td>0.283333</td>\n",
       "      <td>0.483333</td>\n",
       "      <td>0.450000</td>\n",
       "      <td>0.541667</td>\n",
       "      <td>0.366667</td>\n",
       "      <td>0.577778</td>\n",
       "      <td>...</td>\n",
       "      <td>0.466667</td>\n",
       "      <td>0.963889</td>\n",
       "      <td>0.433333</td>\n",
       "      <td>0.605556</td>\n",
       "      <td>0.397222</td>\n",
       "      <td>0.780556</td>\n",
       "      <td>0.422222</td>\n",
       "      <td>0.986111</td>\n",
       "      <td>0.397222</td>\n",
       "      <td>0.997222</td>\n",
       "    </tr>\n",
       "  </tbody>\n",
       "</table>\n",
       "<p>451 rows × 35 columns</p>\n",
       "</div>"
      ],
      "text/plain": [
       "                       image    head_x    head_y    neck_x    neck_y  \\\n",
       "0    20240925_192500_312.jpg  0.630556  0.205556  0.636111  0.258333   \n",
       "1     20240928_105700_65.jpg  0.555556  0.044444  0.547222  0.127778   \n",
       "2    20240925_192500_707.jpg  0.541667  0.233333  0.538889  0.313889   \n",
       "3    20240928_105700_132.jpg  0.561111  0.072222  0.563889  0.147222   \n",
       "4    20240928_105700_259.jpg  0.516667  0.044444  0.558333  0.086111   \n",
       "..                       ...       ...       ...       ...       ...   \n",
       "446  20240925_192500_487.jpg  0.491667  0.236111  0.497222  0.302778   \n",
       "447   20240925_192500_32.jpg  0.522222  0.180556  0.516667  0.250000   \n",
       "448  20240925_192500_690.jpg  0.647222  0.241667  0.638889  0.294444   \n",
       "449  20240928_105700_696.jpg  0.000000  0.000000  0.000000  0.000000   \n",
       "450  20240925_192500_353.jpg  0.433333  0.247222  0.455556  0.283333   \n",
       "\n",
       "      torso_x   torso_y  left_shoulder_x  left_shoulder_y  left_elbow_x  ...  \\\n",
       "0    0.652778  0.402778         0.733333         0.305556      0.813889  ...   \n",
       "1    0.547222  0.288889         0.438889         0.169444      0.352778  ...   \n",
       "2    0.525000  0.450000         0.452778         0.352778      0.422222  ...   \n",
       "3    0.555556  0.302778         0.452778         0.188889      0.325000  ...   \n",
       "4    0.613889  0.288889         0.658333         0.197222      0.730556  ...   \n",
       "..        ...       ...              ...              ...           ...  ...   \n",
       "446  0.488889  0.444444         0.419444         0.358333      0.422222  ...   \n",
       "447  0.508333  0.436111         0.422222         0.302778      0.363889  ...   \n",
       "448  0.650000  0.455556         0.558333         0.341667      0.516667  ...   \n",
       "449  0.550000  0.291667         0.219444         0.013889      0.266667  ...   \n",
       "450  0.483333  0.450000         0.541667         0.366667      0.577778  ...   \n",
       "\n",
       "     left_foot_toe_x  left_foot_toe_y  right_hip_x  right_hip_y  right_knee_x  \\\n",
       "0           0.708333         0.980556     0.597222     0.597222      0.586111   \n",
       "1           0.450000         0.961111     0.608333     0.486111      0.613889   \n",
       "2           0.441667         0.972222     0.569444     0.591667      0.613889   \n",
       "3           0.458333         0.983333     0.619444     0.480556      0.613889   \n",
       "4           0.616667         0.961111     0.550000     0.458333      0.522222   \n",
       "..               ...              ...          ...          ...           ...   \n",
       "446         0.427778         0.994444     0.547222     0.608333      0.541667   \n",
       "447         0.441667         0.988889     0.555556     0.622222      0.533333   \n",
       "448         0.597222         0.980556     0.694444     0.597222      0.686111   \n",
       "449         0.000000         0.000000     0.716667     0.613889      0.000000   \n",
       "450         0.466667         0.963889     0.433333     0.605556      0.397222   \n",
       "\n",
       "     right_knee_y  right_heel_x  right_heel_y  right_foot_toe_x  \\\n",
       "0        0.758333      0.580556      0.961111          0.530556   \n",
       "1        0.705556      0.630556      0.922222          0.677778   \n",
       "2        0.725000      0.644444      0.947222          0.691667   \n",
       "3        0.663889      0.625000      0.919444          0.663889   \n",
       "4        0.700000      0.572222      0.980556          0.488889   \n",
       "..            ...           ...           ...               ...   \n",
       "446      0.758333      0.530556      0.966667          0.550000   \n",
       "447      0.822222      0.538889      0.991667          0.000000   \n",
       "448      0.750000      0.661111      0.947222          0.697222   \n",
       "449      0.000000      0.000000      0.000000          0.000000   \n",
       "450      0.780556      0.422222      0.986111          0.397222   \n",
       "\n",
       "     right_foot_toe_y  \n",
       "0            0.972222  \n",
       "1            0.977778  \n",
       "2            0.977778  \n",
       "3            0.969444  \n",
       "4            0.972222  \n",
       "..                ...  \n",
       "446          0.994444  \n",
       "447          0.000000  \n",
       "448          0.972222  \n",
       "449          0.000000  \n",
       "450          0.997222  \n",
       "\n",
       "[451 rows x 35 columns]"
      ]
     },
     "execution_count": 5,
     "metadata": {},
     "output_type": "execute_result"
    }
   ],
   "source": [
    "coordinateDf"
   ]
  },
  {
   "cell_type": "markdown",
   "metadata": {},
   "source": [
    "## Dataset stuff"
   ]
  },
  {
   "cell_type": "code",
   "execution_count": 6,
   "metadata": {},
   "outputs": [],
   "source": [
    "class landmarksDataset(Dataset):\n",
    "    def __init__(self, csvFile, imageDir, transforms=None):\n",
    "        self.transforms = transforms\n",
    "        self.imageDir = imageDir\n",
    "        self.sample = []\n",
    "\n",
    "        df = pd.read_csv(csvFile)\n",
    "        imagesFile = df.pop(\"image\").values\n",
    "        landmarks = df\n",
    "        for index in range(len(imagesFile)):\n",
    "            landmarkCoordinates = landmarks.iloc[index].values\n",
    "            self.sample.append((\n",
    "                f\"{imageDir}/{imagesFile[index]}\",\n",
    "                (\n",
    "                    (landmarkCoordinates[0], landmarkCoordinates[1]),\n",
    "                    (landmarkCoordinates[2], landmarkCoordinates[3]),\n",
    "                    (landmarkCoordinates[4], landmarkCoordinates[5]),\n",
    "\n",
    "                    (landmarkCoordinates[6], landmarkCoordinates[7]),\n",
    "                    (landmarkCoordinates[8], landmarkCoordinates[9]),\n",
    "                    (landmarkCoordinates[10], landmarkCoordinates[11]),\n",
    "                    \n",
    "                    (landmarkCoordinates[12], landmarkCoordinates[13]),\n",
    "                    (landmarkCoordinates[14], landmarkCoordinates[15]),\n",
    "                    (landmarkCoordinates[16], landmarkCoordinates[17]),\n",
    "                    \n",
    "                    (landmarkCoordinates[18], landmarkCoordinates[19]),\n",
    "                    (landmarkCoordinates[20], landmarkCoordinates[21]),\n",
    "                    (landmarkCoordinates[22], landmarkCoordinates[23]),\n",
    "                    (landmarkCoordinates[24], landmarkCoordinates[25]),\n",
    "\n",
    "                    (landmarkCoordinates[26], landmarkCoordinates[27]),\n",
    "                    (landmarkCoordinates[28], landmarkCoordinates[29]),\n",
    "                    (landmarkCoordinates[30], landmarkCoordinates[31]),\n",
    "                    (landmarkCoordinates[32], landmarkCoordinates[33])\n",
    "                )\n",
    "                ))\n",
    "\n",
    "    def __len__(self):\n",
    "        return len(self.sample)\n",
    "    \n",
    "    def __getitem__(self, index):\n",
    "        imgPath, landmarks = self.sample[index]\n",
    "        landmarks = torch.tensor(landmarks)\n",
    "        image = Image.open(imgPath).convert(\"RGB\")\n",
    "        if self.transforms:\n",
    "            image = self.transforms(image) / 255\n",
    "        return image, landmarks"
   ]
  },
  {
   "cell_type": "code",
   "execution_count": 7,
   "metadata": {},
   "outputs": [],
   "source": [
    "def loadDataset(csvFile, imageDir, transforms=None, batchSize=16, splitRatio=0.2, worker=16):\n",
    "    dataset = landmarksDataset(csvFile, imageDir, transforms)\n",
    "    trainDataset, testDataset = train_test_split(dataset, test_size=splitRatio)\n",
    "    print(f\"Train dataset size: {len(trainDataset)}, Test dataset size: {len(testDataset)}\")\n",
    "    trainLoader = DataLoader(trainDataset, batch_size=batchSize, num_workers=worker)\n",
    "    testLoader = DataLoader(testDataset, batch_size=batchSize, num_workers=worker)\n",
    "    return trainLoader, testLoader"
   ]
  },
  {
   "cell_type": "code",
   "execution_count": 8,
   "metadata": {},
   "outputs": [],
   "source": [
    "imageTransformers = transforms.Compose([\n",
    "    v2.PILToTensor(),\n",
    "    v2.ToDtype(torch.float32),\n",
    "    v2.Resize(256)\n",
    "])"
   ]
  },
  {
   "cell_type": "markdown",
   "metadata": {},
   "source": [
    "## Dataset loading"
   ]
  },
  {
   "cell_type": "code",
   "execution_count": 9,
   "metadata": {},
   "outputs": [
    {
     "name": "stdout",
     "output_type": "stream",
     "text": [
      "Train dataset size: 360, Test dataset size: 91\n"
     ]
    }
   ],
   "source": [
    "trainLoader, testLoader = loadDataset(csvFile, datasetDir, imageTransformers)"
   ]
  },
  {
   "cell_type": "markdown",
   "metadata": {},
   "source": [
    "# Model"
   ]
  },
  {
   "cell_type": "markdown",
   "metadata": {},
   "source": [
    "## Model debugging"
   ]
  },
  {
   "cell_type": "code",
   "execution_count": null,
   "metadata": {},
   "outputs": [
    {
     "name": "stdout",
     "output_type": "stream",
     "text": [
      "==========================================================================================\n",
      "Layer (type:depth-idx)                   Output Shape              Param #\n",
      "==========================================================================================\n",
      "├─Sequential: 1-1                        [-1, 65536]               --\n",
      "|    └─Conv2d: 2-1                       [-1, 16, 256, 256]        448\n",
      "|    └─ReLU: 2-2                         [-1, 16, 256, 256]        --\n",
      "|    └─Conv2d: 2-3                       [-1, 64, 256, 256]        9,280\n",
      "|    └─ReLU: 2-4                         [-1, 64, 256, 256]        --\n",
      "|    └─MaxPool2d: 2-5                    [-1, 64, 128, 128]        --\n",
      "|    └─BatchNorm2d: 2-6                  [-1, 64, 128, 128]        128\n",
      "|    └─Conv2d: 2-7                       [-1, 128, 128, 128]       73,856\n",
      "|    └─ReLU: 2-8                         [-1, 128, 128, 128]       --\n",
      "|    └─Conv2d: 2-9                       [-1, 256, 128, 128]       295,168\n",
      "|    └─ReLU: 2-10                        [-1, 256, 128, 128]       --\n",
      "|    └─MaxPool2d: 2-11                   [-1, 256, 64, 64]         --\n",
      "|    └─BatchNorm2d: 2-12                 [-1, 256, 64, 64]         512\n",
      "|    └─Conv2d: 2-13                      [-1, 384, 64, 64]         885,120\n",
      "|    └─ReLU: 2-14                        [-1, 384, 64, 64]         --\n",
      "|    └─Conv2d: 2-15                      [-1, 384, 64, 64]         1,327,488\n",
      "|    └─ReLU: 2-16                        [-1, 384, 64, 64]         --\n",
      "|    └─MaxPool2d: 2-17                   [-1, 384, 32, 32]         --\n",
      "|    └─BatchNorm2d: 2-18                 [-1, 384, 32, 32]         768\n",
      "|    └─Conv2d: 2-19                      [-1, 512, 32, 32]         1,769,984\n",
      "|    └─ReLU: 2-20                        [-1, 512, 32, 32]         --\n",
      "|    └─Conv2d: 2-21                      [-1, 512, 32, 32]         2,359,808\n",
      "|    └─ReLU: 2-22                        [-1, 512, 32, 32]         --\n",
      "|    └─MaxPool2d: 2-23                   [-1, 512, 16, 16]         --\n",
      "|    └─BatchNorm2d: 2-24                 [-1, 512, 16, 16]         1,024\n",
      "|    └─Conv2d: 2-25                      [-1, 1024, 16, 16]        4,719,616\n",
      "|    └─ReLU: 2-26                        [-1, 1024, 16, 16]        --\n",
      "|    └─Conv2d: 2-27                      [-1, 1024, 16, 16]        9,438,208\n",
      "|    └─ReLU: 2-28                        [-1, 1024, 16, 16]        --\n",
      "|    └─MaxPool2d: 2-29                   [-1, 1024, 8, 8]          --\n",
      "|    └─AdaptiveMaxPool2d: 2-30           [-1, 1024, 8, 8]          --\n",
      "|    └─Flatten: 2-31                     [-1, 65536]               --\n",
      "├─Sequential: 1-2                        [-1, 1024]                --\n",
      "|    └─Linear: 2-32                      [-1, 1024]                67,109,888\n",
      "|    └─Dropout: 2-33                     [-1, 1024]                --\n",
      "|    └─LeakyReLU: 2-34                   [-1, 1024]                --\n",
      "|    └─Linear: 2-35                      [-1, 1024]                1,049,600\n",
      "|    └─Dropout: 2-36                     [-1, 1024]                --\n",
      "|    └─LeakyReLU: 2-37                   [-1, 1024]                --\n",
      "├─Sequential: 1-3                        [-1, 2]                   --\n",
      "|    └─Linear: 2-38                      [-1, 32]                  32,800\n",
      "|    └─Dropout: 2-39                     [-1, 32]                  --\n",
      "|    └─Tanh: 2-40                        [-1, 32]                  --\n",
      "|    └─Linear: 2-41                      [-1, 2]                   66\n",
      "|    └─Sigmoid: 2-42                     [-1, 2]                   --\n",
      "├─Sequential: 1-4                        [-1, 2]                   --\n",
      "|    └─Linear: 2-43                      [-1, 32]                  32,800\n",
      "|    └─Dropout: 2-44                     [-1, 32]                  --\n",
      "|    └─Tanh: 2-45                        [-1, 32]                  --\n",
      "|    └─Linear: 2-46                      [-1, 2]                   66\n",
      "|    └─Sigmoid: 2-47                     [-1, 2]                   --\n",
      "├─Sequential: 1-5                        [-1, 2]                   --\n",
      "|    └─Linear: 2-48                      [-1, 32]                  32,800\n",
      "|    └─Dropout: 2-49                     [-1, 32]                  --\n",
      "|    └─Tanh: 2-50                        [-1, 32]                  --\n",
      "|    └─Linear: 2-51                      [-1, 2]                   66\n",
      "|    └─Sigmoid: 2-52                     [-1, 2]                   --\n",
      "├─Sequential: 1-6                        [-1, 2]                   --\n",
      "|    └─Linear: 2-53                      [-1, 32]                  32,800\n",
      "|    └─Dropout: 2-54                     [-1, 32]                  --\n",
      "|    └─Tanh: 2-55                        [-1, 32]                  --\n",
      "|    └─Linear: 2-56                      [-1, 2]                   66\n",
      "|    └─Sigmoid: 2-57                     [-1, 2]                   --\n",
      "├─Sequential: 1-7                        [-1, 2]                   --\n",
      "|    └─Linear: 2-58                      [-1, 32]                  32,800\n",
      "|    └─Dropout: 2-59                     [-1, 32]                  --\n",
      "|    └─Tanh: 2-60                        [-1, 32]                  --\n",
      "|    └─Linear: 2-61                      [-1, 2]                   66\n",
      "|    └─Sigmoid: 2-62                     [-1, 2]                   --\n",
      "├─Sequential: 1-8                        [-1, 2]                   --\n",
      "|    └─Linear: 2-63                      [-1, 32]                  32,800\n",
      "|    └─Dropout: 2-64                     [-1, 32]                  --\n",
      "|    └─Tanh: 2-65                        [-1, 32]                  --\n",
      "|    └─Linear: 2-66                      [-1, 2]                   66\n",
      "|    └─Sigmoid: 2-67                     [-1, 2]                   --\n",
      "├─Sequential: 1-9                        [-1, 2]                   --\n",
      "|    └─Linear: 2-68                      [-1, 32]                  32,800\n",
      "|    └─Dropout: 2-69                     [-1, 32]                  --\n",
      "|    └─Tanh: 2-70                        [-1, 32]                  --\n",
      "|    └─Linear: 2-71                      [-1, 2]                   66\n",
      "|    └─Sigmoid: 2-72                     [-1, 2]                   --\n",
      "├─Sequential: 1-10                       [-1, 2]                   --\n",
      "|    └─Linear: 2-73                      [-1, 32]                  32,800\n",
      "|    └─Dropout: 2-74                     [-1, 32]                  --\n",
      "|    └─Tanh: 2-75                        [-1, 32]                  --\n",
      "|    └─Linear: 2-76                      [-1, 2]                   66\n",
      "|    └─Sigmoid: 2-77                     [-1, 2]                   --\n",
      "├─Sequential: 1-11                       [-1, 2]                   --\n",
      "|    └─Linear: 2-78                      [-1, 32]                  32,800\n",
      "|    └─Dropout: 2-79                     [-1, 32]                  --\n",
      "|    └─Tanh: 2-80                        [-1, 32]                  --\n",
      "|    └─Linear: 2-81                      [-1, 2]                   66\n",
      "|    └─Sigmoid: 2-82                     [-1, 2]                   --\n",
      "├─Sequential: 1-12                       [-1, 2]                   --\n",
      "|    └─Linear: 2-83                      [-1, 32]                  32,800\n",
      "|    └─Dropout: 2-84                     [-1, 32]                  --\n",
      "|    └─Tanh: 2-85                        [-1, 32]                  --\n",
      "|    └─Linear: 2-86                      [-1, 2]                   66\n",
      "|    └─Sigmoid: 2-87                     [-1, 2]                   --\n",
      "├─Sequential: 1-13                       [-1, 2]                   --\n",
      "|    └─Linear: 2-88                      [-1, 32]                  32,800\n",
      "|    └─Dropout: 2-89                     [-1, 32]                  --\n",
      "|    └─Tanh: 2-90                        [-1, 32]                  --\n",
      "|    └─Linear: 2-91                      [-1, 2]                   66\n",
      "|    └─Sigmoid: 2-92                     [-1, 2]                   --\n",
      "├─Sequential: 1-14                       [-1, 2]                   --\n",
      "|    └─Linear: 2-93                      [-1, 32]                  32,800\n",
      "|    └─Dropout: 2-94                     [-1, 32]                  --\n",
      "|    └─Tanh: 2-95                        [-1, 32]                  --\n",
      "|    └─Linear: 2-96                      [-1, 2]                   66\n",
      "|    └─Sigmoid: 2-97                     [-1, 2]                   --\n",
      "├─Sequential: 1-15                       [-1, 2]                   --\n",
      "|    └─Linear: 2-98                      [-1, 32]                  32,800\n",
      "|    └─Dropout: 2-99                     [-1, 32]                  --\n",
      "|    └─Tanh: 2-100                       [-1, 32]                  --\n",
      "|    └─Linear: 2-101                     [-1, 2]                   66\n",
      "|    └─Sigmoid: 2-102                    [-1, 2]                   --\n",
      "├─Sequential: 1-16                       [-1, 2]                   --\n",
      "|    └─Linear: 2-103                     [-1, 32]                  32,800\n",
      "|    └─Dropout: 2-104                    [-1, 32]                  --\n",
      "|    └─Tanh: 2-105                       [-1, 32]                  --\n",
      "|    └─Linear: 2-106                     [-1, 2]                   66\n",
      "|    └─Sigmoid: 2-107                    [-1, 2]                   --\n",
      "├─Sequential: 1-17                       [-1, 2]                   --\n",
      "|    └─Linear: 2-108                     [-1, 32]                  32,800\n",
      "|    └─Dropout: 2-109                    [-1, 32]                  --\n",
      "|    └─Tanh: 2-110                       [-1, 32]                  --\n",
      "|    └─Linear: 2-111                     [-1, 2]                   66\n",
      "|    └─Sigmoid: 2-112                    [-1, 2]                   --\n",
      "├─Sequential: 1-18                       [-1, 2]                   --\n",
      "|    └─Linear: 2-113                     [-1, 32]                  32,800\n",
      "|    └─Dropout: 2-114                    [-1, 32]                  --\n",
      "|    └─Tanh: 2-115                       [-1, 32]                  --\n",
      "|    └─Linear: 2-116                     [-1, 2]                   66\n",
      "|    └─Sigmoid: 2-117                    [-1, 2]                   --\n",
      "├─Sequential: 1-19                       [-1, 2]                   --\n",
      "|    └─Linear: 2-118                     [-1, 32]                  32,800\n",
      "|    └─Dropout: 2-119                    [-1, 32]                  --\n",
      "|    └─Tanh: 2-120                       [-1, 32]                  --\n",
      "|    └─Linear: 2-121                     [-1, 2]                   66\n",
      "|    └─Sigmoid: 2-122                    [-1, 2]                   --\n",
      "==========================================================================================\n",
      "Total params: 89,599,618\n",
      "Trainable params: 89,599,618\n",
      "Non-trainable params: 0\n",
      "Total mult-adds (G): 23.74\n",
      "==========================================================================================\n",
      "Input size (MB): 12.00\n",
      "Forward/backward pass size (MB): 144.02\n",
      "Params size (MB): 341.80\n",
      "Estimated Total Size (MB): 497.82\n",
      "==========================================================================================\n"
     ]
    }
   ],
   "source": [
    "debugModel = poseLandmark()\n",
    "summary(debugModel, torch.zeros(16, 3, 256, 256))\n",
    "torch.cuda.empty_cache()"
   ]
  },
  {
   "cell_type": "code",
   "execution_count": 7,
   "metadata": {},
   "outputs": [],
   "source": [
    "debugModel = poseLandmark()\n",
    "debugOutput = debugModel(torch.zeros(16, 3, 360, 360))\n",
    "torch.cuda.empty_cache()"
   ]
  },
  {
   "cell_type": "code",
   "execution_count": 8,
   "metadata": {},
   "outputs": [
    {
     "name": "stdout",
     "output_type": "stream",
     "text": [
      "17\n",
      "torch.Size([16, 2])\n"
     ]
    }
   ],
   "source": [
    "print(len(debugOutput))\n",
    "print(debugOutput[0].shape)"
   ]
  },
  {
   "cell_type": "markdown",
   "metadata": {},
   "source": [
    "## Model training"
   ]
  },
  {
   "cell_type": "code",
   "execution_count": 11,
   "metadata": {},
   "outputs": [],
   "source": [
    "def train(model,\n",
    "          epochs,\n",
    "          scaler,\n",
    "          lossFn,\n",
    "          optimizer,\n",
    "          trainLoader,\n",
    "          validationLoader,\n",
    "          checkpointPath,\n",
    "          overfitDelta=0.005,\n",
    "          patient=10,\n",
    "          device=\"cuda\"):\n",
    "    history = {\"trainAvgLoss\" : [], \"testAvgLoss\" : []}\n",
    "    model.to(device)\n",
    "    bestLoss = 99999999999\n",
    "    overfitStreak = 0\n",
    "    try:\n",
    "        for epoch in range(epochs + 1):\n",
    "            # Training\n",
    "            model.train()\n",
    "            totalTrainLoss = 0\n",
    "            totalTrainBatchCount = 0\n",
    "            trainBar = tqdm(trainLoader, desc=f\"Training epoch: {epoch} / {epochs}\", unit=\"batch\", leave=True)\n",
    "            for batch in trainBar:\n",
    "                loss = 0\n",
    "                for index, landmark in enumerate(batch):\n",
    "                    batch[index] = batch[index].to(device)\n",
    "                image = batch[0]\n",
    "                landmarks = batch[1:][0].permute(1, 0, 2)\n",
    "\n",
    "                with torch.autocast(device_type=device, dtype=torch.bfloat16):\n",
    "                    optimizer.zero_grad()\n",
    "                    predictions = model(image)\n",
    "                    for index, landmarkPrediction in enumerate(predictions):\n",
    "                        loss += lossFn(landmarkPrediction, landmarks[index])\n",
    "\n",
    "                scaler.scale(loss).backward()\n",
    "                scaler.step(optimizer)\n",
    "                scaler.update()\n",
    "                totalTrainLoss += loss.item()\n",
    "                totalTrainBatchCount += 1\n",
    "            history[\"trainAvgLoss\"].append(totalTrainLoss / totalTrainBatchCount)\n",
    "\n",
    "            # Validation\n",
    "            model.eval()\n",
    "            totalValLoss = 0\n",
    "            totalValBatchCount = 0\n",
    "            validationBar = tqdm(validationLoader, desc=f\"Validating epoch: {epoch} / {epochs}\", unit=\"batch\", leave=True)\n",
    "            for batch in validationBar:\n",
    "                loss = 0\n",
    "                for index, landmark in enumerate(batch):\n",
    "                    batch[index] = batch[index].to(device)\n",
    "                image = batch[0]\n",
    "                landmarks = batch[1:][0].permute(1, 0, 2)\n",
    "\n",
    "                with torch.autocast(device_type=device, dtype=torch.bfloat16):\n",
    "                    predictions = model(image)\n",
    "                    for index, landmarkPrediction in enumerate(predictions):\n",
    "                        loss += lossFn(landmarkPrediction, landmarks[index])\n",
    "\n",
    "                totalValLoss += loss.item()\n",
    "                totalValBatchCount += 1\n",
    "            history[\"testAvgLoss\"].append(totalValLoss / totalValBatchCount)\n",
    "\n",
    "            # Early stopping\n",
    "            if bestLoss > history[\"testAvgLoss\"][-1] + overfitDelta:\n",
    "                bestLoss = history[\"testAvgLoss\"][-1]\n",
    "                overfitStreak = 0\n",
    "                torch.save(model.state_dict(), checkpointPath)\n",
    "            else:\n",
    "                overfitStreak += 1\n",
    "\n",
    "            # Logging\n",
    "            print(f\"{'Average train loss: ':>30}{history['trainAvgLoss'][-1]:.5f}\")\n",
    "            print(f\"{'Average test loss: ':>29}{history['testAvgLoss'][-1]:.5f}\",end=\"\\n\\n\")\n",
    "\n",
    "            if overfitStreak >= patient:\n",
    "                model.load_state_dict(torch.load(checkpointPath, weights_only=True))\n",
    "                print(\"Model is going overfit\")\n",
    "                break\n",
    "    except KeyboardInterrupt:\n",
    "        model.load_state_dict(torch.load(checkpointPath, weights_only=True))\n",
    "        print(\"Stop training due to keyboard interrupt\")\n",
    "    return history"
   ]
  },
  {
   "cell_type": "code",
   "execution_count": 12,
   "metadata": {},
   "outputs": [
    {
     "name": "stderr",
     "output_type": "stream",
     "text": [
      "Training epoch: 0 / 10000: 100%|██████████| 23/23 [00:03<00:00,  7.19batch/s]\n",
      "Validating epoch: 0 / 10000: 100%|██████████| 6/6 [00:00<00:00, 10.45batch/s]\n"
     ]
    },
    {
     "name": "stdout",
     "output_type": "stream",
     "text": [
      "          Average train loss: 3.02339\n",
      "          Average test loss: 3.02457\n",
      "\n"
     ]
    },
    {
     "name": "stderr",
     "output_type": "stream",
     "text": [
      "Training epoch: 1 / 10000: 100%|██████████| 23/23 [00:02<00:00,  8.73batch/s]\n",
      "Validating epoch: 1 / 10000: 100%|██████████| 6/6 [00:00<00:00, 10.92batch/s]\n"
     ]
    },
    {
     "name": "stdout",
     "output_type": "stream",
     "text": [
      "          Average train loss: 2.69794\n",
      "          Average test loss: 2.47616\n",
      "\n"
     ]
    },
    {
     "name": "stderr",
     "output_type": "stream",
     "text": [
      "Training epoch: 2 / 10000: 100%|██████████| 23/23 [00:02<00:00,  8.14batch/s]\n",
      "Validating epoch: 2 / 10000: 100%|██████████| 6/6 [00:00<00:00, 11.69batch/s]\n"
     ]
    },
    {
     "name": "stdout",
     "output_type": "stream",
     "text": [
      "          Average train loss: 2.58564\n",
      "          Average test loss: 2.33639\n",
      "\n"
     ]
    },
    {
     "name": "stderr",
     "output_type": "stream",
     "text": [
      "Training epoch: 3 / 10000: 100%|██████████| 23/23 [00:02<00:00,  8.46batch/s]\n",
      "Validating epoch: 3 / 10000: 100%|██████████| 6/6 [00:00<00:00, 11.13batch/s]\n"
     ]
    },
    {
     "name": "stdout",
     "output_type": "stream",
     "text": [
      "          Average train loss: 2.50663\n",
      "          Average test loss: 2.09967\n",
      "\n"
     ]
    },
    {
     "name": "stderr",
     "output_type": "stream",
     "text": [
      "Training epoch: 4 / 10000: 100%|██████████| 23/23 [00:02<00:00,  8.48batch/s]\n",
      "Validating epoch: 4 / 10000: 100%|██████████| 6/6 [00:00<00:00, 10.83batch/s]\n"
     ]
    },
    {
     "name": "stdout",
     "output_type": "stream",
     "text": [
      "          Average train loss: 2.44377\n",
      "          Average test loss: 1.98273\n",
      "\n"
     ]
    },
    {
     "name": "stderr",
     "output_type": "stream",
     "text": [
      "Training epoch: 5 / 10000: 100%|██████████| 23/23 [00:02<00:00,  8.70batch/s]\n",
      "Validating epoch: 5 / 10000: 100%|██████████| 6/6 [00:00<00:00, 10.89batch/s]\n"
     ]
    },
    {
     "name": "stdout",
     "output_type": "stream",
     "text": [
      "          Average train loss: 2.37266\n",
      "          Average test loss: 1.91056\n",
      "\n"
     ]
    },
    {
     "name": "stderr",
     "output_type": "stream",
     "text": [
      "Training epoch: 6 / 10000: 100%|██████████| 23/23 [00:02<00:00,  8.74batch/s]\n",
      "Validating epoch: 6 / 10000: 100%|██████████| 6/6 [00:00<00:00, 11.58batch/s]\n"
     ]
    },
    {
     "name": "stdout",
     "output_type": "stream",
     "text": [
      "          Average train loss: 2.32879\n",
      "          Average test loss: 1.82259\n",
      "\n"
     ]
    },
    {
     "name": "stderr",
     "output_type": "stream",
     "text": [
      "Training epoch: 7 / 10000: 100%|██████████| 23/23 [00:02<00:00,  8.76batch/s]\n",
      "Validating epoch: 7 / 10000: 100%|██████████| 6/6 [00:00<00:00, 11.02batch/s]\n"
     ]
    },
    {
     "name": "stdout",
     "output_type": "stream",
     "text": [
      "          Average train loss: 2.25429\n",
      "          Average test loss: 1.76417\n",
      "\n"
     ]
    },
    {
     "name": "stderr",
     "output_type": "stream",
     "text": [
      "Training epoch: 8 / 10000: 100%|██████████| 23/23 [00:02<00:00,  8.79batch/s]\n",
      "Validating epoch: 8 / 10000: 100%|██████████| 6/6 [00:00<00:00, 11.36batch/s]\n"
     ]
    },
    {
     "name": "stdout",
     "output_type": "stream",
     "text": [
      "          Average train loss: 2.20647\n",
      "          Average test loss: 1.69204\n",
      "\n"
     ]
    },
    {
     "name": "stderr",
     "output_type": "stream",
     "text": [
      "Training epoch: 9 / 10000: 100%|██████████| 23/23 [00:02<00:00,  8.87batch/s]\n",
      "Validating epoch: 9 / 10000: 100%|██████████| 6/6 [00:00<00:00, 10.57batch/s]\n"
     ]
    },
    {
     "name": "stdout",
     "output_type": "stream",
     "text": [
      "          Average train loss: 2.16054\n",
      "          Average test loss: 1.58791\n",
      "\n"
     ]
    },
    {
     "name": "stderr",
     "output_type": "stream",
     "text": [
      "Training epoch: 10 / 10000: 100%|██████████| 23/23 [00:02<00:00,  8.89batch/s]\n",
      "Validating epoch: 10 / 10000: 100%|██████████| 6/6 [00:00<00:00, 11.07batch/s]\n"
     ]
    },
    {
     "name": "stdout",
     "output_type": "stream",
     "text": [
      "          Average train loss: 2.12146\n",
      "          Average test loss: 1.55423\n",
      "\n"
     ]
    },
    {
     "name": "stderr",
     "output_type": "stream",
     "text": [
      "Training epoch: 11 / 10000: 100%|██████████| 23/23 [00:02<00:00,  8.60batch/s]\n",
      "Validating epoch: 11 / 10000: 100%|██████████| 6/6 [00:00<00:00, 10.48batch/s]\n"
     ]
    },
    {
     "name": "stdout",
     "output_type": "stream",
     "text": [
      "          Average train loss: 2.07220\n",
      "          Average test loss: 1.55608\n",
      "\n"
     ]
    },
    {
     "name": "stderr",
     "output_type": "stream",
     "text": [
      "Training epoch: 12 / 10000: 100%|██████████| 23/23 [00:02<00:00,  8.81batch/s]\n",
      "Validating epoch: 12 / 10000: 100%|██████████| 6/6 [00:00<00:00, 10.70batch/s]\n"
     ]
    },
    {
     "name": "stdout",
     "output_type": "stream",
     "text": [
      "          Average train loss: 2.02073\n",
      "          Average test loss: 1.45465\n",
      "\n"
     ]
    },
    {
     "name": "stderr",
     "output_type": "stream",
     "text": [
      "Training epoch: 13 / 10000: 100%|██████████| 23/23 [00:02<00:00,  8.75batch/s]\n",
      "Validating epoch: 13 / 10000: 100%|██████████| 6/6 [00:00<00:00, 11.53batch/s]\n"
     ]
    },
    {
     "name": "stdout",
     "output_type": "stream",
     "text": [
      "          Average train loss: 2.01187\n",
      "          Average test loss: 1.42711\n",
      "\n"
     ]
    },
    {
     "name": "stderr",
     "output_type": "stream",
     "text": [
      "Training epoch: 14 / 10000: 100%|██████████| 23/23 [00:02<00:00,  8.92batch/s]\n",
      "Validating epoch: 14 / 10000: 100%|██████████| 6/6 [00:00<00:00, 10.40batch/s]\n"
     ]
    },
    {
     "name": "stdout",
     "output_type": "stream",
     "text": [
      "          Average train loss: 1.96926\n",
      "          Average test loss: 1.38690\n",
      "\n"
     ]
    },
    {
     "name": "stderr",
     "output_type": "stream",
     "text": [
      "Training epoch: 15 / 10000: 100%|██████████| 23/23 [00:02<00:00,  8.77batch/s]\n",
      "Validating epoch: 15 / 10000: 100%|██████████| 6/6 [00:00<00:00, 11.55batch/s]\n"
     ]
    },
    {
     "name": "stdout",
     "output_type": "stream",
     "text": [
      "          Average train loss: 1.94869\n",
      "          Average test loss: 1.35439\n",
      "\n"
     ]
    },
    {
     "name": "stderr",
     "output_type": "stream",
     "text": [
      "Training epoch: 16 / 10000: 100%|██████████| 23/23 [00:02<00:00,  8.90batch/s]\n",
      "Validating epoch: 16 / 10000: 100%|██████████| 6/6 [00:00<00:00, 10.44batch/s]\n"
     ]
    },
    {
     "name": "stdout",
     "output_type": "stream",
     "text": [
      "          Average train loss: 1.92016\n",
      "          Average test loss: 1.35415\n",
      "\n"
     ]
    },
    {
     "name": "stderr",
     "output_type": "stream",
     "text": [
      "Training epoch: 17 / 10000: 100%|██████████| 23/23 [00:02<00:00,  8.84batch/s]\n",
      "Validating epoch: 17 / 10000: 100%|██████████| 6/6 [00:00<00:00, 11.55batch/s]\n"
     ]
    },
    {
     "name": "stdout",
     "output_type": "stream",
     "text": [
      "          Average train loss: 1.90621\n",
      "          Average test loss: 1.34008\n",
      "\n"
     ]
    },
    {
     "name": "stderr",
     "output_type": "stream",
     "text": [
      "Training epoch: 18 / 10000: 100%|██████████| 23/23 [00:02<00:00,  8.80batch/s]\n",
      "Validating epoch: 18 / 10000: 100%|██████████| 6/6 [00:00<00:00, 11.19batch/s]\n"
     ]
    },
    {
     "name": "stdout",
     "output_type": "stream",
     "text": [
      "          Average train loss: 1.88872\n",
      "          Average test loss: 1.30705\n",
      "\n"
     ]
    },
    {
     "name": "stderr",
     "output_type": "stream",
     "text": [
      "Training epoch: 19 / 10000: 100%|██████████| 23/23 [00:02<00:00,  8.82batch/s]\n",
      "Validating epoch: 19 / 10000: 100%|██████████| 6/6 [00:00<00:00, 11.10batch/s]\n"
     ]
    },
    {
     "name": "stdout",
     "output_type": "stream",
     "text": [
      "          Average train loss: 1.87391\n",
      "          Average test loss: 1.30739\n",
      "\n"
     ]
    },
    {
     "name": "stderr",
     "output_type": "stream",
     "text": [
      "Training epoch: 20 / 10000: 100%|██████████| 23/23 [00:02<00:00,  8.96batch/s]\n",
      "Validating epoch: 20 / 10000: 100%|██████████| 6/6 [00:00<00:00, 11.04batch/s]\n"
     ]
    },
    {
     "name": "stdout",
     "output_type": "stream",
     "text": [
      "          Average train loss: 1.86246\n",
      "          Average test loss: 1.32508\n",
      "\n"
     ]
    },
    {
     "name": "stderr",
     "output_type": "stream",
     "text": [
      "Training epoch: 21 / 10000: 100%|██████████| 23/23 [00:02<00:00,  8.73batch/s]\n",
      "Validating epoch: 21 / 10000: 100%|██████████| 6/6 [00:00<00:00, 10.32batch/s]\n"
     ]
    },
    {
     "name": "stdout",
     "output_type": "stream",
     "text": [
      "          Average train loss: 1.82932\n",
      "          Average test loss: 1.31285\n",
      "\n"
     ]
    },
    {
     "name": "stderr",
     "output_type": "stream",
     "text": [
      "Training epoch: 22 / 10000: 100%|██████████| 23/23 [00:02<00:00,  8.82batch/s]\n",
      "Validating epoch: 22 / 10000: 100%|██████████| 6/6 [00:00<00:00, 10.84batch/s]\n"
     ]
    },
    {
     "name": "stdout",
     "output_type": "stream",
     "text": [
      "          Average train loss: 1.81998\n",
      "          Average test loss: 1.26328\n",
      "\n"
     ]
    },
    {
     "name": "stderr",
     "output_type": "stream",
     "text": [
      "Training epoch: 23 / 10000: 100%|██████████| 23/23 [00:02<00:00,  8.82batch/s]\n",
      "Validating epoch: 23 / 10000: 100%|██████████| 6/6 [00:00<00:00, 11.79batch/s]\n"
     ]
    },
    {
     "name": "stdout",
     "output_type": "stream",
     "text": [
      "          Average train loss: 1.79049\n",
      "          Average test loss: 1.29367\n",
      "\n"
     ]
    },
    {
     "name": "stderr",
     "output_type": "stream",
     "text": [
      "Training epoch: 24 / 10000: 100%|██████████| 23/23 [00:02<00:00,  8.74batch/s]\n",
      "Validating epoch: 24 / 10000: 100%|██████████| 6/6 [00:00<00:00, 12.16batch/s]\n"
     ]
    },
    {
     "name": "stdout",
     "output_type": "stream",
     "text": [
      "          Average train loss: 1.81156\n",
      "          Average test loss: 1.21621\n",
      "\n"
     ]
    },
    {
     "name": "stderr",
     "output_type": "stream",
     "text": [
      "Training epoch: 25 / 10000: 100%|██████████| 23/23 [00:02<00:00,  8.92batch/s]\n",
      "Validating epoch: 25 / 10000: 100%|██████████| 6/6 [00:00<00:00, 11.31batch/s]\n"
     ]
    },
    {
     "name": "stdout",
     "output_type": "stream",
     "text": [
      "          Average train loss: 1.78387\n",
      "          Average test loss: 1.25463\n",
      "\n"
     ]
    },
    {
     "name": "stderr",
     "output_type": "stream",
     "text": [
      "Training epoch: 26 / 10000: 100%|██████████| 23/23 [00:02<00:00,  8.83batch/s]\n",
      "Validating epoch: 26 / 10000: 100%|██████████| 6/6 [00:00<00:00, 11.61batch/s]\n"
     ]
    },
    {
     "name": "stdout",
     "output_type": "stream",
     "text": [
      "          Average train loss: 1.75502\n",
      "          Average test loss: 1.31273\n",
      "\n"
     ]
    },
    {
     "name": "stderr",
     "output_type": "stream",
     "text": [
      "Training epoch: 27 / 10000: 100%|██████████| 23/23 [00:02<00:00,  8.91batch/s]\n",
      "Validating epoch: 27 / 10000: 100%|██████████| 6/6 [00:00<00:00, 12.25batch/s]\n"
     ]
    },
    {
     "name": "stdout",
     "output_type": "stream",
     "text": [
      "          Average train loss: 1.75614\n",
      "          Average test loss: 1.23905\n",
      "\n"
     ]
    },
    {
     "name": "stderr",
     "output_type": "stream",
     "text": [
      "Training epoch: 28 / 10000: 100%|██████████| 23/23 [00:02<00:00,  9.01batch/s]\n",
      "Validating epoch: 28 / 10000: 100%|██████████| 6/6 [00:00<00:00, 12.30batch/s]\n"
     ]
    },
    {
     "name": "stdout",
     "output_type": "stream",
     "text": [
      "          Average train loss: 1.75400\n",
      "          Average test loss: 1.26091\n",
      "\n"
     ]
    },
    {
     "name": "stderr",
     "output_type": "stream",
     "text": [
      "Training epoch: 29 / 10000: 100%|██████████| 23/23 [00:02<00:00,  8.95batch/s]\n",
      "Validating epoch: 29 / 10000: 100%|██████████| 6/6 [00:00<00:00, 12.19batch/s]\n"
     ]
    },
    {
     "name": "stdout",
     "output_type": "stream",
     "text": [
      "          Average train loss: 1.74456\n",
      "          Average test loss: 1.19167\n",
      "\n"
     ]
    },
    {
     "name": "stderr",
     "output_type": "stream",
     "text": [
      "Training epoch: 30 / 10000: 100%|██████████| 23/23 [00:02<00:00,  8.82batch/s]\n",
      "Validating epoch: 30 / 10000: 100%|██████████| 6/6 [00:00<00:00, 11.61batch/s]\n"
     ]
    },
    {
     "name": "stdout",
     "output_type": "stream",
     "text": [
      "          Average train loss: 1.70893\n",
      "          Average test loss: 1.15909\n",
      "\n"
     ]
    },
    {
     "name": "stderr",
     "output_type": "stream",
     "text": [
      "Training epoch: 31 / 10000: 100%|██████████| 23/23 [00:02<00:00,  8.81batch/s]\n",
      "Validating epoch: 31 / 10000: 100%|██████████| 6/6 [00:00<00:00, 11.60batch/s]\n"
     ]
    },
    {
     "name": "stdout",
     "output_type": "stream",
     "text": [
      "          Average train loss: 1.71493\n",
      "          Average test loss: 1.15736\n",
      "\n"
     ]
    },
    {
     "name": "stderr",
     "output_type": "stream",
     "text": [
      "Training epoch: 32 / 10000: 100%|██████████| 23/23 [00:02<00:00,  8.92batch/s]\n",
      "Validating epoch: 32 / 10000: 100%|██████████| 6/6 [00:00<00:00, 11.28batch/s]\n"
     ]
    },
    {
     "name": "stdout",
     "output_type": "stream",
     "text": [
      "          Average train loss: 1.70040\n",
      "          Average test loss: 1.17480\n",
      "\n"
     ]
    },
    {
     "name": "stderr",
     "output_type": "stream",
     "text": [
      "Training epoch: 33 / 10000: 100%|██████████| 23/23 [00:02<00:00,  8.75batch/s]\n",
      "Validating epoch: 33 / 10000: 100%|██████████| 6/6 [00:00<00:00, 11.71batch/s]\n"
     ]
    },
    {
     "name": "stdout",
     "output_type": "stream",
     "text": [
      "          Average train loss: 1.68095\n",
      "          Average test loss: 1.14720\n",
      "\n"
     ]
    },
    {
     "name": "stderr",
     "output_type": "stream",
     "text": [
      "Training epoch: 34 / 10000: 100%|██████████| 23/23 [00:02<00:00,  8.80batch/s]\n",
      "Validating epoch: 34 / 10000: 100%|██████████| 6/6 [00:00<00:00, 11.19batch/s]\n"
     ]
    },
    {
     "name": "stdout",
     "output_type": "stream",
     "text": [
      "          Average train loss: 1.68471\n",
      "          Average test loss: 1.12629\n",
      "\n"
     ]
    },
    {
     "name": "stderr",
     "output_type": "stream",
     "text": [
      "Training epoch: 35 / 10000: 100%|██████████| 23/23 [00:02<00:00,  8.84batch/s]\n",
      "Validating epoch: 35 / 10000: 100%|██████████| 6/6 [00:00<00:00, 11.31batch/s]\n"
     ]
    },
    {
     "name": "stdout",
     "output_type": "stream",
     "text": [
      "          Average train loss: 1.67119\n",
      "          Average test loss: 1.11547\n",
      "\n"
     ]
    },
    {
     "name": "stderr",
     "output_type": "stream",
     "text": [
      "Training epoch: 36 / 10000: 100%|██████████| 23/23 [00:02<00:00,  8.56batch/s]\n",
      "Validating epoch: 36 / 10000: 100%|██████████| 6/6 [00:00<00:00, 12.01batch/s]\n"
     ]
    },
    {
     "name": "stdout",
     "output_type": "stream",
     "text": [
      "          Average train loss: 1.65280\n",
      "          Average test loss: 1.14366\n",
      "\n"
     ]
    },
    {
     "name": "stderr",
     "output_type": "stream",
     "text": [
      "Training epoch: 37 / 10000: 100%|██████████| 23/23 [00:02<00:00,  8.83batch/s]\n",
      "Validating epoch: 37 / 10000: 100%|██████████| 6/6 [00:00<00:00, 11.80batch/s]\n"
     ]
    },
    {
     "name": "stdout",
     "output_type": "stream",
     "text": [
      "          Average train loss: 1.65019\n",
      "          Average test loss: 1.13830\n",
      "\n"
     ]
    },
    {
     "name": "stderr",
     "output_type": "stream",
     "text": [
      "Training epoch: 38 / 10000: 100%|██████████| 23/23 [00:02<00:00,  8.80batch/s]\n",
      "Validating epoch: 38 / 10000: 100%|██████████| 6/6 [00:00<00:00, 10.98batch/s]\n"
     ]
    },
    {
     "name": "stdout",
     "output_type": "stream",
     "text": [
      "          Average train loss: 1.64009\n",
      "          Average test loss: 1.11325\n",
      "\n"
     ]
    },
    {
     "name": "stderr",
     "output_type": "stream",
     "text": [
      "Training epoch: 39 / 10000: 100%|██████████| 23/23 [00:02<00:00,  8.83batch/s]\n",
      "Validating epoch: 39 / 10000: 100%|██████████| 6/6 [00:00<00:00, 11.39batch/s]\n"
     ]
    },
    {
     "name": "stdout",
     "output_type": "stream",
     "text": [
      "          Average train loss: 1.62581\n",
      "          Average test loss: 1.12123\n",
      "\n"
     ]
    },
    {
     "name": "stderr",
     "output_type": "stream",
     "text": [
      "Training epoch: 40 / 10000: 100%|██████████| 23/23 [00:02<00:00,  8.71batch/s]\n",
      "Validating epoch: 40 / 10000: 100%|██████████| 6/6 [00:00<00:00, 11.52batch/s]\n"
     ]
    },
    {
     "name": "stdout",
     "output_type": "stream",
     "text": [
      "          Average train loss: 1.61589\n",
      "          Average test loss: 1.09580\n",
      "\n"
     ]
    },
    {
     "name": "stderr",
     "output_type": "stream",
     "text": [
      "Training epoch: 41 / 10000: 100%|██████████| 23/23 [00:02<00:00,  8.42batch/s]\n",
      "Validating epoch: 41 / 10000: 100%|██████████| 6/6 [00:00<00:00, 10.79batch/s]\n"
     ]
    },
    {
     "name": "stdout",
     "output_type": "stream",
     "text": [
      "          Average train loss: 1.61002\n",
      "          Average test loss: 1.10841\n",
      "\n"
     ]
    },
    {
     "name": "stderr",
     "output_type": "stream",
     "text": [
      "Training epoch: 42 / 10000: 100%|██████████| 23/23 [00:02<00:00,  8.58batch/s]\n",
      "Validating epoch: 42 / 10000: 100%|██████████| 6/6 [00:00<00:00,  9.70batch/s]\n"
     ]
    },
    {
     "name": "stdout",
     "output_type": "stream",
     "text": [
      "          Average train loss: 1.60867\n",
      "          Average test loss: 1.09081\n",
      "\n"
     ]
    },
    {
     "name": "stderr",
     "output_type": "stream",
     "text": [
      "Training epoch: 43 / 10000: 100%|██████████| 23/23 [00:02<00:00,  8.45batch/s]\n",
      "Validating epoch: 43 / 10000: 100%|██████████| 6/6 [00:00<00:00, 11.43batch/s]\n"
     ]
    },
    {
     "name": "stdout",
     "output_type": "stream",
     "text": [
      "          Average train loss: 1.60729\n",
      "          Average test loss: 1.07704\n",
      "\n"
     ]
    },
    {
     "name": "stderr",
     "output_type": "stream",
     "text": [
      "Training epoch: 44 / 10000: 100%|██████████| 23/23 [00:02<00:00,  8.88batch/s]\n",
      "Validating epoch: 44 / 10000: 100%|██████████| 6/6 [00:00<00:00, 11.22batch/s]\n"
     ]
    },
    {
     "name": "stdout",
     "output_type": "stream",
     "text": [
      "          Average train loss: 1.59109\n",
      "          Average test loss: 1.03717\n",
      "\n"
     ]
    },
    {
     "name": "stderr",
     "output_type": "stream",
     "text": [
      "Training epoch: 45 / 10000: 100%|██████████| 23/23 [00:02<00:00,  8.89batch/s]\n",
      "Validating epoch: 45 / 10000: 100%|██████████| 6/6 [00:00<00:00, 11.08batch/s]\n"
     ]
    },
    {
     "name": "stdout",
     "output_type": "stream",
     "text": [
      "          Average train loss: 1.59117\n",
      "          Average test loss: 1.03892\n",
      "\n"
     ]
    },
    {
     "name": "stderr",
     "output_type": "stream",
     "text": [
      "Training epoch: 46 / 10000: 100%|██████████| 23/23 [00:02<00:00,  8.87batch/s]\n",
      "Validating epoch: 46 / 10000: 100%|██████████| 6/6 [00:00<00:00, 11.59batch/s]\n"
     ]
    },
    {
     "name": "stdout",
     "output_type": "stream",
     "text": [
      "          Average train loss: 1.57916\n",
      "          Average test loss: 1.04761\n",
      "\n"
     ]
    },
    {
     "name": "stderr",
     "output_type": "stream",
     "text": [
      "Training epoch: 47 / 10000: 100%|██████████| 23/23 [00:02<00:00,  8.71batch/s]\n",
      "Validating epoch: 47 / 10000: 100%|██████████| 6/6 [00:00<00:00, 11.33batch/s]\n"
     ]
    },
    {
     "name": "stdout",
     "output_type": "stream",
     "text": [
      "          Average train loss: 1.55912\n",
      "          Average test loss: 1.03131\n",
      "\n"
     ]
    },
    {
     "name": "stderr",
     "output_type": "stream",
     "text": [
      "Training epoch: 48 / 10000: 100%|██████████| 23/23 [00:02<00:00,  8.74batch/s]\n",
      "Validating epoch: 48 / 10000: 100%|██████████| 6/6 [00:00<00:00, 12.31batch/s]\n"
     ]
    },
    {
     "name": "stdout",
     "output_type": "stream",
     "text": [
      "          Average train loss: 1.55634\n",
      "          Average test loss: 1.05004\n",
      "\n"
     ]
    },
    {
     "name": "stderr",
     "output_type": "stream",
     "text": [
      "Training epoch: 49 / 10000: 100%|██████████| 23/23 [00:02<00:00,  8.84batch/s]\n",
      "Validating epoch: 49 / 10000: 100%|██████████| 6/6 [00:00<00:00, 12.12batch/s]\n"
     ]
    },
    {
     "name": "stdout",
     "output_type": "stream",
     "text": [
      "          Average train loss: 1.55340\n",
      "          Average test loss: 1.05351\n",
      "\n"
     ]
    },
    {
     "name": "stderr",
     "output_type": "stream",
     "text": [
      "Training epoch: 50 / 10000: 100%|██████████| 23/23 [00:02<00:00,  8.94batch/s]\n",
      "Validating epoch: 50 / 10000: 100%|██████████| 6/6 [00:00<00:00, 12.11batch/s]\n"
     ]
    },
    {
     "name": "stdout",
     "output_type": "stream",
     "text": [
      "          Average train loss: 1.54399\n",
      "          Average test loss: 1.07055\n",
      "\n"
     ]
    },
    {
     "name": "stderr",
     "output_type": "stream",
     "text": [
      "Training epoch: 51 / 10000: 100%|██████████| 23/23 [00:02<00:00,  8.97batch/s]\n",
      "Validating epoch: 51 / 10000: 100%|██████████| 6/6 [00:00<00:00, 11.84batch/s]\n"
     ]
    },
    {
     "name": "stdout",
     "output_type": "stream",
     "text": [
      "          Average train loss: 1.54666\n",
      "          Average test loss: 1.04714\n",
      "\n"
     ]
    },
    {
     "name": "stderr",
     "output_type": "stream",
     "text": [
      "Training epoch: 52 / 10000: 100%|██████████| 23/23 [00:02<00:00,  8.86batch/s]\n",
      "Validating epoch: 52 / 10000: 100%|██████████| 6/6 [00:00<00:00, 11.00batch/s]\n"
     ]
    },
    {
     "name": "stdout",
     "output_type": "stream",
     "text": [
      "          Average train loss: 1.53830\n",
      "          Average test loss: 1.03276\n",
      "\n"
     ]
    },
    {
     "name": "stderr",
     "output_type": "stream",
     "text": [
      "Training epoch: 53 / 10000: 100%|██████████| 23/23 [00:02<00:00,  8.56batch/s]\n",
      "Validating epoch: 53 / 10000: 100%|██████████| 6/6 [00:00<00:00, 11.03batch/s]\n"
     ]
    },
    {
     "name": "stdout",
     "output_type": "stream",
     "text": [
      "          Average train loss: 1.53519\n",
      "          Average test loss: 1.01662\n",
      "\n"
     ]
    },
    {
     "name": "stderr",
     "output_type": "stream",
     "text": [
      "Training epoch: 54 / 10000: 100%|██████████| 23/23 [00:02<00:00,  8.81batch/s]\n",
      "Validating epoch: 54 / 10000: 100%|██████████| 6/6 [00:00<00:00, 11.37batch/s]\n"
     ]
    },
    {
     "name": "stdout",
     "output_type": "stream",
     "text": [
      "          Average train loss: 1.52137\n",
      "          Average test loss: 1.01846\n",
      "\n"
     ]
    },
    {
     "name": "stderr",
     "output_type": "stream",
     "text": [
      "Training epoch: 55 / 10000: 100%|██████████| 23/23 [00:02<00:00,  8.84batch/s]\n",
      "Validating epoch: 55 / 10000: 100%|██████████| 6/6 [00:00<00:00,  9.46batch/s]\n"
     ]
    },
    {
     "name": "stdout",
     "output_type": "stream",
     "text": [
      "          Average train loss: 1.52204\n",
      "          Average test loss: 1.01068\n",
      "\n"
     ]
    },
    {
     "name": "stderr",
     "output_type": "stream",
     "text": [
      "Training epoch: 56 / 10000: 100%|██████████| 23/23 [00:02<00:00,  8.72batch/s]\n",
      "Validating epoch: 56 / 10000: 100%|██████████| 6/6 [00:00<00:00, 11.54batch/s]\n"
     ]
    },
    {
     "name": "stdout",
     "output_type": "stream",
     "text": [
      "          Average train loss: 1.50630\n",
      "          Average test loss: 0.98712\n",
      "\n"
     ]
    },
    {
     "name": "stderr",
     "output_type": "stream",
     "text": [
      "Training epoch: 57 / 10000: 100%|██████████| 23/23 [00:02<00:00,  8.82batch/s]\n",
      "Validating epoch: 57 / 10000: 100%|██████████| 6/6 [00:00<00:00, 10.06batch/s]\n"
     ]
    },
    {
     "name": "stdout",
     "output_type": "stream",
     "text": [
      "          Average train loss: 1.49861\n",
      "          Average test loss: 1.01086\n",
      "\n"
     ]
    },
    {
     "name": "stderr",
     "output_type": "stream",
     "text": [
      "Training epoch: 58 / 10000: 100%|██████████| 23/23 [00:02<00:00,  8.37batch/s]\n",
      "Validating epoch: 58 / 10000: 100%|██████████| 6/6 [00:00<00:00, 10.73batch/s]\n"
     ]
    },
    {
     "name": "stdout",
     "output_type": "stream",
     "text": [
      "          Average train loss: 1.51503\n",
      "          Average test loss: 0.99921\n",
      "\n"
     ]
    },
    {
     "name": "stderr",
     "output_type": "stream",
     "text": [
      "Training epoch: 59 / 10000: 100%|██████████| 23/23 [00:02<00:00,  8.41batch/s]\n",
      "Validating epoch: 59 / 10000: 100%|██████████| 6/6 [00:00<00:00, 10.46batch/s]\n"
     ]
    },
    {
     "name": "stdout",
     "output_type": "stream",
     "text": [
      "          Average train loss: 1.49899\n",
      "          Average test loss: 1.03045\n",
      "\n"
     ]
    },
    {
     "name": "stderr",
     "output_type": "stream",
     "text": [
      "Training epoch: 60 / 10000: 100%|██████████| 23/23 [00:02<00:00,  8.52batch/s]\n",
      "Validating epoch: 60 / 10000: 100%|██████████| 6/6 [00:00<00:00, 11.08batch/s]\n"
     ]
    },
    {
     "name": "stdout",
     "output_type": "stream",
     "text": [
      "          Average train loss: 1.48515\n",
      "          Average test loss: 1.03405\n",
      "\n"
     ]
    },
    {
     "name": "stderr",
     "output_type": "stream",
     "text": [
      "Training epoch: 61 / 10000: 100%|██████████| 23/23 [00:02<00:00,  8.25batch/s]\n",
      "Validating epoch: 61 / 10000: 100%|██████████| 6/6 [00:00<00:00, 10.75batch/s]\n"
     ]
    },
    {
     "name": "stdout",
     "output_type": "stream",
     "text": [
      "          Average train loss: 1.49028\n",
      "          Average test loss: 0.97856\n",
      "\n"
     ]
    },
    {
     "name": "stderr",
     "output_type": "stream",
     "text": [
      "Training epoch: 62 / 10000: 100%|██████████| 23/23 [00:02<00:00,  8.74batch/s]\n",
      "Validating epoch: 62 / 10000: 100%|██████████| 6/6 [00:00<00:00, 10.99batch/s]\n"
     ]
    },
    {
     "name": "stdout",
     "output_type": "stream",
     "text": [
      "          Average train loss: 1.48243\n",
      "          Average test loss: 0.96894\n",
      "\n"
     ]
    },
    {
     "name": "stderr",
     "output_type": "stream",
     "text": [
      "Training epoch: 63 / 10000: 100%|██████████| 23/23 [00:02<00:00,  8.25batch/s]\n",
      "Validating epoch: 63 / 10000: 100%|██████████| 6/6 [00:00<00:00, 10.79batch/s]\n"
     ]
    },
    {
     "name": "stdout",
     "output_type": "stream",
     "text": [
      "          Average train loss: 1.46195\n",
      "          Average test loss: 1.02266\n",
      "\n"
     ]
    },
    {
     "name": "stderr",
     "output_type": "stream",
     "text": [
      "Training epoch: 64 / 10000: 100%|██████████| 23/23 [00:02<00:00,  8.57batch/s]\n",
      "Validating epoch: 64 / 10000: 100%|██████████| 6/6 [00:00<00:00, 11.13batch/s]\n"
     ]
    },
    {
     "name": "stdout",
     "output_type": "stream",
     "text": [
      "          Average train loss: 1.46298\n",
      "          Average test loss: 0.99698\n",
      "\n"
     ]
    },
    {
     "name": "stderr",
     "output_type": "stream",
     "text": [
      "Training epoch: 65 / 10000: 100%|██████████| 23/23 [00:02<00:00,  8.68batch/s]\n",
      "Validating epoch: 65 / 10000: 100%|██████████| 6/6 [00:00<00:00, 11.15batch/s]\n"
     ]
    },
    {
     "name": "stdout",
     "output_type": "stream",
     "text": [
      "          Average train loss: 1.46236\n",
      "          Average test loss: 0.95369\n",
      "\n"
     ]
    },
    {
     "name": "stderr",
     "output_type": "stream",
     "text": [
      "Training epoch: 66 / 10000: 100%|██████████| 23/23 [00:02<00:00,  8.30batch/s]\n",
      "Validating epoch: 66 / 10000: 100%|██████████| 6/6 [00:00<00:00, 10.91batch/s]\n"
     ]
    },
    {
     "name": "stdout",
     "output_type": "stream",
     "text": [
      "          Average train loss: 1.47357\n",
      "          Average test loss: 1.01583\n",
      "\n"
     ]
    },
    {
     "name": "stderr",
     "output_type": "stream",
     "text": [
      "Training epoch: 67 / 10000: 100%|██████████| 23/23 [00:02<00:00,  8.28batch/s]\n",
      "Validating epoch: 67 / 10000: 100%|██████████| 6/6 [00:00<00:00, 10.91batch/s]\n"
     ]
    },
    {
     "name": "stdout",
     "output_type": "stream",
     "text": [
      "          Average train loss: 1.45806\n",
      "          Average test loss: 0.94473\n",
      "\n"
     ]
    },
    {
     "name": "stderr",
     "output_type": "stream",
     "text": [
      "Training epoch: 68 / 10000: 100%|██████████| 23/23 [00:02<00:00,  8.49batch/s]\n",
      "Validating epoch: 68 / 10000: 100%|██████████| 6/6 [00:00<00:00, 10.70batch/s]\n"
     ]
    },
    {
     "name": "stdout",
     "output_type": "stream",
     "text": [
      "          Average train loss: 1.44597\n",
      "          Average test loss: 0.98344\n",
      "\n"
     ]
    },
    {
     "name": "stderr",
     "output_type": "stream",
     "text": [
      "Training epoch: 69 / 10000: 100%|██████████| 23/23 [00:02<00:00,  8.42batch/s]\n",
      "Validating epoch: 69 / 10000: 100%|██████████| 6/6 [00:00<00:00, 10.94batch/s]\n"
     ]
    },
    {
     "name": "stdout",
     "output_type": "stream",
     "text": [
      "          Average train loss: 1.44119\n",
      "          Average test loss: 0.96346\n",
      "\n"
     ]
    },
    {
     "name": "stderr",
     "output_type": "stream",
     "text": [
      "Training epoch: 70 / 10000: 100%|██████████| 23/23 [00:02<00:00,  8.86batch/s]\n",
      "Validating epoch: 70 / 10000: 100%|██████████| 6/6 [00:00<00:00, 12.07batch/s]\n"
     ]
    },
    {
     "name": "stdout",
     "output_type": "stream",
     "text": [
      "          Average train loss: 1.42748\n",
      "          Average test loss: 0.99985\n",
      "\n"
     ]
    },
    {
     "name": "stderr",
     "output_type": "stream",
     "text": [
      "Training epoch: 71 / 10000: 100%|██████████| 23/23 [00:02<00:00,  8.88batch/s]\n",
      "Validating epoch: 71 / 10000: 100%|██████████| 6/6 [00:00<00:00, 11.20batch/s]\n"
     ]
    },
    {
     "name": "stdout",
     "output_type": "stream",
     "text": [
      "          Average train loss: 1.43043\n",
      "          Average test loss: 0.95598\n",
      "\n"
     ]
    },
    {
     "name": "stderr",
     "output_type": "stream",
     "text": [
      "Training epoch: 72 / 10000: 100%|██████████| 23/23 [00:02<00:00,  8.84batch/s]\n",
      "Validating epoch: 72 / 10000: 100%|██████████| 6/6 [00:00<00:00, 10.49batch/s]\n"
     ]
    },
    {
     "name": "stdout",
     "output_type": "stream",
     "text": [
      "          Average train loss: 1.44817\n",
      "          Average test loss: 0.92491\n",
      "\n"
     ]
    },
    {
     "name": "stderr",
     "output_type": "stream",
     "text": [
      "Training epoch: 73 / 10000: 100%|██████████| 23/23 [00:02<00:00,  8.54batch/s]\n",
      "Validating epoch: 73 / 10000: 100%|██████████| 6/6 [00:00<00:00, 10.87batch/s]\n"
     ]
    },
    {
     "name": "stdout",
     "output_type": "stream",
     "text": [
      "          Average train loss: 1.41973\n",
      "          Average test loss: 0.93686\n",
      "\n"
     ]
    },
    {
     "name": "stderr",
     "output_type": "stream",
     "text": [
      "Training epoch: 74 / 10000: 100%|██████████| 23/23 [00:02<00:00,  8.50batch/s]\n",
      "Validating epoch: 74 / 10000: 100%|██████████| 6/6 [00:00<00:00, 10.82batch/s]\n"
     ]
    },
    {
     "name": "stdout",
     "output_type": "stream",
     "text": [
      "          Average train loss: 1.43340\n",
      "          Average test loss: 0.93275\n",
      "\n"
     ]
    },
    {
     "name": "stderr",
     "output_type": "stream",
     "text": [
      "Training epoch: 75 / 10000: 100%|██████████| 23/23 [00:02<00:00,  8.80batch/s]\n",
      "Validating epoch: 75 / 10000: 100%|██████████| 6/6 [00:00<00:00, 12.19batch/s]\n"
     ]
    },
    {
     "name": "stdout",
     "output_type": "stream",
     "text": [
      "          Average train loss: 1.40696\n",
      "          Average test loss: 0.95420\n",
      "\n"
     ]
    },
    {
     "name": "stderr",
     "output_type": "stream",
     "text": [
      "Training epoch: 76 / 10000: 100%|██████████| 23/23 [00:02<00:00,  8.52batch/s]\n",
      "Validating epoch: 76 / 10000: 100%|██████████| 6/6 [00:00<00:00,  9.92batch/s]\n"
     ]
    },
    {
     "name": "stdout",
     "output_type": "stream",
     "text": [
      "          Average train loss: 1.41259\n",
      "          Average test loss: 0.97279\n",
      "\n"
     ]
    },
    {
     "name": "stderr",
     "output_type": "stream",
     "text": [
      "Training epoch: 77 / 10000: 100%|██████████| 23/23 [00:02<00:00,  8.63batch/s]\n",
      "Validating epoch: 77 / 10000: 100%|██████████| 6/6 [00:00<00:00, 12.55batch/s]\n"
     ]
    },
    {
     "name": "stdout",
     "output_type": "stream",
     "text": [
      "          Average train loss: 1.41853\n",
      "          Average test loss: 0.94512\n",
      "\n"
     ]
    },
    {
     "name": "stderr",
     "output_type": "stream",
     "text": [
      "Training epoch: 78 / 10000: 100%|██████████| 23/23 [00:02<00:00,  8.74batch/s]\n",
      "Validating epoch: 78 / 10000: 100%|██████████| 6/6 [00:00<00:00, 11.57batch/s]\n"
     ]
    },
    {
     "name": "stdout",
     "output_type": "stream",
     "text": [
      "          Average train loss: 1.39971\n",
      "          Average test loss: 0.92764\n",
      "\n"
     ]
    },
    {
     "name": "stderr",
     "output_type": "stream",
     "text": [
      "Training epoch: 79 / 10000: 100%|██████████| 23/23 [00:02<00:00,  8.87batch/s]\n",
      "Validating epoch: 79 / 10000: 100%|██████████| 6/6 [00:00<00:00, 11.78batch/s]\n"
     ]
    },
    {
     "name": "stdout",
     "output_type": "stream",
     "text": [
      "          Average train loss: 1.40035\n",
      "          Average test loss: 0.95872\n",
      "\n"
     ]
    },
    {
     "name": "stderr",
     "output_type": "stream",
     "text": [
      "Training epoch: 80 / 10000: 100%|██████████| 23/23 [00:02<00:00,  8.46batch/s]\n",
      "Validating epoch: 80 / 10000: 100%|██████████| 6/6 [00:00<00:00, 12.36batch/s]\n"
     ]
    },
    {
     "name": "stdout",
     "output_type": "stream",
     "text": [
      "          Average train loss: 1.39325\n",
      "          Average test loss: 0.91598\n",
      "\n"
     ]
    },
    {
     "name": "stderr",
     "output_type": "stream",
     "text": [
      "Training epoch: 81 / 10000: 100%|██████████| 23/23 [00:02<00:00,  8.85batch/s]\n",
      "Validating epoch: 81 / 10000: 100%|██████████| 6/6 [00:00<00:00, 11.62batch/s]\n"
     ]
    },
    {
     "name": "stdout",
     "output_type": "stream",
     "text": [
      "          Average train loss: 1.39109\n",
      "          Average test loss: 0.92155\n",
      "\n"
     ]
    },
    {
     "name": "stderr",
     "output_type": "stream",
     "text": [
      "Training epoch: 82 / 10000: 100%|██████████| 23/23 [00:02<00:00,  8.33batch/s]\n",
      "Validating epoch: 82 / 10000: 100%|██████████| 6/6 [00:00<00:00, 12.66batch/s]\n"
     ]
    },
    {
     "name": "stdout",
     "output_type": "stream",
     "text": [
      "          Average train loss: 1.40025\n",
      "          Average test loss: 0.92643\n",
      "\n"
     ]
    },
    {
     "name": "stderr",
     "output_type": "stream",
     "text": [
      "Training epoch: 83 / 10000: 100%|██████████| 23/23 [00:02<00:00,  8.54batch/s]\n",
      "Validating epoch: 83 / 10000: 100%|██████████| 6/6 [00:00<00:00, 10.00batch/s]\n"
     ]
    },
    {
     "name": "stdout",
     "output_type": "stream",
     "text": [
      "          Average train loss: 1.38149\n",
      "          Average test loss: 0.92268\n",
      "\n"
     ]
    },
    {
     "name": "stderr",
     "output_type": "stream",
     "text": [
      "Training epoch: 84 / 10000: 100%|██████████| 23/23 [00:02<00:00,  8.48batch/s]\n",
      "Validating epoch: 84 / 10000: 100%|██████████| 6/6 [00:00<00:00, 11.73batch/s]\n"
     ]
    },
    {
     "name": "stdout",
     "output_type": "stream",
     "text": [
      "          Average train loss: 1.37868\n",
      "          Average test loss: 0.95841\n",
      "\n"
     ]
    },
    {
     "name": "stderr",
     "output_type": "stream",
     "text": [
      "Training epoch: 85 / 10000: 100%|██████████| 23/23 [00:02<00:00,  8.82batch/s]\n",
      "Validating epoch: 85 / 10000: 100%|██████████| 6/6 [00:00<00:00, 10.89batch/s]\n"
     ]
    },
    {
     "name": "stdout",
     "output_type": "stream",
     "text": [
      "          Average train loss: 1.38276\n",
      "          Average test loss: 0.97316\n",
      "\n"
     ]
    },
    {
     "name": "stderr",
     "output_type": "stream",
     "text": [
      "Training epoch: 86 / 10000: 100%|██████████| 23/23 [00:02<00:00,  8.52batch/s]\n",
      "Validating epoch: 86 / 10000: 100%|██████████| 6/6 [00:00<00:00, 11.39batch/s]\n"
     ]
    },
    {
     "name": "stdout",
     "output_type": "stream",
     "text": [
      "          Average train loss: 1.39057\n",
      "          Average test loss: 0.89308\n",
      "\n"
     ]
    },
    {
     "name": "stderr",
     "output_type": "stream",
     "text": [
      "Training epoch: 87 / 10000: 100%|██████████| 23/23 [00:02<00:00,  8.43batch/s]\n",
      "Validating epoch: 87 / 10000: 100%|██████████| 6/6 [00:00<00:00, 10.64batch/s]\n"
     ]
    },
    {
     "name": "stdout",
     "output_type": "stream",
     "text": [
      "          Average train loss: 1.37861\n",
      "          Average test loss: 0.88846\n",
      "\n"
     ]
    },
    {
     "name": "stderr",
     "output_type": "stream",
     "text": [
      "Training epoch: 88 / 10000: 100%|██████████| 23/23 [00:02<00:00,  8.36batch/s]\n",
      "Validating epoch: 88 / 10000: 100%|██████████| 6/6 [00:00<00:00, 10.72batch/s]\n"
     ]
    },
    {
     "name": "stdout",
     "output_type": "stream",
     "text": [
      "          Average train loss: 1.36157\n",
      "          Average test loss: 0.92673\n",
      "\n"
     ]
    },
    {
     "name": "stderr",
     "output_type": "stream",
     "text": [
      "Training epoch: 89 / 10000: 100%|██████████| 23/23 [00:02<00:00,  8.41batch/s]\n",
      "Validating epoch: 89 / 10000: 100%|██████████| 6/6 [00:00<00:00, 10.52batch/s]\n"
     ]
    },
    {
     "name": "stdout",
     "output_type": "stream",
     "text": [
      "          Average train loss: 1.37255\n",
      "          Average test loss: 0.90104\n",
      "\n"
     ]
    },
    {
     "name": "stderr",
     "output_type": "stream",
     "text": [
      "Training epoch: 90 / 10000: 100%|██████████| 23/23 [00:02<00:00,  8.79batch/s]\n",
      "Validating epoch: 90 / 10000: 100%|██████████| 6/6 [00:00<00:00, 12.21batch/s]\n"
     ]
    },
    {
     "name": "stdout",
     "output_type": "stream",
     "text": [
      "          Average train loss: 1.36856\n",
      "          Average test loss: 0.90109\n",
      "\n"
     ]
    },
    {
     "name": "stderr",
     "output_type": "stream",
     "text": [
      "Training epoch: 91 / 10000: 100%|██████████| 23/23 [00:02<00:00,  8.46batch/s]\n",
      "Validating epoch: 91 / 10000: 100%|██████████| 6/6 [00:00<00:00, 10.90batch/s]\n"
     ]
    },
    {
     "name": "stdout",
     "output_type": "stream",
     "text": [
      "          Average train loss: 1.36546\n",
      "          Average test loss: 0.88503\n",
      "\n"
     ]
    },
    {
     "name": "stderr",
     "output_type": "stream",
     "text": [
      "Training epoch: 92 / 10000: 100%|██████████| 23/23 [00:02<00:00,  8.63batch/s]\n",
      "Validating epoch: 92 / 10000: 100%|██████████| 6/6 [00:00<00:00, 10.11batch/s]\n"
     ]
    },
    {
     "name": "stdout",
     "output_type": "stream",
     "text": [
      "          Average train loss: 1.35457\n",
      "          Average test loss: 0.91593\n",
      "\n"
     ]
    },
    {
     "name": "stderr",
     "output_type": "stream",
     "text": [
      "Training epoch: 93 / 10000: 100%|██████████| 23/23 [00:02<00:00,  8.45batch/s]\n",
      "Validating epoch: 93 / 10000: 100%|██████████| 6/6 [00:00<00:00, 10.62batch/s]\n"
     ]
    },
    {
     "name": "stdout",
     "output_type": "stream",
     "text": [
      "          Average train loss: 1.35268\n",
      "          Average test loss: 0.87742\n",
      "\n"
     ]
    },
    {
     "name": "stderr",
     "output_type": "stream",
     "text": [
      "Training epoch: 94 / 10000: 100%|██████████| 23/23 [00:02<00:00,  8.57batch/s]\n",
      "Validating epoch: 94 / 10000: 100%|██████████| 6/6 [00:00<00:00, 10.86batch/s]\n"
     ]
    },
    {
     "name": "stdout",
     "output_type": "stream",
     "text": [
      "          Average train loss: 1.35498\n",
      "          Average test loss: 0.91269\n",
      "\n"
     ]
    },
    {
     "name": "stderr",
     "output_type": "stream",
     "text": [
      "Training epoch: 95 / 10000: 100%|██████████| 23/23 [00:02<00:00,  8.29batch/s]\n",
      "Validating epoch: 95 / 10000: 100%|██████████| 6/6 [00:00<00:00, 11.75batch/s]\n"
     ]
    },
    {
     "name": "stdout",
     "output_type": "stream",
     "text": [
      "          Average train loss: 1.34315\n",
      "          Average test loss: 0.90424\n",
      "\n"
     ]
    },
    {
     "name": "stderr",
     "output_type": "stream",
     "text": [
      "Training epoch: 96 / 10000: 100%|██████████| 23/23 [00:02<00:00,  8.46batch/s]\n",
      "Validating epoch: 96 / 10000: 100%|██████████| 6/6 [00:00<00:00, 10.67batch/s]\n"
     ]
    },
    {
     "name": "stdout",
     "output_type": "stream",
     "text": [
      "          Average train loss: 1.34850\n",
      "          Average test loss: 0.89033\n",
      "\n"
     ]
    },
    {
     "name": "stderr",
     "output_type": "stream",
     "text": [
      "Training epoch: 97 / 10000: 100%|██████████| 23/23 [00:02<00:00,  8.34batch/s]\n",
      "Validating epoch: 97 / 10000: 100%|██████████| 6/6 [00:00<00:00, 10.97batch/s]\n"
     ]
    },
    {
     "name": "stdout",
     "output_type": "stream",
     "text": [
      "          Average train loss: 1.33057\n",
      "          Average test loss: 0.88582\n",
      "\n"
     ]
    },
    {
     "name": "stderr",
     "output_type": "stream",
     "text": [
      "Training epoch: 98 / 10000: 100%|██████████| 23/23 [00:02<00:00,  8.51batch/s]\n",
      "Validating epoch: 98 / 10000: 100%|██████████| 6/6 [00:00<00:00, 11.32batch/s]\n"
     ]
    },
    {
     "name": "stdout",
     "output_type": "stream",
     "text": [
      "          Average train loss: 1.33594\n",
      "          Average test loss: 0.87452\n",
      "\n"
     ]
    },
    {
     "name": "stderr",
     "output_type": "stream",
     "text": [
      "Training epoch: 99 / 10000: 100%|██████████| 23/23 [00:02<00:00,  8.74batch/s]\n",
      "Validating epoch: 99 / 10000: 100%|██████████| 6/6 [00:00<00:00, 10.35batch/s]\n"
     ]
    },
    {
     "name": "stdout",
     "output_type": "stream",
     "text": [
      "          Average train loss: 1.32309\n",
      "          Average test loss: 0.85389\n",
      "\n"
     ]
    },
    {
     "name": "stderr",
     "output_type": "stream",
     "text": [
      "Training epoch: 100 / 10000: 100%|██████████| 23/23 [00:02<00:00,  8.53batch/s]\n",
      "Validating epoch: 100 / 10000: 100%|██████████| 6/6 [00:00<00:00, 11.16batch/s]\n"
     ]
    },
    {
     "name": "stdout",
     "output_type": "stream",
     "text": [
      "          Average train loss: 1.32431\n",
      "          Average test loss: 0.88404\n",
      "\n"
     ]
    },
    {
     "name": "stderr",
     "output_type": "stream",
     "text": [
      "Training epoch: 101 / 10000: 100%|██████████| 23/23 [00:02<00:00,  8.40batch/s]\n",
      "Validating epoch: 101 / 10000: 100%|██████████| 6/6 [00:00<00:00, 11.20batch/s]\n"
     ]
    },
    {
     "name": "stdout",
     "output_type": "stream",
     "text": [
      "          Average train loss: 1.32995\n",
      "          Average test loss: 0.88161\n",
      "\n"
     ]
    },
    {
     "name": "stderr",
     "output_type": "stream",
     "text": [
      "Training epoch: 102 / 10000: 100%|██████████| 23/23 [00:02<00:00,  8.54batch/s]\n",
      "Validating epoch: 102 / 10000: 100%|██████████| 6/6 [00:00<00:00, 10.20batch/s]\n"
     ]
    },
    {
     "name": "stdout",
     "output_type": "stream",
     "text": [
      "          Average train loss: 1.31965\n",
      "          Average test loss: 0.87662\n",
      "\n"
     ]
    },
    {
     "name": "stderr",
     "output_type": "stream",
     "text": [
      "Training epoch: 103 / 10000: 100%|██████████| 23/23 [00:02<00:00,  8.35batch/s]\n",
      "Validating epoch: 103 / 10000: 100%|██████████| 6/6 [00:00<00:00,  9.46batch/s]\n"
     ]
    },
    {
     "name": "stdout",
     "output_type": "stream",
     "text": [
      "          Average train loss: 1.31421\n",
      "          Average test loss: 0.88717\n",
      "\n"
     ]
    },
    {
     "name": "stderr",
     "output_type": "stream",
     "text": [
      "Training epoch: 104 / 10000: 100%|██████████| 23/23 [00:02<00:00,  8.55batch/s]\n",
      "Validating epoch: 104 / 10000: 100%|██████████| 6/6 [00:00<00:00, 11.20batch/s]\n"
     ]
    },
    {
     "name": "stdout",
     "output_type": "stream",
     "text": [
      "          Average train loss: 1.31056\n",
      "          Average test loss: 0.83842\n",
      "\n"
     ]
    },
    {
     "name": "stderr",
     "output_type": "stream",
     "text": [
      "Training epoch: 105 / 10000: 100%|██████████| 23/23 [00:02<00:00,  8.60batch/s]\n",
      "Validating epoch: 105 / 10000: 100%|██████████| 6/6 [00:00<00:00, 10.86batch/s]\n"
     ]
    },
    {
     "name": "stdout",
     "output_type": "stream",
     "text": [
      "          Average train loss: 1.30699\n",
      "          Average test loss: 0.85854\n",
      "\n"
     ]
    },
    {
     "name": "stderr",
     "output_type": "stream",
     "text": [
      "Training epoch: 106 / 10000: 100%|██████████| 23/23 [00:02<00:00,  8.42batch/s]\n",
      "Validating epoch: 106 / 10000: 100%|██████████| 6/6 [00:00<00:00, 11.20batch/s]\n"
     ]
    },
    {
     "name": "stdout",
     "output_type": "stream",
     "text": [
      "          Average train loss: 1.30144\n",
      "          Average test loss: 0.85444\n",
      "\n"
     ]
    },
    {
     "name": "stderr",
     "output_type": "stream",
     "text": [
      "Training epoch: 107 / 10000: 100%|██████████| 23/23 [00:02<00:00,  8.71batch/s]\n",
      "Validating epoch: 107 / 10000: 100%|██████████| 6/6 [00:00<00:00, 12.04batch/s]\n"
     ]
    },
    {
     "name": "stdout",
     "output_type": "stream",
     "text": [
      "          Average train loss: 1.31063\n",
      "          Average test loss: 0.85581\n",
      "\n"
     ]
    },
    {
     "name": "stderr",
     "output_type": "stream",
     "text": [
      "Training epoch: 108 / 10000: 100%|██████████| 23/23 [00:02<00:00,  8.62batch/s]\n",
      "Validating epoch: 108 / 10000: 100%|██████████| 6/6 [00:00<00:00, 11.18batch/s]\n"
     ]
    },
    {
     "name": "stdout",
     "output_type": "stream",
     "text": [
      "          Average train loss: 1.30851\n",
      "          Average test loss: 0.82780\n",
      "\n"
     ]
    },
    {
     "name": "stderr",
     "output_type": "stream",
     "text": [
      "Training epoch: 109 / 10000: 100%|██████████| 23/23 [00:02<00:00,  8.56batch/s]\n",
      "Validating epoch: 109 / 10000: 100%|██████████| 6/6 [00:00<00:00, 10.48batch/s]\n"
     ]
    },
    {
     "name": "stdout",
     "output_type": "stream",
     "text": [
      "          Average train loss: 1.30542\n",
      "          Average test loss: 0.85313\n",
      "\n"
     ]
    },
    {
     "name": "stderr",
     "output_type": "stream",
     "text": [
      "Training epoch: 110 / 10000: 100%|██████████| 23/23 [00:02<00:00,  8.43batch/s]\n",
      "Validating epoch: 110 / 10000: 100%|██████████| 6/6 [00:00<00:00, 11.06batch/s]\n"
     ]
    },
    {
     "name": "stdout",
     "output_type": "stream",
     "text": [
      "          Average train loss: 1.30786\n",
      "          Average test loss: 0.86585\n",
      "\n"
     ]
    },
    {
     "name": "stderr",
     "output_type": "stream",
     "text": [
      "Training epoch: 111 / 10000: 100%|██████████| 23/23 [00:02<00:00,  8.40batch/s]\n",
      "Validating epoch: 111 / 10000: 100%|██████████| 6/6 [00:00<00:00, 10.91batch/s]\n"
     ]
    },
    {
     "name": "stdout",
     "output_type": "stream",
     "text": [
      "          Average train loss: 1.29231\n",
      "          Average test loss: 0.84201\n",
      "\n"
     ]
    },
    {
     "name": "stderr",
     "output_type": "stream",
     "text": [
      "Training epoch: 112 / 10000: 100%|██████████| 23/23 [00:02<00:00,  8.33batch/s]\n",
      "Validating epoch: 112 / 10000: 100%|██████████| 6/6 [00:00<00:00, 10.40batch/s]\n"
     ]
    },
    {
     "name": "stdout",
     "output_type": "stream",
     "text": [
      "          Average train loss: 1.29081\n",
      "          Average test loss: 0.82539\n",
      "\n"
     ]
    },
    {
     "name": "stderr",
     "output_type": "stream",
     "text": [
      "Training epoch: 113 / 10000: 100%|██████████| 23/23 [00:02<00:00,  8.48batch/s]\n",
      "Validating epoch: 113 / 10000: 100%|██████████| 6/6 [00:00<00:00, 11.35batch/s]\n"
     ]
    },
    {
     "name": "stdout",
     "output_type": "stream",
     "text": [
      "          Average train loss: 1.30097\n",
      "          Average test loss: 0.82782\n",
      "\n"
     ]
    },
    {
     "name": "stderr",
     "output_type": "stream",
     "text": [
      "Training epoch: 114 / 10000: 100%|██████████| 23/23 [00:02<00:00,  8.44batch/s]\n",
      "Validating epoch: 114 / 10000: 100%|██████████| 6/6 [00:00<00:00, 10.87batch/s]\n"
     ]
    },
    {
     "name": "stdout",
     "output_type": "stream",
     "text": [
      "          Average train loss: 1.28598\n",
      "          Average test loss: 0.82249\n",
      "\n"
     ]
    },
    {
     "name": "stderr",
     "output_type": "stream",
     "text": [
      "Training epoch: 115 / 10000: 100%|██████████| 23/23 [00:02<00:00,  8.11batch/s]\n",
      "Validating epoch: 115 / 10000: 100%|██████████| 6/6 [00:00<00:00, 10.78batch/s]\n"
     ]
    },
    {
     "name": "stdout",
     "output_type": "stream",
     "text": [
      "          Average train loss: 1.28831\n",
      "          Average test loss: 0.83909\n",
      "\n"
     ]
    },
    {
     "name": "stderr",
     "output_type": "stream",
     "text": [
      "Training epoch: 116 / 10000: 100%|██████████| 23/23 [00:02<00:00,  8.51batch/s]\n",
      "Validating epoch: 116 / 10000: 100%|██████████| 6/6 [00:00<00:00, 11.97batch/s]\n"
     ]
    },
    {
     "name": "stdout",
     "output_type": "stream",
     "text": [
      "          Average train loss: 1.28189\n",
      "          Average test loss: 0.80502\n",
      "\n"
     ]
    },
    {
     "name": "stderr",
     "output_type": "stream",
     "text": [
      "Training epoch: 117 / 10000: 100%|██████████| 23/23 [00:02<00:00,  8.14batch/s]\n",
      "Validating epoch: 117 / 10000: 100%|██████████| 6/6 [00:00<00:00, 10.59batch/s]\n"
     ]
    },
    {
     "name": "stdout",
     "output_type": "stream",
     "text": [
      "          Average train loss: 1.28003\n",
      "          Average test loss: 0.83420\n",
      "\n"
     ]
    },
    {
     "name": "stderr",
     "output_type": "stream",
     "text": [
      "Training epoch: 118 / 10000: 100%|██████████| 23/23 [00:02<00:00,  8.50batch/s]\n",
      "Validating epoch: 118 / 10000: 100%|██████████| 6/6 [00:00<00:00, 11.27batch/s]\n"
     ]
    },
    {
     "name": "stdout",
     "output_type": "stream",
     "text": [
      "          Average train loss: 1.29143\n",
      "          Average test loss: 0.86816\n",
      "\n"
     ]
    },
    {
     "name": "stderr",
     "output_type": "stream",
     "text": [
      "Training epoch: 119 / 10000: 100%|██████████| 23/23 [00:02<00:00,  8.63batch/s]\n",
      "Validating epoch: 119 / 10000: 100%|██████████| 6/6 [00:00<00:00, 10.99batch/s]\n"
     ]
    },
    {
     "name": "stdout",
     "output_type": "stream",
     "text": [
      "          Average train loss: 1.28485\n",
      "          Average test loss: 0.81478\n",
      "\n"
     ]
    },
    {
     "name": "stderr",
     "output_type": "stream",
     "text": [
      "Training epoch: 120 / 10000: 100%|██████████| 23/23 [00:02<00:00,  8.42batch/s]\n",
      "Validating epoch: 120 / 10000: 100%|██████████| 6/6 [00:00<00:00, 10.61batch/s]\n"
     ]
    },
    {
     "name": "stdout",
     "output_type": "stream",
     "text": [
      "          Average train loss: 1.27714\n",
      "          Average test loss: 0.84215\n",
      "\n"
     ]
    },
    {
     "name": "stderr",
     "output_type": "stream",
     "text": [
      "Training epoch: 121 / 10000: 100%|██████████| 23/23 [00:02<00:00,  8.59batch/s]\n",
      "Validating epoch: 121 / 10000: 100%|██████████| 6/6 [00:00<00:00, 10.81batch/s]\n"
     ]
    },
    {
     "name": "stdout",
     "output_type": "stream",
     "text": [
      "          Average train loss: 1.27186\n",
      "          Average test loss: 0.81706\n",
      "\n"
     ]
    },
    {
     "name": "stderr",
     "output_type": "stream",
     "text": [
      "Training epoch: 122 / 10000: 100%|██████████| 23/23 [00:02<00:00,  8.31batch/s]\n",
      "Validating epoch: 122 / 10000: 100%|██████████| 6/6 [00:00<00:00, 11.35batch/s]\n"
     ]
    },
    {
     "name": "stdout",
     "output_type": "stream",
     "text": [
      "          Average train loss: 1.27306\n",
      "          Average test loss: 0.82000\n",
      "\n"
     ]
    },
    {
     "name": "stderr",
     "output_type": "stream",
     "text": [
      "Training epoch: 123 / 10000: 100%|██████████| 23/23 [00:02<00:00,  8.34batch/s]\n",
      "Validating epoch: 123 / 10000: 100%|██████████| 6/6 [00:00<00:00, 11.33batch/s]\n"
     ]
    },
    {
     "name": "stdout",
     "output_type": "stream",
     "text": [
      "          Average train loss: 1.26434\n",
      "          Average test loss: 0.80189\n",
      "\n"
     ]
    },
    {
     "name": "stderr",
     "output_type": "stream",
     "text": [
      "Training epoch: 124 / 10000: 100%|██████████| 23/23 [00:02<00:00,  8.11batch/s]\n",
      "Validating epoch: 124 / 10000: 100%|██████████| 6/6 [00:00<00:00, 10.85batch/s]\n"
     ]
    },
    {
     "name": "stdout",
     "output_type": "stream",
     "text": [
      "          Average train loss: 1.25816\n",
      "          Average test loss: 0.84320\n",
      "\n"
     ]
    },
    {
     "name": "stderr",
     "output_type": "stream",
     "text": [
      "Training epoch: 125 / 10000: 100%|██████████| 23/23 [00:02<00:00,  8.32batch/s]\n",
      "Validating epoch: 125 / 10000: 100%|██████████| 6/6 [00:00<00:00, 11.47batch/s]\n"
     ]
    },
    {
     "name": "stdout",
     "output_type": "stream",
     "text": [
      "          Average train loss: 1.25583\n",
      "          Average test loss: 0.86652\n",
      "\n"
     ]
    },
    {
     "name": "stderr",
     "output_type": "stream",
     "text": [
      "Training epoch: 126 / 10000: 100%|██████████| 23/23 [00:02<00:00,  8.54batch/s]\n",
      "Validating epoch: 126 / 10000: 100%|██████████| 6/6 [00:00<00:00, 11.43batch/s]\n"
     ]
    },
    {
     "name": "stdout",
     "output_type": "stream",
     "text": [
      "          Average train loss: 1.25894\n",
      "          Average test loss: 0.82923\n",
      "\n"
     ]
    },
    {
     "name": "stderr",
     "output_type": "stream",
     "text": [
      "Training epoch: 127 / 10000: 100%|██████████| 23/23 [00:02<00:00,  8.39batch/s]\n",
      "Validating epoch: 127 / 10000: 100%|██████████| 6/6 [00:00<00:00, 11.83batch/s]\n"
     ]
    },
    {
     "name": "stdout",
     "output_type": "stream",
     "text": [
      "          Average train loss: 1.24948\n",
      "          Average test loss: 0.80097\n",
      "\n"
     ]
    },
    {
     "name": "stderr",
     "output_type": "stream",
     "text": [
      "Training epoch: 128 / 10000: 100%|██████████| 23/23 [00:02<00:00,  8.66batch/s]\n",
      "Validating epoch: 128 / 10000: 100%|██████████| 6/6 [00:00<00:00, 11.49batch/s]\n"
     ]
    },
    {
     "name": "stdout",
     "output_type": "stream",
     "text": [
      "          Average train loss: 1.25343\n",
      "          Average test loss: 0.81584\n",
      "\n"
     ]
    },
    {
     "name": "stderr",
     "output_type": "stream",
     "text": [
      "Training epoch: 129 / 10000: 100%|██████████| 23/23 [00:02<00:00,  8.43batch/s]\n",
      "Validating epoch: 129 / 10000: 100%|██████████| 6/6 [00:00<00:00, 10.37batch/s]\n"
     ]
    },
    {
     "name": "stdout",
     "output_type": "stream",
     "text": [
      "          Average train loss: 1.24713\n",
      "          Average test loss: 0.82307\n",
      "\n"
     ]
    },
    {
     "name": "stderr",
     "output_type": "stream",
     "text": [
      "Training epoch: 130 / 10000: 100%|██████████| 23/23 [00:02<00:00,  8.57batch/s]\n",
      "Validating epoch: 130 / 10000: 100%|██████████| 6/6 [00:00<00:00, 10.64batch/s]\n"
     ]
    },
    {
     "name": "stdout",
     "output_type": "stream",
     "text": [
      "          Average train loss: 1.24985\n",
      "          Average test loss: 0.79056\n",
      "\n"
     ]
    },
    {
     "name": "stderr",
     "output_type": "stream",
     "text": [
      "Training epoch: 131 / 10000: 100%|██████████| 23/23 [00:02<00:00,  8.71batch/s]\n",
      "Validating epoch: 131 / 10000: 100%|██████████| 6/6 [00:00<00:00, 10.49batch/s]\n"
     ]
    },
    {
     "name": "stdout",
     "output_type": "stream",
     "text": [
      "          Average train loss: 1.23714\n",
      "          Average test loss: 0.80474\n",
      "\n"
     ]
    },
    {
     "name": "stderr",
     "output_type": "stream",
     "text": [
      "Training epoch: 132 / 10000: 100%|██████████| 23/23 [00:02<00:00,  8.51batch/s]\n",
      "Validating epoch: 132 / 10000: 100%|██████████| 6/6 [00:00<00:00, 11.89batch/s]\n"
     ]
    },
    {
     "name": "stdout",
     "output_type": "stream",
     "text": [
      "          Average train loss: 1.24444\n",
      "          Average test loss: 0.81063\n",
      "\n"
     ]
    },
    {
     "name": "stderr",
     "output_type": "stream",
     "text": [
      "Training epoch: 133 / 10000: 100%|██████████| 23/23 [00:02<00:00,  8.36batch/s]\n",
      "Validating epoch: 133 / 10000: 100%|██████████| 6/6 [00:00<00:00, 11.15batch/s]\n"
     ]
    },
    {
     "name": "stdout",
     "output_type": "stream",
     "text": [
      "          Average train loss: 1.22714\n",
      "          Average test loss: 0.83753\n",
      "\n"
     ]
    },
    {
     "name": "stderr",
     "output_type": "stream",
     "text": [
      "Training epoch: 134 / 10000: 100%|██████████| 23/23 [00:02<00:00,  8.56batch/s]\n",
      "Validating epoch: 134 / 10000: 100%|██████████| 6/6 [00:00<00:00, 10.84batch/s]\n"
     ]
    },
    {
     "name": "stdout",
     "output_type": "stream",
     "text": [
      "          Average train loss: 1.23310\n",
      "          Average test loss: 0.81913\n",
      "\n"
     ]
    },
    {
     "name": "stderr",
     "output_type": "stream",
     "text": [
      "Training epoch: 135 / 10000: 100%|██████████| 23/23 [00:02<00:00,  8.60batch/s]\n",
      "Validating epoch: 135 / 10000: 100%|██████████| 6/6 [00:00<00:00, 10.46batch/s]\n"
     ]
    },
    {
     "name": "stdout",
     "output_type": "stream",
     "text": [
      "          Average train loss: 1.23656\n",
      "          Average test loss: 0.81317\n",
      "\n"
     ]
    },
    {
     "name": "stderr",
     "output_type": "stream",
     "text": [
      "Training epoch: 136 / 10000: 100%|██████████| 23/23 [00:02<00:00,  8.18batch/s]\n",
      "Validating epoch: 136 / 10000: 100%|██████████| 6/6 [00:00<00:00, 11.09batch/s]\n"
     ]
    },
    {
     "name": "stdout",
     "output_type": "stream",
     "text": [
      "          Average train loss: 1.23859\n",
      "          Average test loss: 0.82561\n",
      "\n"
     ]
    },
    {
     "name": "stderr",
     "output_type": "stream",
     "text": [
      "Training epoch: 137 / 10000: 100%|██████████| 23/23 [00:02<00:00,  8.43batch/s]\n",
      "Validating epoch: 137 / 10000: 100%|██████████| 6/6 [00:00<00:00, 11.65batch/s]\n"
     ]
    },
    {
     "name": "stdout",
     "output_type": "stream",
     "text": [
      "          Average train loss: 1.22051\n",
      "          Average test loss: 0.80660\n",
      "\n"
     ]
    },
    {
     "name": "stderr",
     "output_type": "stream",
     "text": [
      "Training epoch: 138 / 10000: 100%|██████████| 23/23 [00:02<00:00,  8.35batch/s]\n",
      "Validating epoch: 138 / 10000: 100%|██████████| 6/6 [00:00<00:00, 11.07batch/s]\n"
     ]
    },
    {
     "name": "stdout",
     "output_type": "stream",
     "text": [
      "          Average train loss: 1.22601\n",
      "          Average test loss: 0.82592\n",
      "\n"
     ]
    },
    {
     "name": "stderr",
     "output_type": "stream",
     "text": [
      "Training epoch: 139 / 10000: 100%|██████████| 23/23 [00:02<00:00,  8.45batch/s]\n",
      "Validating epoch: 139 / 10000: 100%|██████████| 6/6 [00:00<00:00, 11.76batch/s]\n"
     ]
    },
    {
     "name": "stdout",
     "output_type": "stream",
     "text": [
      "          Average train loss: 1.22131\n",
      "          Average test loss: 0.78804\n",
      "\n"
     ]
    },
    {
     "name": "stderr",
     "output_type": "stream",
     "text": [
      "Training epoch: 140 / 10000: 100%|██████████| 23/23 [00:02<00:00,  8.18batch/s]\n",
      "Validating epoch: 140 / 10000: 100%|██████████| 6/6 [00:00<00:00, 12.06batch/s]\n"
     ]
    },
    {
     "name": "stdout",
     "output_type": "stream",
     "text": [
      "          Average train loss: 1.22713\n",
      "          Average test loss: 0.79535\n",
      "\n"
     ]
    },
    {
     "name": "stderr",
     "output_type": "stream",
     "text": [
      "Training epoch: 141 / 10000: 100%|██████████| 23/23 [00:02<00:00,  8.55batch/s]\n",
      "Validating epoch: 141 / 10000: 100%|██████████| 6/6 [00:00<00:00, 10.91batch/s]\n"
     ]
    },
    {
     "name": "stdout",
     "output_type": "stream",
     "text": [
      "          Average train loss: 1.21254\n",
      "          Average test loss: 0.77235\n",
      "\n"
     ]
    },
    {
     "name": "stderr",
     "output_type": "stream",
     "text": [
      "Training epoch: 142 / 10000: 100%|██████████| 23/23 [00:02<00:00,  8.51batch/s]\n",
      "Validating epoch: 142 / 10000: 100%|██████████| 6/6 [00:00<00:00, 10.04batch/s]\n"
     ]
    },
    {
     "name": "stdout",
     "output_type": "stream",
     "text": [
      "          Average train loss: 1.21417\n",
      "          Average test loss: 0.78717\n",
      "\n"
     ]
    },
    {
     "name": "stderr",
     "output_type": "stream",
     "text": [
      "Training epoch: 143 / 10000: 100%|██████████| 23/23 [00:02<00:00,  8.23batch/s]\n",
      "Validating epoch: 143 / 10000: 100%|██████████| 6/6 [00:00<00:00,  9.51batch/s]\n"
     ]
    },
    {
     "name": "stdout",
     "output_type": "stream",
     "text": [
      "          Average train loss: 1.21851\n",
      "          Average test loss: 0.80532\n",
      "\n"
     ]
    },
    {
     "name": "stderr",
     "output_type": "stream",
     "text": [
      "Training epoch: 144 / 10000: 100%|██████████| 23/23 [00:02<00:00,  8.09batch/s]\n",
      "Validating epoch: 144 / 10000: 100%|██████████| 6/6 [00:00<00:00, 10.16batch/s]\n"
     ]
    },
    {
     "name": "stdout",
     "output_type": "stream",
     "text": [
      "          Average train loss: 1.21205\n",
      "          Average test loss: 0.79185\n",
      "\n"
     ]
    },
    {
     "name": "stderr",
     "output_type": "stream",
     "text": [
      "Training epoch: 145 / 10000: 100%|██████████| 23/23 [00:02<00:00,  8.57batch/s]\n",
      "Validating epoch: 145 / 10000: 100%|██████████| 6/6 [00:00<00:00, 10.74batch/s]\n"
     ]
    },
    {
     "name": "stdout",
     "output_type": "stream",
     "text": [
      "          Average train loss: 1.20924\n",
      "          Average test loss: 0.81515\n",
      "\n"
     ]
    },
    {
     "name": "stderr",
     "output_type": "stream",
     "text": [
      "Training epoch: 146 / 10000: 100%|██████████| 23/23 [00:02<00:00,  8.49batch/s]\n",
      "Validating epoch: 146 / 10000: 100%|██████████| 6/6 [00:00<00:00, 10.35batch/s]\n"
     ]
    },
    {
     "name": "stdout",
     "output_type": "stream",
     "text": [
      "          Average train loss: 1.20752\n",
      "          Average test loss: 0.82245\n",
      "\n"
     ]
    },
    {
     "name": "stderr",
     "output_type": "stream",
     "text": [
      "Training epoch: 147 / 10000: 100%|██████████| 23/23 [00:02<00:00,  8.49batch/s]\n",
      "Validating epoch: 147 / 10000: 100%|██████████| 6/6 [00:00<00:00, 11.24batch/s]\n"
     ]
    },
    {
     "name": "stdout",
     "output_type": "stream",
     "text": [
      "          Average train loss: 1.22067\n",
      "          Average test loss: 0.82030\n",
      "\n"
     ]
    },
    {
     "name": "stderr",
     "output_type": "stream",
     "text": [
      "Training epoch: 148 / 10000: 100%|██████████| 23/23 [00:02<00:00,  8.23batch/s]\n",
      "Validating epoch: 148 / 10000: 100%|██████████| 6/6 [00:00<00:00, 10.21batch/s]\n"
     ]
    },
    {
     "name": "stdout",
     "output_type": "stream",
     "text": [
      "          Average train loss: 1.21006\n",
      "          Average test loss: 0.78975\n",
      "\n"
     ]
    },
    {
     "name": "stderr",
     "output_type": "stream",
     "text": [
      "Training epoch: 149 / 10000: 100%|██████████| 23/23 [00:02<00:00,  8.32batch/s]\n",
      "Validating epoch: 149 / 10000: 100%|██████████| 6/6 [00:00<00:00, 11.47batch/s]\n"
     ]
    },
    {
     "name": "stdout",
     "output_type": "stream",
     "text": [
      "          Average train loss: 1.19882\n",
      "          Average test loss: 0.76745\n",
      "\n"
     ]
    },
    {
     "name": "stderr",
     "output_type": "stream",
     "text": [
      "Training epoch: 150 / 10000: 100%|██████████| 23/23 [00:02<00:00,  8.18batch/s]\n",
      "Validating epoch: 150 / 10000: 100%|██████████| 6/6 [00:00<00:00, 11.00batch/s]\n"
     ]
    },
    {
     "name": "stdout",
     "output_type": "stream",
     "text": [
      "          Average train loss: 1.21115\n",
      "          Average test loss: 0.81152\n",
      "\n"
     ]
    },
    {
     "name": "stderr",
     "output_type": "stream",
     "text": [
      "Training epoch: 151 / 10000: 100%|██████████| 23/23 [00:02<00:00,  8.46batch/s]\n",
      "Validating epoch: 151 / 10000: 100%|██████████| 6/6 [00:00<00:00, 12.19batch/s]\n"
     ]
    },
    {
     "name": "stdout",
     "output_type": "stream",
     "text": [
      "          Average train loss: 1.19650\n",
      "          Average test loss: 0.77690\n",
      "\n"
     ]
    },
    {
     "name": "stderr",
     "output_type": "stream",
     "text": [
      "Training epoch: 152 / 10000: 100%|██████████| 23/23 [00:02<00:00,  8.35batch/s]\n",
      "Validating epoch: 152 / 10000: 100%|██████████| 6/6 [00:00<00:00, 10.83batch/s]\n"
     ]
    },
    {
     "name": "stdout",
     "output_type": "stream",
     "text": [
      "          Average train loss: 1.19350\n",
      "          Average test loss: 0.81046\n",
      "\n"
     ]
    },
    {
     "name": "stderr",
     "output_type": "stream",
     "text": [
      "Training epoch: 153 / 10000: 100%|██████████| 23/23 [00:02<00:00,  8.23batch/s]\n",
      "Validating epoch: 153 / 10000: 100%|██████████| 6/6 [00:00<00:00, 10.91batch/s]\n"
     ]
    },
    {
     "name": "stdout",
     "output_type": "stream",
     "text": [
      "          Average train loss: 1.20271\n",
      "          Average test loss: 0.78513\n",
      "\n"
     ]
    },
    {
     "name": "stderr",
     "output_type": "stream",
     "text": [
      "Training epoch: 154 / 10000: 100%|██████████| 23/23 [00:02<00:00,  8.38batch/s]\n",
      "Validating epoch: 154 / 10000: 100%|██████████| 6/6 [00:00<00:00, 12.15batch/s]\n"
     ]
    },
    {
     "name": "stdout",
     "output_type": "stream",
     "text": [
      "          Average train loss: 1.20138\n",
      "          Average test loss: 0.76533\n",
      "\n"
     ]
    },
    {
     "name": "stderr",
     "output_type": "stream",
     "text": [
      "Training epoch: 155 / 10000: 100%|██████████| 23/23 [00:02<00:00,  8.71batch/s]\n",
      "Validating epoch: 155 / 10000: 100%|██████████| 6/6 [00:00<00:00, 11.45batch/s]\n"
     ]
    },
    {
     "name": "stdout",
     "output_type": "stream",
     "text": [
      "          Average train loss: 1.19342\n",
      "          Average test loss: 0.74403\n",
      "\n"
     ]
    },
    {
     "name": "stderr",
     "output_type": "stream",
     "text": [
      "Training epoch: 156 / 10000: 100%|██████████| 23/23 [00:02<00:00,  8.86batch/s]\n",
      "Validating epoch: 156 / 10000: 100%|██████████| 6/6 [00:00<00:00, 10.52batch/s]\n"
     ]
    },
    {
     "name": "stdout",
     "output_type": "stream",
     "text": [
      "          Average train loss: 1.18564\n",
      "          Average test loss: 0.78397\n",
      "\n"
     ]
    },
    {
     "name": "stderr",
     "output_type": "stream",
     "text": [
      "Training epoch: 157 / 10000: 100%|██████████| 23/23 [00:02<00:00,  8.60batch/s]\n",
      "Validating epoch: 157 / 10000: 100%|██████████| 6/6 [00:00<00:00, 10.78batch/s]\n"
     ]
    },
    {
     "name": "stdout",
     "output_type": "stream",
     "text": [
      "          Average train loss: 1.19279\n",
      "          Average test loss: 0.78151\n",
      "\n"
     ]
    },
    {
     "name": "stderr",
     "output_type": "stream",
     "text": [
      "Training epoch: 158 / 10000: 100%|██████████| 23/23 [00:02<00:00,  8.15batch/s]\n",
      "Validating epoch: 158 / 10000: 100%|██████████| 6/6 [00:00<00:00, 11.05batch/s]\n"
     ]
    },
    {
     "name": "stdout",
     "output_type": "stream",
     "text": [
      "          Average train loss: 1.19611\n",
      "          Average test loss: 0.78566\n",
      "\n"
     ]
    },
    {
     "name": "stderr",
     "output_type": "stream",
     "text": [
      "Training epoch: 159 / 10000: 100%|██████████| 23/23 [00:02<00:00,  8.47batch/s]\n",
      "Validating epoch: 159 / 10000: 100%|██████████| 6/6 [00:00<00:00, 11.08batch/s]\n"
     ]
    },
    {
     "name": "stdout",
     "output_type": "stream",
     "text": [
      "          Average train loss: 1.18065\n",
      "          Average test loss: 0.75501\n",
      "\n"
     ]
    },
    {
     "name": "stderr",
     "output_type": "stream",
     "text": [
      "Training epoch: 160 / 10000: 100%|██████████| 23/23 [00:02<00:00,  8.80batch/s]\n",
      "Validating epoch: 160 / 10000: 100%|██████████| 6/6 [00:00<00:00, 11.29batch/s]\n"
     ]
    },
    {
     "name": "stdout",
     "output_type": "stream",
     "text": [
      "          Average train loss: 1.17906\n",
      "          Average test loss: 0.76329\n",
      "\n"
     ]
    },
    {
     "name": "stderr",
     "output_type": "stream",
     "text": [
      "Training epoch: 161 / 10000: 100%|██████████| 23/23 [00:02<00:00,  8.41batch/s]\n",
      "Validating epoch: 161 / 10000: 100%|██████████| 6/6 [00:00<00:00, 11.20batch/s]\n"
     ]
    },
    {
     "name": "stdout",
     "output_type": "stream",
     "text": [
      "          Average train loss: 1.17937\n",
      "          Average test loss: 0.76973\n",
      "\n"
     ]
    },
    {
     "name": "stderr",
     "output_type": "stream",
     "text": [
      "Training epoch: 162 / 10000: 100%|██████████| 23/23 [00:02<00:00,  8.79batch/s]\n",
      "Validating epoch: 162 / 10000: 100%|██████████| 6/6 [00:00<00:00, 11.52batch/s]\n"
     ]
    },
    {
     "name": "stdout",
     "output_type": "stream",
     "text": [
      "          Average train loss: 1.18210\n",
      "          Average test loss: 0.76501\n",
      "\n"
     ]
    },
    {
     "name": "stderr",
     "output_type": "stream",
     "text": [
      "Training epoch: 163 / 10000: 100%|██████████| 23/23 [00:02<00:00,  8.28batch/s]\n",
      "Validating epoch: 163 / 10000: 100%|██████████| 6/6 [00:00<00:00, 10.85batch/s]\n"
     ]
    },
    {
     "name": "stdout",
     "output_type": "stream",
     "text": [
      "          Average train loss: 1.17936\n",
      "          Average test loss: 0.76530\n",
      "\n"
     ]
    },
    {
     "name": "stderr",
     "output_type": "stream",
     "text": [
      "Training epoch: 164 / 10000: 100%|██████████| 23/23 [00:02<00:00,  7.79batch/s]\n",
      "Validating epoch: 164 / 10000: 100%|██████████| 6/6 [00:00<00:00,  9.84batch/s]\n"
     ]
    },
    {
     "name": "stdout",
     "output_type": "stream",
     "text": [
      "          Average train loss: 1.16968\n",
      "          Average test loss: 0.74424\n",
      "\n"
     ]
    },
    {
     "name": "stderr",
     "output_type": "stream",
     "text": [
      "Training epoch: 165 / 10000: 100%|██████████| 23/23 [00:02<00:00,  8.31batch/s]\n",
      "Validating epoch: 165 / 10000: 100%|██████████| 6/6 [00:00<00:00, 11.04batch/s]\n"
     ]
    },
    {
     "name": "stdout",
     "output_type": "stream",
     "text": [
      "          Average train loss: 1.17483\n",
      "          Average test loss: 0.76742\n",
      "\n",
      "Model is going overfit\n"
     ]
    }
   ],
   "source": [
    "torch.manual_seed(7800)\n",
    "model = poseLandmark()\n",
    "lossFn = nn.L1Loss()\n",
    "optimizer = optim.AdamW(model.parameters(), lr=0.00001)\n",
    "scaler = amp.GradScaler()\n",
    "history = train(model=model,\n",
    "                epochs=10000,\n",
    "                scaler=scaler,\n",
    "                lossFn=lossFn,\n",
    "                optimizer=optimizer,\n",
    "                trainLoader=trainLoader,\n",
    "                validationLoader=testLoader,\n",
    "                checkpointPath=parentDir.joinpath(\"model/poseLandmark.pth\"),\n",
    "                overfitDelta=0)"
   ]
  },
  {
   "cell_type": "code",
   "execution_count": null,
   "metadata": {},
   "outputs": [],
   "source": [
    "torch.cuda.empty_cache()"
   ]
  }
 ],
 "metadata": {
  "kernelspec": {
   "display_name": "torch",
   "language": "python",
   "name": "python3"
  },
  "language_info": {
   "codemirror_mode": {
    "name": "ipython",
    "version": 3
   },
   "file_extension": ".py",
   "mimetype": "text/x-python",
   "name": "python",
   "nbconvert_exporter": "python",
   "pygments_lexer": "ipython3",
   "version": "3.11.9"
  }
 },
 "nbformat": 4,
 "nbformat_minor": 2
}
